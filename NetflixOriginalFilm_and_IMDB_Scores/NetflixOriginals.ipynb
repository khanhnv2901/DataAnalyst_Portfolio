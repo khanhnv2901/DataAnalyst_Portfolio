{
 "cells": [
  {
   "cell_type": "markdown",
   "metadata": {},
   "source": [
    "# Context"
   ]
  },
  {
   "cell_type": "markdown",
   "metadata": {},
   "source": [
    "*This dataset consists of all Netflix original films released as of June 1st, 2021. Additionally, it also includes all Netflix documentaries and specials. The data was webscraped off of this Wikipedia page, which was then integrated with a dataset consisting of all of their corresponding IMDB scores. IMDB scores are voted on by community members, and the majority of the films have 1,000+ reviews.*"
   ]
  },
  {
   "cell_type": "markdown",
   "metadata": {},
   "source": [
    "#### Data available at: *https://www.kaggle.com/luiscorter/netflix-original-films-imdb-scores*"
   ]
  },
  {
   "cell_type": "markdown",
   "metadata": {},
   "source": [
    "## Import Data and Libraries"
   ]
  },
  {
   "cell_type": "code",
   "execution_count": 44,
   "metadata": {},
   "outputs": [],
   "source": [
    "import pandas as pd\n",
    "import plotly.express as px\n",
    "import plotly.graph_objects as go\n",
    "import plotly.figure_factory as ff\n",
    "import seaborn as sns\n",
    "import matplotlib.pyplot as plt"
   ]
  },
  {
   "cell_type": "code",
   "execution_count": 3,
   "metadata": {},
   "outputs": [
    {
     "data": {
      "text/html": [
       "<div>\n",
       "<style scoped>\n",
       "    .dataframe tbody tr th:only-of-type {\n",
       "        vertical-align: middle;\n",
       "    }\n",
       "\n",
       "    .dataframe tbody tr th {\n",
       "        vertical-align: top;\n",
       "    }\n",
       "\n",
       "    .dataframe thead th {\n",
       "        text-align: right;\n",
       "    }\n",
       "</style>\n",
       "<table border=\"1\" class=\"dataframe\">\n",
       "  <thead>\n",
       "    <tr style=\"text-align: right;\">\n",
       "      <th></th>\n",
       "      <th>Title</th>\n",
       "      <th>Genre</th>\n",
       "      <th>Premiere</th>\n",
       "      <th>Runtime</th>\n",
       "      <th>IMDB Score</th>\n",
       "      <th>Language</th>\n",
       "    </tr>\n",
       "  </thead>\n",
       "  <tbody>\n",
       "    <tr>\n",
       "      <th>0</th>\n",
       "      <td>Enter the Anime</td>\n",
       "      <td>Documentary</td>\n",
       "      <td>August 5, 2019</td>\n",
       "      <td>58</td>\n",
       "      <td>2.5</td>\n",
       "      <td>English/Japanese</td>\n",
       "    </tr>\n",
       "    <tr>\n",
       "      <th>1</th>\n",
       "      <td>Dark Forces</td>\n",
       "      <td>Thriller</td>\n",
       "      <td>August 21, 2020</td>\n",
       "      <td>81</td>\n",
       "      <td>2.6</td>\n",
       "      <td>Spanish</td>\n",
       "    </tr>\n",
       "    <tr>\n",
       "      <th>2</th>\n",
       "      <td>The App</td>\n",
       "      <td>Science fiction/Drama</td>\n",
       "      <td>December 26, 2019</td>\n",
       "      <td>79</td>\n",
       "      <td>2.6</td>\n",
       "      <td>Italian</td>\n",
       "    </tr>\n",
       "    <tr>\n",
       "      <th>3</th>\n",
       "      <td>The Open House</td>\n",
       "      <td>Horror thriller</td>\n",
       "      <td>January 19, 2018</td>\n",
       "      <td>94</td>\n",
       "      <td>3.2</td>\n",
       "      <td>English</td>\n",
       "    </tr>\n",
       "    <tr>\n",
       "      <th>4</th>\n",
       "      <td>Kaali Khuhi</td>\n",
       "      <td>Mystery</td>\n",
       "      <td>October 30, 2020</td>\n",
       "      <td>90</td>\n",
       "      <td>3.4</td>\n",
       "      <td>Hindi</td>\n",
       "    </tr>\n",
       "    <tr>\n",
       "      <th>...</th>\n",
       "      <td>...</td>\n",
       "      <td>...</td>\n",
       "      <td>...</td>\n",
       "      <td>...</td>\n",
       "      <td>...</td>\n",
       "      <td>...</td>\n",
       "    </tr>\n",
       "    <tr>\n",
       "      <th>579</th>\n",
       "      <td>Taylor Swift: Reputation Stadium Tour</td>\n",
       "      <td>Concert Film</td>\n",
       "      <td>December 31, 2018</td>\n",
       "      <td>125</td>\n",
       "      <td>8.4</td>\n",
       "      <td>English</td>\n",
       "    </tr>\n",
       "    <tr>\n",
       "      <th>580</th>\n",
       "      <td>Winter on Fire: Ukraine's Fight for Freedom</td>\n",
       "      <td>Documentary</td>\n",
       "      <td>October 9, 2015</td>\n",
       "      <td>91</td>\n",
       "      <td>8.4</td>\n",
       "      <td>English/Ukranian/Russian</td>\n",
       "    </tr>\n",
       "    <tr>\n",
       "      <th>581</th>\n",
       "      <td>Springsteen on Broadway</td>\n",
       "      <td>One-man show</td>\n",
       "      <td>December 16, 2018</td>\n",
       "      <td>153</td>\n",
       "      <td>8.5</td>\n",
       "      <td>English</td>\n",
       "    </tr>\n",
       "    <tr>\n",
       "      <th>582</th>\n",
       "      <td>Emicida: AmarElo - It's All For Yesterday</td>\n",
       "      <td>Documentary</td>\n",
       "      <td>December 8, 2020</td>\n",
       "      <td>89</td>\n",
       "      <td>8.6</td>\n",
       "      <td>Portuguese</td>\n",
       "    </tr>\n",
       "    <tr>\n",
       "      <th>583</th>\n",
       "      <td>David Attenborough: A Life on Our Planet</td>\n",
       "      <td>Documentary</td>\n",
       "      <td>October 4, 2020</td>\n",
       "      <td>83</td>\n",
       "      <td>9.0</td>\n",
       "      <td>English</td>\n",
       "    </tr>\n",
       "  </tbody>\n",
       "</table>\n",
       "<p>584 rows × 6 columns</p>\n",
       "</div>"
      ],
      "text/plain": [
       "                                           Title                  Genre  \\\n",
       "0                                Enter the Anime            Documentary   \n",
       "1                                    Dark Forces               Thriller   \n",
       "2                                        The App  Science fiction/Drama   \n",
       "3                                 The Open House        Horror thriller   \n",
       "4                                    Kaali Khuhi                Mystery   \n",
       "..                                           ...                    ...   \n",
       "579        Taylor Swift: Reputation Stadium Tour           Concert Film   \n",
       "580  Winter on Fire: Ukraine's Fight for Freedom            Documentary   \n",
       "581                      Springsteen on Broadway           One-man show   \n",
       "582    Emicida: AmarElo - It's All For Yesterday            Documentary   \n",
       "583     David Attenborough: A Life on Our Planet            Documentary   \n",
       "\n",
       "              Premiere  Runtime  IMDB Score                  Language  \n",
       "0       August 5, 2019       58         2.5          English/Japanese  \n",
       "1      August 21, 2020       81         2.6                   Spanish  \n",
       "2    December 26, 2019       79         2.6                   Italian  \n",
       "3     January 19, 2018       94         3.2                   English  \n",
       "4     October 30, 2020       90         3.4                     Hindi  \n",
       "..                 ...      ...         ...                       ...  \n",
       "579  December 31, 2018      125         8.4                   English  \n",
       "580    October 9, 2015       91         8.4  English/Ukranian/Russian  \n",
       "581  December 16, 2018      153         8.5                   English  \n",
       "582   December 8, 2020       89         8.6                Portuguese  \n",
       "583    October 4, 2020       83         9.0                   English  \n",
       "\n",
       "[584 rows x 6 columns]"
      ]
     },
     "execution_count": 3,
     "metadata": {},
     "output_type": "execute_result"
    }
   ],
   "source": [
    "df = pd.read_csv('NetflixOriginals.csv', encoding='ISO-8859-1')\n",
    "df"
   ]
  },
  {
   "cell_type": "markdown",
   "metadata": {},
   "source": [
    "## EDA"
   ]
  },
  {
   "cell_type": "markdown",
   "metadata": {},
   "source": [
    "### Change 'Premiere' to datetime type"
   ]
  },
  {
   "cell_type": "code",
   "execution_count": 4,
   "metadata": {},
   "outputs": [
    {
     "data": {
      "text/plain": [
       "Index(['Title', 'Genre', 'Premiere', 'Runtime', 'IMDB Score', 'Language'], dtype='object')"
      ]
     },
     "execution_count": 4,
     "metadata": {},
     "output_type": "execute_result"
    }
   ],
   "source": [
    "df.columns"
   ]
  },
  {
   "cell_type": "code",
   "execution_count": 5,
   "metadata": {},
   "outputs": [
    {
     "data": {
      "text/plain": [
       "Title         0\n",
       "Genre         0\n",
       "Premiere      0\n",
       "Runtime       0\n",
       "IMDB Score    0\n",
       "Language      0\n",
       "dtype: int64"
      ]
     },
     "execution_count": 5,
     "metadata": {},
     "output_type": "execute_result"
    }
   ],
   "source": [
    "df.isna().sum()"
   ]
  },
  {
   "cell_type": "code",
   "execution_count": 6,
   "metadata": {},
   "outputs": [
    {
     "data": {
      "text/html": [
       "<div>\n",
       "<style scoped>\n",
       "    .dataframe tbody tr th:only-of-type {\n",
       "        vertical-align: middle;\n",
       "    }\n",
       "\n",
       "    .dataframe tbody tr th {\n",
       "        vertical-align: top;\n",
       "    }\n",
       "\n",
       "    .dataframe thead th {\n",
       "        text-align: right;\n",
       "    }\n",
       "</style>\n",
       "<table border=\"1\" class=\"dataframe\">\n",
       "  <thead>\n",
       "    <tr style=\"text-align: right;\">\n",
       "      <th></th>\n",
       "      <th>Title</th>\n",
       "      <th>Genre</th>\n",
       "      <th>Premiere</th>\n",
       "      <th>Runtime</th>\n",
       "      <th>IMDB Score</th>\n",
       "      <th>Language</th>\n",
       "    </tr>\n",
       "  </thead>\n",
       "  <tbody>\n",
       "    <tr>\n",
       "      <th>0</th>\n",
       "      <td>Enter the Anime</td>\n",
       "      <td>Documentary</td>\n",
       "      <td>2019-08-05</td>\n",
       "      <td>58</td>\n",
       "      <td>2.5</td>\n",
       "      <td>English/Japanese</td>\n",
       "    </tr>\n",
       "    <tr>\n",
       "      <th>1</th>\n",
       "      <td>Dark Forces</td>\n",
       "      <td>Thriller</td>\n",
       "      <td>2020-08-21</td>\n",
       "      <td>81</td>\n",
       "      <td>2.6</td>\n",
       "      <td>Spanish</td>\n",
       "    </tr>\n",
       "    <tr>\n",
       "      <th>2</th>\n",
       "      <td>The App</td>\n",
       "      <td>Science fiction/Drama</td>\n",
       "      <td>2019-12-26</td>\n",
       "      <td>79</td>\n",
       "      <td>2.6</td>\n",
       "      <td>Italian</td>\n",
       "    </tr>\n",
       "    <tr>\n",
       "      <th>3</th>\n",
       "      <td>The Open House</td>\n",
       "      <td>Horror thriller</td>\n",
       "      <td>2018-01-19</td>\n",
       "      <td>94</td>\n",
       "      <td>3.2</td>\n",
       "      <td>English</td>\n",
       "    </tr>\n",
       "    <tr>\n",
       "      <th>4</th>\n",
       "      <td>Kaali Khuhi</td>\n",
       "      <td>Mystery</td>\n",
       "      <td>2020-10-30</td>\n",
       "      <td>90</td>\n",
       "      <td>3.4</td>\n",
       "      <td>Hindi</td>\n",
       "    </tr>\n",
       "    <tr>\n",
       "      <th>...</th>\n",
       "      <td>...</td>\n",
       "      <td>...</td>\n",
       "      <td>...</td>\n",
       "      <td>...</td>\n",
       "      <td>...</td>\n",
       "      <td>...</td>\n",
       "    </tr>\n",
       "    <tr>\n",
       "      <th>579</th>\n",
       "      <td>Taylor Swift: Reputation Stadium Tour</td>\n",
       "      <td>Concert Film</td>\n",
       "      <td>2018-12-31</td>\n",
       "      <td>125</td>\n",
       "      <td>8.4</td>\n",
       "      <td>English</td>\n",
       "    </tr>\n",
       "    <tr>\n",
       "      <th>580</th>\n",
       "      <td>Winter on Fire: Ukraine's Fight for Freedom</td>\n",
       "      <td>Documentary</td>\n",
       "      <td>2015-10-09</td>\n",
       "      <td>91</td>\n",
       "      <td>8.4</td>\n",
       "      <td>English/Ukranian/Russian</td>\n",
       "    </tr>\n",
       "    <tr>\n",
       "      <th>581</th>\n",
       "      <td>Springsteen on Broadway</td>\n",
       "      <td>One-man show</td>\n",
       "      <td>2018-12-16</td>\n",
       "      <td>153</td>\n",
       "      <td>8.5</td>\n",
       "      <td>English</td>\n",
       "    </tr>\n",
       "    <tr>\n",
       "      <th>582</th>\n",
       "      <td>Emicida: AmarElo - It's All For Yesterday</td>\n",
       "      <td>Documentary</td>\n",
       "      <td>2020-12-08</td>\n",
       "      <td>89</td>\n",
       "      <td>8.6</td>\n",
       "      <td>Portuguese</td>\n",
       "    </tr>\n",
       "    <tr>\n",
       "      <th>583</th>\n",
       "      <td>David Attenborough: A Life on Our Planet</td>\n",
       "      <td>Documentary</td>\n",
       "      <td>2020-10-04</td>\n",
       "      <td>83</td>\n",
       "      <td>9.0</td>\n",
       "      <td>English</td>\n",
       "    </tr>\n",
       "  </tbody>\n",
       "</table>\n",
       "<p>584 rows × 6 columns</p>\n",
       "</div>"
      ],
      "text/plain": [
       "                                           Title                  Genre  \\\n",
       "0                                Enter the Anime            Documentary   \n",
       "1                                    Dark Forces               Thriller   \n",
       "2                                        The App  Science fiction/Drama   \n",
       "3                                 The Open House        Horror thriller   \n",
       "4                                    Kaali Khuhi                Mystery   \n",
       "..                                           ...                    ...   \n",
       "579        Taylor Swift: Reputation Stadium Tour           Concert Film   \n",
       "580  Winter on Fire: Ukraine's Fight for Freedom            Documentary   \n",
       "581                      Springsteen on Broadway           One-man show   \n",
       "582    Emicida: AmarElo - It's All For Yesterday            Documentary   \n",
       "583     David Attenborough: A Life on Our Planet            Documentary   \n",
       "\n",
       "      Premiere  Runtime  IMDB Score                  Language  \n",
       "0   2019-08-05       58         2.5          English/Japanese  \n",
       "1   2020-08-21       81         2.6                   Spanish  \n",
       "2   2019-12-26       79         2.6                   Italian  \n",
       "3   2018-01-19       94         3.2                   English  \n",
       "4   2020-10-30       90         3.4                     Hindi  \n",
       "..         ...      ...         ...                       ...  \n",
       "579 2018-12-31      125         8.4                   English  \n",
       "580 2015-10-09       91         8.4  English/Ukranian/Russian  \n",
       "581 2018-12-16      153         8.5                   English  \n",
       "582 2020-12-08       89         8.6                Portuguese  \n",
       "583 2020-10-04       83         9.0                   English  \n",
       "\n",
       "[584 rows x 6 columns]"
      ]
     },
     "execution_count": 6,
     "metadata": {},
     "output_type": "execute_result"
    }
   ],
   "source": [
    "df['Premiere'] = pd.to_datetime(df['Premiere'])\n",
    "df"
   ]
  },
  {
   "cell_type": "code",
   "execution_count": 7,
   "metadata": {},
   "outputs": [
    {
     "data": {
      "text/plain": [
       "Title                 object\n",
       "Genre                 object\n",
       "Premiere      datetime64[ns]\n",
       "Runtime                int64\n",
       "IMDB Score           float64\n",
       "Language              object\n",
       "dtype: object"
      ]
     },
     "execution_count": 7,
     "metadata": {},
     "output_type": "execute_result"
    }
   ],
   "source": [
    "df.dtypes"
   ]
  },
  {
   "cell_type": "markdown",
   "metadata": {},
   "source": [
    "### 1. Date Analysis"
   ]
  },
  {
   "cell_type": "code",
   "execution_count": 8,
   "metadata": {},
   "outputs": [
    {
     "data": {
      "text/html": [
       "<div>\n",
       "<style scoped>\n",
       "    .dataframe tbody tr th:only-of-type {\n",
       "        vertical-align: middle;\n",
       "    }\n",
       "\n",
       "    .dataframe tbody tr th {\n",
       "        vertical-align: top;\n",
       "    }\n",
       "\n",
       "    .dataframe thead th {\n",
       "        text-align: right;\n",
       "    }\n",
       "</style>\n",
       "<table border=\"1\" class=\"dataframe\">\n",
       "  <thead>\n",
       "    <tr style=\"text-align: right;\">\n",
       "      <th></th>\n",
       "      <th>Title</th>\n",
       "      <th>Genre</th>\n",
       "      <th>Premiere</th>\n",
       "      <th>Runtime</th>\n",
       "      <th>IMDB Score</th>\n",
       "      <th>Language</th>\n",
       "      <th>Premiere_year</th>\n",
       "      <th>Premiere_month</th>\n",
       "      <th>Premiere_day</th>\n",
       "    </tr>\n",
       "  </thead>\n",
       "  <tbody>\n",
       "    <tr>\n",
       "      <th>0</th>\n",
       "      <td>Enter the Anime</td>\n",
       "      <td>Documentary</td>\n",
       "      <td>2019-08-05</td>\n",
       "      <td>58</td>\n",
       "      <td>2.5</td>\n",
       "      <td>English/Japanese</td>\n",
       "      <td>2019</td>\n",
       "      <td>8</td>\n",
       "      <td>5</td>\n",
       "    </tr>\n",
       "    <tr>\n",
       "      <th>1</th>\n",
       "      <td>Dark Forces</td>\n",
       "      <td>Thriller</td>\n",
       "      <td>2020-08-21</td>\n",
       "      <td>81</td>\n",
       "      <td>2.6</td>\n",
       "      <td>Spanish</td>\n",
       "      <td>2020</td>\n",
       "      <td>8</td>\n",
       "      <td>21</td>\n",
       "    </tr>\n",
       "    <tr>\n",
       "      <th>2</th>\n",
       "      <td>The App</td>\n",
       "      <td>Science fiction/Drama</td>\n",
       "      <td>2019-12-26</td>\n",
       "      <td>79</td>\n",
       "      <td>2.6</td>\n",
       "      <td>Italian</td>\n",
       "      <td>2019</td>\n",
       "      <td>12</td>\n",
       "      <td>26</td>\n",
       "    </tr>\n",
       "    <tr>\n",
       "      <th>3</th>\n",
       "      <td>The Open House</td>\n",
       "      <td>Horror thriller</td>\n",
       "      <td>2018-01-19</td>\n",
       "      <td>94</td>\n",
       "      <td>3.2</td>\n",
       "      <td>English</td>\n",
       "      <td>2018</td>\n",
       "      <td>1</td>\n",
       "      <td>19</td>\n",
       "    </tr>\n",
       "    <tr>\n",
       "      <th>4</th>\n",
       "      <td>Kaali Khuhi</td>\n",
       "      <td>Mystery</td>\n",
       "      <td>2020-10-30</td>\n",
       "      <td>90</td>\n",
       "      <td>3.4</td>\n",
       "      <td>Hindi</td>\n",
       "      <td>2020</td>\n",
       "      <td>10</td>\n",
       "      <td>30</td>\n",
       "    </tr>\n",
       "    <tr>\n",
       "      <th>...</th>\n",
       "      <td>...</td>\n",
       "      <td>...</td>\n",
       "      <td>...</td>\n",
       "      <td>...</td>\n",
       "      <td>...</td>\n",
       "      <td>...</td>\n",
       "      <td>...</td>\n",
       "      <td>...</td>\n",
       "      <td>...</td>\n",
       "    </tr>\n",
       "    <tr>\n",
       "      <th>579</th>\n",
       "      <td>Taylor Swift: Reputation Stadium Tour</td>\n",
       "      <td>Concert Film</td>\n",
       "      <td>2018-12-31</td>\n",
       "      <td>125</td>\n",
       "      <td>8.4</td>\n",
       "      <td>English</td>\n",
       "      <td>2018</td>\n",
       "      <td>12</td>\n",
       "      <td>31</td>\n",
       "    </tr>\n",
       "    <tr>\n",
       "      <th>580</th>\n",
       "      <td>Winter on Fire: Ukraine's Fight for Freedom</td>\n",
       "      <td>Documentary</td>\n",
       "      <td>2015-10-09</td>\n",
       "      <td>91</td>\n",
       "      <td>8.4</td>\n",
       "      <td>English/Ukranian/Russian</td>\n",
       "      <td>2015</td>\n",
       "      <td>10</td>\n",
       "      <td>9</td>\n",
       "    </tr>\n",
       "    <tr>\n",
       "      <th>581</th>\n",
       "      <td>Springsteen on Broadway</td>\n",
       "      <td>One-man show</td>\n",
       "      <td>2018-12-16</td>\n",
       "      <td>153</td>\n",
       "      <td>8.5</td>\n",
       "      <td>English</td>\n",
       "      <td>2018</td>\n",
       "      <td>12</td>\n",
       "      <td>16</td>\n",
       "    </tr>\n",
       "    <tr>\n",
       "      <th>582</th>\n",
       "      <td>Emicida: AmarElo - It's All For Yesterday</td>\n",
       "      <td>Documentary</td>\n",
       "      <td>2020-12-08</td>\n",
       "      <td>89</td>\n",
       "      <td>8.6</td>\n",
       "      <td>Portuguese</td>\n",
       "      <td>2020</td>\n",
       "      <td>12</td>\n",
       "      <td>8</td>\n",
       "    </tr>\n",
       "    <tr>\n",
       "      <th>583</th>\n",
       "      <td>David Attenborough: A Life on Our Planet</td>\n",
       "      <td>Documentary</td>\n",
       "      <td>2020-10-04</td>\n",
       "      <td>83</td>\n",
       "      <td>9.0</td>\n",
       "      <td>English</td>\n",
       "      <td>2020</td>\n",
       "      <td>10</td>\n",
       "      <td>4</td>\n",
       "    </tr>\n",
       "  </tbody>\n",
       "</table>\n",
       "<p>584 rows × 9 columns</p>\n",
       "</div>"
      ],
      "text/plain": [
       "                                           Title                  Genre  \\\n",
       "0                                Enter the Anime            Documentary   \n",
       "1                                    Dark Forces               Thriller   \n",
       "2                                        The App  Science fiction/Drama   \n",
       "3                                 The Open House        Horror thriller   \n",
       "4                                    Kaali Khuhi                Mystery   \n",
       "..                                           ...                    ...   \n",
       "579        Taylor Swift: Reputation Stadium Tour           Concert Film   \n",
       "580  Winter on Fire: Ukraine's Fight for Freedom            Documentary   \n",
       "581                      Springsteen on Broadway           One-man show   \n",
       "582    Emicida: AmarElo - It's All For Yesterday            Documentary   \n",
       "583     David Attenborough: A Life on Our Planet            Documentary   \n",
       "\n",
       "      Premiere  Runtime  IMDB Score                  Language  Premiere_year  \\\n",
       "0   2019-08-05       58         2.5          English/Japanese           2019   \n",
       "1   2020-08-21       81         2.6                   Spanish           2020   \n",
       "2   2019-12-26       79         2.6                   Italian           2019   \n",
       "3   2018-01-19       94         3.2                   English           2018   \n",
       "4   2020-10-30       90         3.4                     Hindi           2020   \n",
       "..         ...      ...         ...                       ...            ...   \n",
       "579 2018-12-31      125         8.4                   English           2018   \n",
       "580 2015-10-09       91         8.4  English/Ukranian/Russian           2015   \n",
       "581 2018-12-16      153         8.5                   English           2018   \n",
       "582 2020-12-08       89         8.6                Portuguese           2020   \n",
       "583 2020-10-04       83         9.0                   English           2020   \n",
       "\n",
       "     Premiere_month  Premiere_day  \n",
       "0                 8             5  \n",
       "1                 8            21  \n",
       "2                12            26  \n",
       "3                 1            19  \n",
       "4                10            30  \n",
       "..              ...           ...  \n",
       "579              12            31  \n",
       "580              10             9  \n",
       "581              12            16  \n",
       "582              12             8  \n",
       "583              10             4  \n",
       "\n",
       "[584 rows x 9 columns]"
      ]
     },
     "execution_count": 8,
     "metadata": {},
     "output_type": "execute_result"
    }
   ],
   "source": [
    "df['Premiere_year'] = pd.DatetimeIndex(df['Premiere']).year\n",
    "df['Premiere_month'] = pd.DatetimeIndex(df['Premiere']).month\n",
    "df['Premiere_day'] = pd.DatetimeIndex(df['Premiere']).day\n",
    "df"
   ]
  },
  {
   "cell_type": "code",
   "execution_count": 9,
   "metadata": {},
   "outputs": [
    {
     "data": {
      "text/html": [
       "<div>\n",
       "<style scoped>\n",
       "    .dataframe tbody tr th:only-of-type {\n",
       "        vertical-align: middle;\n",
       "    }\n",
       "\n",
       "    .dataframe tbody tr th {\n",
       "        vertical-align: top;\n",
       "    }\n",
       "\n",
       "    .dataframe thead th {\n",
       "        text-align: right;\n",
       "    }\n",
       "</style>\n",
       "<table border=\"1\" class=\"dataframe\">\n",
       "  <thead>\n",
       "    <tr style=\"text-align: right;\">\n",
       "      <th></th>\n",
       "      <th>Runtime</th>\n",
       "      <th>IMDB Score</th>\n",
       "      <th>Premiere_year</th>\n",
       "      <th>Premiere_month</th>\n",
       "      <th>Premiere_day</th>\n",
       "    </tr>\n",
       "  </thead>\n",
       "  <tbody>\n",
       "    <tr>\n",
       "      <th>count</th>\n",
       "      <td>584.000000</td>\n",
       "      <td>584.000000</td>\n",
       "      <td>584.000000</td>\n",
       "      <td>584.000000</td>\n",
       "      <td>584.000000</td>\n",
       "    </tr>\n",
       "    <tr>\n",
       "      <th>mean</th>\n",
       "      <td>93.577055</td>\n",
       "      <td>6.271747</td>\n",
       "      <td>2018.936644</td>\n",
       "      <td>6.859589</td>\n",
       "      <td>16.347603</td>\n",
       "    </tr>\n",
       "    <tr>\n",
       "      <th>std</th>\n",
       "      <td>27.761683</td>\n",
       "      <td>0.979256</td>\n",
       "      <td>1.473992</td>\n",
       "      <td>3.466697</td>\n",
       "      <td>8.638979</td>\n",
       "    </tr>\n",
       "    <tr>\n",
       "      <th>min</th>\n",
       "      <td>4.000000</td>\n",
       "      <td>2.500000</td>\n",
       "      <td>2014.000000</td>\n",
       "      <td>1.000000</td>\n",
       "      <td>1.000000</td>\n",
       "    </tr>\n",
       "    <tr>\n",
       "      <th>25%</th>\n",
       "      <td>86.000000</td>\n",
       "      <td>5.700000</td>\n",
       "      <td>2018.000000</td>\n",
       "      <td>4.000000</td>\n",
       "      <td>9.000000</td>\n",
       "    </tr>\n",
       "    <tr>\n",
       "      <th>50%</th>\n",
       "      <td>97.000000</td>\n",
       "      <td>6.350000</td>\n",
       "      <td>2019.000000</td>\n",
       "      <td>7.000000</td>\n",
       "      <td>16.000000</td>\n",
       "    </tr>\n",
       "    <tr>\n",
       "      <th>75%</th>\n",
       "      <td>108.000000</td>\n",
       "      <td>7.000000</td>\n",
       "      <td>2020.000000</td>\n",
       "      <td>10.000000</td>\n",
       "      <td>24.000000</td>\n",
       "    </tr>\n",
       "    <tr>\n",
       "      <th>max</th>\n",
       "      <td>209.000000</td>\n",
       "      <td>9.000000</td>\n",
       "      <td>2021.000000</td>\n",
       "      <td>12.000000</td>\n",
       "      <td>31.000000</td>\n",
       "    </tr>\n",
       "  </tbody>\n",
       "</table>\n",
       "</div>"
      ],
      "text/plain": [
       "          Runtime  IMDB Score  Premiere_year  Premiere_month  Premiere_day\n",
       "count  584.000000  584.000000     584.000000      584.000000    584.000000\n",
       "mean    93.577055    6.271747    2018.936644        6.859589     16.347603\n",
       "std     27.761683    0.979256       1.473992        3.466697      8.638979\n",
       "min      4.000000    2.500000    2014.000000        1.000000      1.000000\n",
       "25%     86.000000    5.700000    2018.000000        4.000000      9.000000\n",
       "50%     97.000000    6.350000    2019.000000        7.000000     16.000000\n",
       "75%    108.000000    7.000000    2020.000000       10.000000     24.000000\n",
       "max    209.000000    9.000000    2021.000000       12.000000     31.000000"
      ]
     },
     "execution_count": 9,
     "metadata": {},
     "output_type": "execute_result"
    }
   ],
   "source": [
    "df.describe()"
   ]
  },
  {
   "cell_type": "markdown",
   "metadata": {},
   "source": [
    "*-> dataset contains movies added by Netflix from 2014 to 2021*"
   ]
  },
  {
   "cell_type": "code",
   "execution_count": 10,
   "metadata": {},
   "outputs": [
    {
     "data": {
      "application/vnd.plotly.v1+json": {
       "config": {
        "plotlyServerURL": "https://plot.ly"
       },
       "data": [
        {
         "alignmentgroup": "True",
         "bingroup": "x",
         "hovertemplate": "Premiere_year=%{x}<br>count=%{y}<extra></extra>",
         "legendgroup": "",
         "marker": {
          "color": "#636efa",
          "pattern": {
           "shape": ""
          }
         },
         "name": "",
         "offsetgroup": "",
         "orientation": "v",
         "showlegend": false,
         "type": "histogram",
         "x": [
          2019,
          2020,
          2019,
          2018,
          2020,
          2019,
          2020,
          2020,
          2018,
          2021,
          2021,
          2020,
          2020,
          2020,
          2016,
          2019,
          2020,
          2020,
          2021,
          2017,
          2019,
          2019,
          2019,
          2021,
          2021,
          2020,
          2021,
          2020,
          2021,
          2018,
          2019,
          2016,
          2019,
          2019,
          2019,
          2020,
          2020,
          2020,
          2019,
          2021,
          2020,
          2020,
          2020,
          2020,
          2017,
          2020,
          2020,
          2017,
          2020,
          2015,
          2020,
          2020,
          2019,
          2020,
          2020,
          2018,
          2020,
          2016,
          2021,
          2020,
          2017,
          2020,
          2018,
          2021,
          2020,
          2017,
          2019,
          2020,
          2020,
          2018,
          2019,
          2021,
          2017,
          2017,
          2020,
          2018,
          2019,
          2017,
          2019,
          2019,
          2021,
          2019,
          2020,
          2018,
          2018,
          2019,
          2020,
          2020,
          2020,
          2018,
          2021,
          2018,
          2019,
          2016,
          2020,
          2019,
          2019,
          2020,
          2020,
          2018,
          2020,
          2019,
          2021,
          2017,
          2021,
          2020,
          2020,
          2015,
          2018,
          2019,
          2021,
          2019,
          2019,
          2019,
          2020,
          2018,
          2020,
          2021,
          2021,
          2018,
          2018,
          2019,
          2018,
          2018,
          2019,
          2019,
          2017,
          2016,
          2021,
          2019,
          2018,
          2020,
          2020,
          2020,
          2019,
          2021,
          2020,
          2020,
          2020,
          2020,
          2021,
          2021,
          2021,
          2017,
          2020,
          2017,
          2019,
          2020,
          2019,
          2019,
          2017,
          2020,
          2018,
          2019,
          2021,
          2016,
          2018,
          2021,
          2020,
          2019,
          2021,
          2019,
          2020,
          2017,
          2020,
          2019,
          2016,
          2018,
          2020,
          2020,
          2018,
          2018,
          2021,
          2019,
          2016,
          2020,
          2018,
          2020,
          2020,
          2017,
          2018,
          2017,
          2016,
          2018,
          2018,
          2020,
          2020,
          2020,
          2019,
          2020,
          2020,
          2018,
          2020,
          2018,
          2021,
          2018,
          2019,
          2019,
          2020,
          2018,
          2020,
          2020,
          2021,
          2018,
          2020,
          2016,
          2020,
          2018,
          2018,
          2017,
          2019,
          2019,
          2019,
          2020,
          2020,
          2020,
          2018,
          2018,
          2020,
          2017,
          2019,
          2019,
          2017,
          2017,
          2017,
          2021,
          2020,
          2019,
          2015,
          2018,
          2020,
          2019,
          2016,
          2020,
          2020,
          2021,
          2021,
          2017,
          2020,
          2017,
          2019,
          2021,
          2020,
          2020,
          2020,
          2021,
          2021,
          2020,
          2020,
          2021,
          2019,
          2019,
          2020,
          2020,
          2020,
          2018,
          2019,
          2020,
          2018,
          2018,
          2017,
          2017,
          2017,
          2019,
          2018,
          2018,
          2018,
          2017,
          2018,
          2021,
          2020,
          2021,
          2018,
          2021,
          2019,
          2021,
          2020,
          2019,
          2018,
          2017,
          2017,
          2016,
          2017,
          2017,
          2019,
          2019,
          2019,
          2018,
          2020,
          2021,
          2019,
          2020,
          2020,
          2020,
          2016,
          2019,
          2019,
          2018,
          2019,
          2018,
          2020,
          2020,
          2021,
          2020,
          2014,
          2018,
          2020,
          2019,
          2017,
          2019,
          2018,
          2021,
          2017,
          2020,
          2020,
          2019,
          2018,
          2019,
          2017,
          2018,
          2019,
          2020,
          2020,
          2020,
          2019,
          2020,
          2021,
          2019,
          2020,
          2021,
          2020,
          2017,
          2020,
          2020,
          2019,
          2018,
          2021,
          2018,
          2020,
          2017,
          2021,
          2018,
          2017,
          2020,
          2017,
          2020,
          2021,
          2018,
          2020,
          2021,
          2019,
          2016,
          2020,
          2019,
          2021,
          2018,
          2018,
          2020,
          2021,
          2018,
          2018,
          2020,
          2019,
          2021,
          2020,
          2021,
          2021,
          2019,
          2017,
          2021,
          2017,
          2021,
          2020,
          2020,
          2020,
          2020,
          2017,
          2020,
          2019,
          2021,
          2017,
          2021,
          2021,
          2021,
          2019,
          2016,
          2020,
          2016,
          2019,
          2018,
          2016,
          2018,
          2020,
          2020,
          2019,
          2019,
          2020,
          2018,
          2018,
          2020,
          2020,
          2020,
          2017,
          2018,
          2017,
          2020,
          2020,
          2020,
          2020,
          2018,
          2018,
          2017,
          2021,
          2020,
          2016,
          2020,
          2021,
          2020,
          2017,
          2017,
          2020,
          2017,
          2018,
          2021,
          2018,
          2018,
          2020,
          2020,
          2020,
          2019,
          2019,
          2017,
          2018,
          2017,
          2020,
          2017,
          2019,
          2019,
          2020,
          2020,
          2021,
          2021,
          2019,
          2019,
          2019,
          2017,
          2019,
          2020,
          2018,
          2019,
          2018,
          2017,
          2018,
          2020,
          2019,
          2020,
          2020,
          2018,
          2019,
          2018,
          2019,
          2021,
          2019,
          2020,
          2017,
          2015,
          2019,
          2018,
          2016,
          2017,
          2021,
          2018,
          2018,
          2020,
          2020,
          2021,
          2019,
          2021,
          2018,
          2020,
          2016,
          2017,
          2019,
          2016,
          2020,
          2018,
          2018,
          2019,
          2018,
          2019,
          2018,
          2019,
          2020,
          2021,
          2019,
          2019,
          2019,
          2016,
          2018,
          2019,
          2019,
          2016,
          2020,
          2017,
          2020,
          2020,
          2020,
          2017,
          2018,
          2020,
          2019,
          2019,
          2020,
          2020,
          2016,
          2016,
          2018,
          2017,
          2016,
          2015,
          2019,
          2019,
          2017,
          2020,
          2019,
          2020,
          2018,
          2019,
          2019,
          2020,
          2018,
          2015,
          2017,
          2020,
          2018,
          2020,
          2019,
          2019,
          2017,
          2019,
          2018,
          2016,
          2020,
          2020,
          2018,
          2019,
          2019,
          2018,
          2020,
          2019,
          2015,
          2020,
          2019,
          2015,
          2019,
          2020,
          2017,
          2016,
          2020,
          2018,
          2020,
          2019,
          2020,
          2020,
          2017,
          2019,
          2016,
          2018,
          2017,
          2020,
          2020,
          2016,
          2020,
          2019,
          2021,
          2020,
          2017,
          2019,
          2020,
          2018,
          2015,
          2018,
          2020,
          2020
         ],
         "xaxis": "x",
         "yaxis": "y"
        }
       ],
       "layout": {
        "barmode": "relative",
        "legend": {
         "tracegroupgap": 0
        },
        "template": {
         "data": {
          "bar": [
           {
            "error_x": {
             "color": "#2a3f5f"
            },
            "error_y": {
             "color": "#2a3f5f"
            },
            "marker": {
             "line": {
              "color": "#E5ECF6",
              "width": 0.5
             },
             "pattern": {
              "fillmode": "overlay",
              "size": 10,
              "solidity": 0.2
             }
            },
            "type": "bar"
           }
          ],
          "barpolar": [
           {
            "marker": {
             "line": {
              "color": "#E5ECF6",
              "width": 0.5
             },
             "pattern": {
              "fillmode": "overlay",
              "size": 10,
              "solidity": 0.2
             }
            },
            "type": "barpolar"
           }
          ],
          "carpet": [
           {
            "aaxis": {
             "endlinecolor": "#2a3f5f",
             "gridcolor": "white",
             "linecolor": "white",
             "minorgridcolor": "white",
             "startlinecolor": "#2a3f5f"
            },
            "baxis": {
             "endlinecolor": "#2a3f5f",
             "gridcolor": "white",
             "linecolor": "white",
             "minorgridcolor": "white",
             "startlinecolor": "#2a3f5f"
            },
            "type": "carpet"
           }
          ],
          "choropleth": [
           {
            "colorbar": {
             "outlinewidth": 0,
             "ticks": ""
            },
            "type": "choropleth"
           }
          ],
          "contour": [
           {
            "colorbar": {
             "outlinewidth": 0,
             "ticks": ""
            },
            "colorscale": [
             [
              0,
              "#0d0887"
             ],
             [
              0.1111111111111111,
              "#46039f"
             ],
             [
              0.2222222222222222,
              "#7201a8"
             ],
             [
              0.3333333333333333,
              "#9c179e"
             ],
             [
              0.4444444444444444,
              "#bd3786"
             ],
             [
              0.5555555555555556,
              "#d8576b"
             ],
             [
              0.6666666666666666,
              "#ed7953"
             ],
             [
              0.7777777777777778,
              "#fb9f3a"
             ],
             [
              0.8888888888888888,
              "#fdca26"
             ],
             [
              1,
              "#f0f921"
             ]
            ],
            "type": "contour"
           }
          ],
          "contourcarpet": [
           {
            "colorbar": {
             "outlinewidth": 0,
             "ticks": ""
            },
            "type": "contourcarpet"
           }
          ],
          "heatmap": [
           {
            "colorbar": {
             "outlinewidth": 0,
             "ticks": ""
            },
            "colorscale": [
             [
              0,
              "#0d0887"
             ],
             [
              0.1111111111111111,
              "#46039f"
             ],
             [
              0.2222222222222222,
              "#7201a8"
             ],
             [
              0.3333333333333333,
              "#9c179e"
             ],
             [
              0.4444444444444444,
              "#bd3786"
             ],
             [
              0.5555555555555556,
              "#d8576b"
             ],
             [
              0.6666666666666666,
              "#ed7953"
             ],
             [
              0.7777777777777778,
              "#fb9f3a"
             ],
             [
              0.8888888888888888,
              "#fdca26"
             ],
             [
              1,
              "#f0f921"
             ]
            ],
            "type": "heatmap"
           }
          ],
          "heatmapgl": [
           {
            "colorbar": {
             "outlinewidth": 0,
             "ticks": ""
            },
            "colorscale": [
             [
              0,
              "#0d0887"
             ],
             [
              0.1111111111111111,
              "#46039f"
             ],
             [
              0.2222222222222222,
              "#7201a8"
             ],
             [
              0.3333333333333333,
              "#9c179e"
             ],
             [
              0.4444444444444444,
              "#bd3786"
             ],
             [
              0.5555555555555556,
              "#d8576b"
             ],
             [
              0.6666666666666666,
              "#ed7953"
             ],
             [
              0.7777777777777778,
              "#fb9f3a"
             ],
             [
              0.8888888888888888,
              "#fdca26"
             ],
             [
              1,
              "#f0f921"
             ]
            ],
            "type": "heatmapgl"
           }
          ],
          "histogram": [
           {
            "marker": {
             "pattern": {
              "fillmode": "overlay",
              "size": 10,
              "solidity": 0.2
             }
            },
            "type": "histogram"
           }
          ],
          "histogram2d": [
           {
            "colorbar": {
             "outlinewidth": 0,
             "ticks": ""
            },
            "colorscale": [
             [
              0,
              "#0d0887"
             ],
             [
              0.1111111111111111,
              "#46039f"
             ],
             [
              0.2222222222222222,
              "#7201a8"
             ],
             [
              0.3333333333333333,
              "#9c179e"
             ],
             [
              0.4444444444444444,
              "#bd3786"
             ],
             [
              0.5555555555555556,
              "#d8576b"
             ],
             [
              0.6666666666666666,
              "#ed7953"
             ],
             [
              0.7777777777777778,
              "#fb9f3a"
             ],
             [
              0.8888888888888888,
              "#fdca26"
             ],
             [
              1,
              "#f0f921"
             ]
            ],
            "type": "histogram2d"
           }
          ],
          "histogram2dcontour": [
           {
            "colorbar": {
             "outlinewidth": 0,
             "ticks": ""
            },
            "colorscale": [
             [
              0,
              "#0d0887"
             ],
             [
              0.1111111111111111,
              "#46039f"
             ],
             [
              0.2222222222222222,
              "#7201a8"
             ],
             [
              0.3333333333333333,
              "#9c179e"
             ],
             [
              0.4444444444444444,
              "#bd3786"
             ],
             [
              0.5555555555555556,
              "#d8576b"
             ],
             [
              0.6666666666666666,
              "#ed7953"
             ],
             [
              0.7777777777777778,
              "#fb9f3a"
             ],
             [
              0.8888888888888888,
              "#fdca26"
             ],
             [
              1,
              "#f0f921"
             ]
            ],
            "type": "histogram2dcontour"
           }
          ],
          "mesh3d": [
           {
            "colorbar": {
             "outlinewidth": 0,
             "ticks": ""
            },
            "type": "mesh3d"
           }
          ],
          "parcoords": [
           {
            "line": {
             "colorbar": {
              "outlinewidth": 0,
              "ticks": ""
             }
            },
            "type": "parcoords"
           }
          ],
          "pie": [
           {
            "automargin": true,
            "type": "pie"
           }
          ],
          "scatter": [
           {
            "marker": {
             "colorbar": {
              "outlinewidth": 0,
              "ticks": ""
             }
            },
            "type": "scatter"
           }
          ],
          "scatter3d": [
           {
            "line": {
             "colorbar": {
              "outlinewidth": 0,
              "ticks": ""
             }
            },
            "marker": {
             "colorbar": {
              "outlinewidth": 0,
              "ticks": ""
             }
            },
            "type": "scatter3d"
           }
          ],
          "scattercarpet": [
           {
            "marker": {
             "colorbar": {
              "outlinewidth": 0,
              "ticks": ""
             }
            },
            "type": "scattercarpet"
           }
          ],
          "scattergeo": [
           {
            "marker": {
             "colorbar": {
              "outlinewidth": 0,
              "ticks": ""
             }
            },
            "type": "scattergeo"
           }
          ],
          "scattergl": [
           {
            "marker": {
             "colorbar": {
              "outlinewidth": 0,
              "ticks": ""
             }
            },
            "type": "scattergl"
           }
          ],
          "scattermapbox": [
           {
            "marker": {
             "colorbar": {
              "outlinewidth": 0,
              "ticks": ""
             }
            },
            "type": "scattermapbox"
           }
          ],
          "scatterpolar": [
           {
            "marker": {
             "colorbar": {
              "outlinewidth": 0,
              "ticks": ""
             }
            },
            "type": "scatterpolar"
           }
          ],
          "scatterpolargl": [
           {
            "marker": {
             "colorbar": {
              "outlinewidth": 0,
              "ticks": ""
             }
            },
            "type": "scatterpolargl"
           }
          ],
          "scatterternary": [
           {
            "marker": {
             "colorbar": {
              "outlinewidth": 0,
              "ticks": ""
             }
            },
            "type": "scatterternary"
           }
          ],
          "surface": [
           {
            "colorbar": {
             "outlinewidth": 0,
             "ticks": ""
            },
            "colorscale": [
             [
              0,
              "#0d0887"
             ],
             [
              0.1111111111111111,
              "#46039f"
             ],
             [
              0.2222222222222222,
              "#7201a8"
             ],
             [
              0.3333333333333333,
              "#9c179e"
             ],
             [
              0.4444444444444444,
              "#bd3786"
             ],
             [
              0.5555555555555556,
              "#d8576b"
             ],
             [
              0.6666666666666666,
              "#ed7953"
             ],
             [
              0.7777777777777778,
              "#fb9f3a"
             ],
             [
              0.8888888888888888,
              "#fdca26"
             ],
             [
              1,
              "#f0f921"
             ]
            ],
            "type": "surface"
           }
          ],
          "table": [
           {
            "cells": {
             "fill": {
              "color": "#EBF0F8"
             },
             "line": {
              "color": "white"
             }
            },
            "header": {
             "fill": {
              "color": "#C8D4E3"
             },
             "line": {
              "color": "white"
             }
            },
            "type": "table"
           }
          ]
         },
         "layout": {
          "annotationdefaults": {
           "arrowcolor": "#2a3f5f",
           "arrowhead": 0,
           "arrowwidth": 1
          },
          "autotypenumbers": "strict",
          "coloraxis": {
           "colorbar": {
            "outlinewidth": 0,
            "ticks": ""
           }
          },
          "colorscale": {
           "diverging": [
            [
             0,
             "#8e0152"
            ],
            [
             0.1,
             "#c51b7d"
            ],
            [
             0.2,
             "#de77ae"
            ],
            [
             0.3,
             "#f1b6da"
            ],
            [
             0.4,
             "#fde0ef"
            ],
            [
             0.5,
             "#f7f7f7"
            ],
            [
             0.6,
             "#e6f5d0"
            ],
            [
             0.7,
             "#b8e186"
            ],
            [
             0.8,
             "#7fbc41"
            ],
            [
             0.9,
             "#4d9221"
            ],
            [
             1,
             "#276419"
            ]
           ],
           "sequential": [
            [
             0,
             "#0d0887"
            ],
            [
             0.1111111111111111,
             "#46039f"
            ],
            [
             0.2222222222222222,
             "#7201a8"
            ],
            [
             0.3333333333333333,
             "#9c179e"
            ],
            [
             0.4444444444444444,
             "#bd3786"
            ],
            [
             0.5555555555555556,
             "#d8576b"
            ],
            [
             0.6666666666666666,
             "#ed7953"
            ],
            [
             0.7777777777777778,
             "#fb9f3a"
            ],
            [
             0.8888888888888888,
             "#fdca26"
            ],
            [
             1,
             "#f0f921"
            ]
           ],
           "sequentialminus": [
            [
             0,
             "#0d0887"
            ],
            [
             0.1111111111111111,
             "#46039f"
            ],
            [
             0.2222222222222222,
             "#7201a8"
            ],
            [
             0.3333333333333333,
             "#9c179e"
            ],
            [
             0.4444444444444444,
             "#bd3786"
            ],
            [
             0.5555555555555556,
             "#d8576b"
            ],
            [
             0.6666666666666666,
             "#ed7953"
            ],
            [
             0.7777777777777778,
             "#fb9f3a"
            ],
            [
             0.8888888888888888,
             "#fdca26"
            ],
            [
             1,
             "#f0f921"
            ]
           ]
          },
          "colorway": [
           "#636efa",
           "#EF553B",
           "#00cc96",
           "#ab63fa",
           "#FFA15A",
           "#19d3f3",
           "#FF6692",
           "#B6E880",
           "#FF97FF",
           "#FECB52"
          ],
          "font": {
           "color": "#2a3f5f"
          },
          "geo": {
           "bgcolor": "white",
           "lakecolor": "white",
           "landcolor": "#E5ECF6",
           "showlakes": true,
           "showland": true,
           "subunitcolor": "white"
          },
          "hoverlabel": {
           "align": "left"
          },
          "hovermode": "closest",
          "mapbox": {
           "style": "light"
          },
          "paper_bgcolor": "white",
          "plot_bgcolor": "#E5ECF6",
          "polar": {
           "angularaxis": {
            "gridcolor": "white",
            "linecolor": "white",
            "ticks": ""
           },
           "bgcolor": "#E5ECF6",
           "radialaxis": {
            "gridcolor": "white",
            "linecolor": "white",
            "ticks": ""
           }
          },
          "scene": {
           "xaxis": {
            "backgroundcolor": "#E5ECF6",
            "gridcolor": "white",
            "gridwidth": 2,
            "linecolor": "white",
            "showbackground": true,
            "ticks": "",
            "zerolinecolor": "white"
           },
           "yaxis": {
            "backgroundcolor": "#E5ECF6",
            "gridcolor": "white",
            "gridwidth": 2,
            "linecolor": "white",
            "showbackground": true,
            "ticks": "",
            "zerolinecolor": "white"
           },
           "zaxis": {
            "backgroundcolor": "#E5ECF6",
            "gridcolor": "white",
            "gridwidth": 2,
            "linecolor": "white",
            "showbackground": true,
            "ticks": "",
            "zerolinecolor": "white"
           }
          },
          "shapedefaults": {
           "line": {
            "color": "#2a3f5f"
           }
          },
          "ternary": {
           "aaxis": {
            "gridcolor": "white",
            "linecolor": "white",
            "ticks": ""
           },
           "baxis": {
            "gridcolor": "white",
            "linecolor": "white",
            "ticks": ""
           },
           "bgcolor": "#E5ECF6",
           "caxis": {
            "gridcolor": "white",
            "linecolor": "white",
            "ticks": ""
           }
          },
          "title": {
           "x": 0.05
          },
          "xaxis": {
           "automargin": true,
           "gridcolor": "white",
           "linecolor": "white",
           "ticks": "",
           "title": {
            "standoff": 15
           },
           "zerolinecolor": "white",
           "zerolinewidth": 2
          },
          "yaxis": {
           "automargin": true,
           "gridcolor": "white",
           "linecolor": "white",
           "ticks": "",
           "title": {
            "standoff": 15
           },
           "zerolinecolor": "white",
           "zerolinewidth": 2
          }
         }
        },
        "title": {
         "text": "Histogram of the number of films by year"
        },
        "xaxis": {
         "anchor": "y",
         "domain": [
          0,
          1
         ],
         "title": {
          "text": "Premiere_year"
         }
        },
        "yaxis": {
         "anchor": "x",
         "domain": [
          0,
          1
         ],
         "title": {
          "text": "count"
         }
        }
       }
      }
     },
     "metadata": {},
     "output_type": "display_data"
    }
   ],
   "source": [
    "px.histogram(df, x=\"Premiere_year\",\n",
    "                    title=\"Histogram of the number of films by year\")\n"
   ]
  },
  {
   "cell_type": "markdown",
   "metadata": {},
   "source": [
    "Low number of movies in 2021 because dataset is only up to 2021-06-01"
   ]
  },
  {
   "cell_type": "code",
   "execution_count": 11,
   "metadata": {},
   "outputs": [
    {
     "data": {
      "application/vnd.plotly.v1+json": {
       "config": {
        "plotlyServerURL": "https://plot.ly"
       },
       "data": [
        {
         "alignmentgroup": "True",
         "bingroup": "x",
         "hovertemplate": "Premiere_month=%{x}<br>count=%{y}<extra></extra>",
         "legendgroup": "",
         "marker": {
          "color": "#636efa",
          "pattern": {
           "shape": ""
          }
         },
         "name": "",
         "offsetgroup": "",
         "orientation": "v",
         "showlegend": false,
         "type": "histogram",
         "x": [
          8,
          8,
          12,
          1,
          10,
          11,
          12,
          6,
          3,
          5,
          4,
          11,
          9,
          10,
          11,
          12,
          1,
          2,
          1,
          8,
          9,
          7,
          8,
          2,
          4,
          7,
          4,
          7,
          2,
          12,
          5,
          10,
          2,
          12,
          10,
          7,
          7,
          11,
          1,
          3,
          4,
          10,
          12,
          12,
          1,
          5,
          10,
          1,
          4,
          12,
          4,
          8,
          11,
          10,
          1,
          7,
          10,
          7,
          2,
          10,
          1,
          4,
          4,
          2,
          7,
          9,
          8,
          7,
          11,
          7,
          2,
          5,
          2,
          5,
          10,
          5,
          5,
          4,
          5,
          5,
          2,
          9,
          11,
          4,
          11,
          8,
          4,
          8,
          5,
          9,
          4,
          6,
          4,
          8,
          10,
          12,
          5,
          9,
          9,
          3,
          3,
          10,
          4,
          8,
          1,
          11,
          7,
          12,
          10,
          12,
          4,
          10,
          11,
          2,
          4,
          2,
          10,
          2,
          4,
          1,
          2,
          11,
          7,
          8,
          4,
          5,
          10,
          7,
          1,
          8,
          9,
          9,
          6,
          10,
          1,
          2,
          12,
          9,
          8,
          10,
          4,
          3,
          3,
          12,
          9,
          12,
          10,
          10,
          5,
          1,
          9,
          6,
          12,
          7,
          4,
          5,
          11,
          5,
          5,
          2,
          3,
          3,
          12,
          11,
          5,
          11,
          12,
          4,
          6,
          8,
          7,
          3,
          5,
          11,
          10,
          11,
          11,
          4,
          4,
          4,
          9,
          4,
          4,
          6,
          8,
          9,
          12,
          7,
          4,
          11,
          10,
          4,
          1,
          4,
          5,
          11,
          11,
          7,
          2,
          9,
          3,
          3,
          1,
          1,
          12,
          11,
          3,
          4,
          5,
          1,
          8,
          3,
          6,
          8,
          10,
          11,
          5,
          11,
          2,
          5,
          12,
          9,
          3,
          4,
          3,
          1,
          10,
          11,
          5,
          8,
          3,
          8,
          3,
          10,
          4,
          1,
          4,
          11,
          5,
          3,
          5,
          1,
          8,
          8,
          11,
          5,
          1,
          11,
          8,
          4,
          2,
          9,
          6,
          8,
          7,
          3,
          4,
          3,
          9,
          4,
          12,
          4,
          10,
          5,
          6,
          10,
          3,
          12,
          5,
          4,
          6,
          3,
          4,
          1,
          4,
          5,
          11,
          1,
          12,
          4,
          6,
          12,
          10,
          3,
          10,
          10,
          3,
          3,
          4,
          2,
          8,
          3,
          8,
          12,
          9,
          9,
          12,
          3,
          10,
          2,
          2,
          8,
          2,
          4,
          12,
          9,
          10,
          10,
          9,
          9,
          3,
          1,
          5,
          3,
          4,
          3,
          9,
          3,
          10,
          2,
          10,
          2,
          8,
          3,
          3,
          12,
          4,
          5,
          6,
          4,
          6,
          9,
          10,
          11,
          6,
          6,
          5,
          12,
          6,
          6,
          5,
          6,
          7,
          4,
          4,
          1,
          3,
          12,
          6,
          2,
          6,
          8,
          9,
          10,
          5,
          6,
          12,
          11,
          2,
          12,
          9,
          8,
          7,
          1,
          6,
          4,
          4,
          11,
          5,
          5,
          6,
          1,
          4,
          12,
          11,
          9,
          2,
          12,
          10,
          2,
          2,
          3,
          4,
          3,
          7,
          7,
          7,
          7,
          10,
          10,
          10,
          1,
          3,
          9,
          5,
          5,
          5,
          8,
          6,
          12,
          9,
          5,
          9,
          4,
          11,
          10,
          9,
          9,
          11,
          11,
          2,
          7,
          1,
          12,
          9,
          10,
          3,
          12,
          2,
          5,
          12,
          9,
          11,
          3,
          10,
          2,
          6,
          7,
          5,
          3,
          5,
          10,
          10,
          9,
          11,
          10,
          11,
          9,
          12,
          12,
          3,
          2,
          4,
          5,
          3,
          9,
          8,
          12,
          11,
          3,
          10,
          1,
          11,
          12,
          6,
          4,
          11,
          10,
          12,
          5,
          9,
          5,
          4,
          10,
          5,
          9,
          5,
          11,
          3,
          10,
          1,
          4,
          11,
          10,
          9,
          1,
          7,
          1,
          8,
          9,
          9,
          9,
          1,
          10,
          4,
          3,
          2,
          2,
          10,
          10,
          5,
          1,
          10,
          4,
          6,
          11,
          10,
          10,
          8,
          10,
          10,
          9,
          7,
          5,
          5,
          7,
          10,
          6,
          9,
          7,
          1,
          2,
          10,
          3,
          10,
          4,
          11,
          10,
          6,
          5,
          8,
          11,
          9,
          1,
          2,
          11,
          10,
          6,
          11,
          7,
          11,
          7,
          11,
          10,
          9,
          10,
          4,
          8,
          10,
          12,
          9,
          9,
          6,
          11,
          9,
          6,
          10,
          7,
          9,
          12,
          6,
          2,
          6,
          10,
          4,
          3,
          11,
          10,
          2,
          12,
          11,
          11,
          10,
          4,
          8,
          12,
          11,
          12,
          7,
          9,
          8,
          10,
          6,
          11,
          3,
          10,
          11,
          10,
          5,
          12,
          10,
          12,
          12,
          10
         ],
         "xaxis": "x",
         "yaxis": "y"
        }
       ],
       "layout": {
        "barmode": "relative",
        "legend": {
         "tracegroupgap": 0
        },
        "template": {
         "data": {
          "bar": [
           {
            "error_x": {
             "color": "#2a3f5f"
            },
            "error_y": {
             "color": "#2a3f5f"
            },
            "marker": {
             "line": {
              "color": "#E5ECF6",
              "width": 0.5
             },
             "pattern": {
              "fillmode": "overlay",
              "size": 10,
              "solidity": 0.2
             }
            },
            "type": "bar"
           }
          ],
          "barpolar": [
           {
            "marker": {
             "line": {
              "color": "#E5ECF6",
              "width": 0.5
             },
             "pattern": {
              "fillmode": "overlay",
              "size": 10,
              "solidity": 0.2
             }
            },
            "type": "barpolar"
           }
          ],
          "carpet": [
           {
            "aaxis": {
             "endlinecolor": "#2a3f5f",
             "gridcolor": "white",
             "linecolor": "white",
             "minorgridcolor": "white",
             "startlinecolor": "#2a3f5f"
            },
            "baxis": {
             "endlinecolor": "#2a3f5f",
             "gridcolor": "white",
             "linecolor": "white",
             "minorgridcolor": "white",
             "startlinecolor": "#2a3f5f"
            },
            "type": "carpet"
           }
          ],
          "choropleth": [
           {
            "colorbar": {
             "outlinewidth": 0,
             "ticks": ""
            },
            "type": "choropleth"
           }
          ],
          "contour": [
           {
            "colorbar": {
             "outlinewidth": 0,
             "ticks": ""
            },
            "colorscale": [
             [
              0,
              "#0d0887"
             ],
             [
              0.1111111111111111,
              "#46039f"
             ],
             [
              0.2222222222222222,
              "#7201a8"
             ],
             [
              0.3333333333333333,
              "#9c179e"
             ],
             [
              0.4444444444444444,
              "#bd3786"
             ],
             [
              0.5555555555555556,
              "#d8576b"
             ],
             [
              0.6666666666666666,
              "#ed7953"
             ],
             [
              0.7777777777777778,
              "#fb9f3a"
             ],
             [
              0.8888888888888888,
              "#fdca26"
             ],
             [
              1,
              "#f0f921"
             ]
            ],
            "type": "contour"
           }
          ],
          "contourcarpet": [
           {
            "colorbar": {
             "outlinewidth": 0,
             "ticks": ""
            },
            "type": "contourcarpet"
           }
          ],
          "heatmap": [
           {
            "colorbar": {
             "outlinewidth": 0,
             "ticks": ""
            },
            "colorscale": [
             [
              0,
              "#0d0887"
             ],
             [
              0.1111111111111111,
              "#46039f"
             ],
             [
              0.2222222222222222,
              "#7201a8"
             ],
             [
              0.3333333333333333,
              "#9c179e"
             ],
             [
              0.4444444444444444,
              "#bd3786"
             ],
             [
              0.5555555555555556,
              "#d8576b"
             ],
             [
              0.6666666666666666,
              "#ed7953"
             ],
             [
              0.7777777777777778,
              "#fb9f3a"
             ],
             [
              0.8888888888888888,
              "#fdca26"
             ],
             [
              1,
              "#f0f921"
             ]
            ],
            "type": "heatmap"
           }
          ],
          "heatmapgl": [
           {
            "colorbar": {
             "outlinewidth": 0,
             "ticks": ""
            },
            "colorscale": [
             [
              0,
              "#0d0887"
             ],
             [
              0.1111111111111111,
              "#46039f"
             ],
             [
              0.2222222222222222,
              "#7201a8"
             ],
             [
              0.3333333333333333,
              "#9c179e"
             ],
             [
              0.4444444444444444,
              "#bd3786"
             ],
             [
              0.5555555555555556,
              "#d8576b"
             ],
             [
              0.6666666666666666,
              "#ed7953"
             ],
             [
              0.7777777777777778,
              "#fb9f3a"
             ],
             [
              0.8888888888888888,
              "#fdca26"
             ],
             [
              1,
              "#f0f921"
             ]
            ],
            "type": "heatmapgl"
           }
          ],
          "histogram": [
           {
            "marker": {
             "pattern": {
              "fillmode": "overlay",
              "size": 10,
              "solidity": 0.2
             }
            },
            "type": "histogram"
           }
          ],
          "histogram2d": [
           {
            "colorbar": {
             "outlinewidth": 0,
             "ticks": ""
            },
            "colorscale": [
             [
              0,
              "#0d0887"
             ],
             [
              0.1111111111111111,
              "#46039f"
             ],
             [
              0.2222222222222222,
              "#7201a8"
             ],
             [
              0.3333333333333333,
              "#9c179e"
             ],
             [
              0.4444444444444444,
              "#bd3786"
             ],
             [
              0.5555555555555556,
              "#d8576b"
             ],
             [
              0.6666666666666666,
              "#ed7953"
             ],
             [
              0.7777777777777778,
              "#fb9f3a"
             ],
             [
              0.8888888888888888,
              "#fdca26"
             ],
             [
              1,
              "#f0f921"
             ]
            ],
            "type": "histogram2d"
           }
          ],
          "histogram2dcontour": [
           {
            "colorbar": {
             "outlinewidth": 0,
             "ticks": ""
            },
            "colorscale": [
             [
              0,
              "#0d0887"
             ],
             [
              0.1111111111111111,
              "#46039f"
             ],
             [
              0.2222222222222222,
              "#7201a8"
             ],
             [
              0.3333333333333333,
              "#9c179e"
             ],
             [
              0.4444444444444444,
              "#bd3786"
             ],
             [
              0.5555555555555556,
              "#d8576b"
             ],
             [
              0.6666666666666666,
              "#ed7953"
             ],
             [
              0.7777777777777778,
              "#fb9f3a"
             ],
             [
              0.8888888888888888,
              "#fdca26"
             ],
             [
              1,
              "#f0f921"
             ]
            ],
            "type": "histogram2dcontour"
           }
          ],
          "mesh3d": [
           {
            "colorbar": {
             "outlinewidth": 0,
             "ticks": ""
            },
            "type": "mesh3d"
           }
          ],
          "parcoords": [
           {
            "line": {
             "colorbar": {
              "outlinewidth": 0,
              "ticks": ""
             }
            },
            "type": "parcoords"
           }
          ],
          "pie": [
           {
            "automargin": true,
            "type": "pie"
           }
          ],
          "scatter": [
           {
            "marker": {
             "colorbar": {
              "outlinewidth": 0,
              "ticks": ""
             }
            },
            "type": "scatter"
           }
          ],
          "scatter3d": [
           {
            "line": {
             "colorbar": {
              "outlinewidth": 0,
              "ticks": ""
             }
            },
            "marker": {
             "colorbar": {
              "outlinewidth": 0,
              "ticks": ""
             }
            },
            "type": "scatter3d"
           }
          ],
          "scattercarpet": [
           {
            "marker": {
             "colorbar": {
              "outlinewidth": 0,
              "ticks": ""
             }
            },
            "type": "scattercarpet"
           }
          ],
          "scattergeo": [
           {
            "marker": {
             "colorbar": {
              "outlinewidth": 0,
              "ticks": ""
             }
            },
            "type": "scattergeo"
           }
          ],
          "scattergl": [
           {
            "marker": {
             "colorbar": {
              "outlinewidth": 0,
              "ticks": ""
             }
            },
            "type": "scattergl"
           }
          ],
          "scattermapbox": [
           {
            "marker": {
             "colorbar": {
              "outlinewidth": 0,
              "ticks": ""
             }
            },
            "type": "scattermapbox"
           }
          ],
          "scatterpolar": [
           {
            "marker": {
             "colorbar": {
              "outlinewidth": 0,
              "ticks": ""
             }
            },
            "type": "scatterpolar"
           }
          ],
          "scatterpolargl": [
           {
            "marker": {
             "colorbar": {
              "outlinewidth": 0,
              "ticks": ""
             }
            },
            "type": "scatterpolargl"
           }
          ],
          "scatterternary": [
           {
            "marker": {
             "colorbar": {
              "outlinewidth": 0,
              "ticks": ""
             }
            },
            "type": "scatterternary"
           }
          ],
          "surface": [
           {
            "colorbar": {
             "outlinewidth": 0,
             "ticks": ""
            },
            "colorscale": [
             [
              0,
              "#0d0887"
             ],
             [
              0.1111111111111111,
              "#46039f"
             ],
             [
              0.2222222222222222,
              "#7201a8"
             ],
             [
              0.3333333333333333,
              "#9c179e"
             ],
             [
              0.4444444444444444,
              "#bd3786"
             ],
             [
              0.5555555555555556,
              "#d8576b"
             ],
             [
              0.6666666666666666,
              "#ed7953"
             ],
             [
              0.7777777777777778,
              "#fb9f3a"
             ],
             [
              0.8888888888888888,
              "#fdca26"
             ],
             [
              1,
              "#f0f921"
             ]
            ],
            "type": "surface"
           }
          ],
          "table": [
           {
            "cells": {
             "fill": {
              "color": "#EBF0F8"
             },
             "line": {
              "color": "white"
             }
            },
            "header": {
             "fill": {
              "color": "#C8D4E3"
             },
             "line": {
              "color": "white"
             }
            },
            "type": "table"
           }
          ]
         },
         "layout": {
          "annotationdefaults": {
           "arrowcolor": "#2a3f5f",
           "arrowhead": 0,
           "arrowwidth": 1
          },
          "autotypenumbers": "strict",
          "coloraxis": {
           "colorbar": {
            "outlinewidth": 0,
            "ticks": ""
           }
          },
          "colorscale": {
           "diverging": [
            [
             0,
             "#8e0152"
            ],
            [
             0.1,
             "#c51b7d"
            ],
            [
             0.2,
             "#de77ae"
            ],
            [
             0.3,
             "#f1b6da"
            ],
            [
             0.4,
             "#fde0ef"
            ],
            [
             0.5,
             "#f7f7f7"
            ],
            [
             0.6,
             "#e6f5d0"
            ],
            [
             0.7,
             "#b8e186"
            ],
            [
             0.8,
             "#7fbc41"
            ],
            [
             0.9,
             "#4d9221"
            ],
            [
             1,
             "#276419"
            ]
           ],
           "sequential": [
            [
             0,
             "#0d0887"
            ],
            [
             0.1111111111111111,
             "#46039f"
            ],
            [
             0.2222222222222222,
             "#7201a8"
            ],
            [
             0.3333333333333333,
             "#9c179e"
            ],
            [
             0.4444444444444444,
             "#bd3786"
            ],
            [
             0.5555555555555556,
             "#d8576b"
            ],
            [
             0.6666666666666666,
             "#ed7953"
            ],
            [
             0.7777777777777778,
             "#fb9f3a"
            ],
            [
             0.8888888888888888,
             "#fdca26"
            ],
            [
             1,
             "#f0f921"
            ]
           ],
           "sequentialminus": [
            [
             0,
             "#0d0887"
            ],
            [
             0.1111111111111111,
             "#46039f"
            ],
            [
             0.2222222222222222,
             "#7201a8"
            ],
            [
             0.3333333333333333,
             "#9c179e"
            ],
            [
             0.4444444444444444,
             "#bd3786"
            ],
            [
             0.5555555555555556,
             "#d8576b"
            ],
            [
             0.6666666666666666,
             "#ed7953"
            ],
            [
             0.7777777777777778,
             "#fb9f3a"
            ],
            [
             0.8888888888888888,
             "#fdca26"
            ],
            [
             1,
             "#f0f921"
            ]
           ]
          },
          "colorway": [
           "#636efa",
           "#EF553B",
           "#00cc96",
           "#ab63fa",
           "#FFA15A",
           "#19d3f3",
           "#FF6692",
           "#B6E880",
           "#FF97FF",
           "#FECB52"
          ],
          "font": {
           "color": "#2a3f5f"
          },
          "geo": {
           "bgcolor": "white",
           "lakecolor": "white",
           "landcolor": "#E5ECF6",
           "showlakes": true,
           "showland": true,
           "subunitcolor": "white"
          },
          "hoverlabel": {
           "align": "left"
          },
          "hovermode": "closest",
          "mapbox": {
           "style": "light"
          },
          "paper_bgcolor": "white",
          "plot_bgcolor": "#E5ECF6",
          "polar": {
           "angularaxis": {
            "gridcolor": "white",
            "linecolor": "white",
            "ticks": ""
           },
           "bgcolor": "#E5ECF6",
           "radialaxis": {
            "gridcolor": "white",
            "linecolor": "white",
            "ticks": ""
           }
          },
          "scene": {
           "xaxis": {
            "backgroundcolor": "#E5ECF6",
            "gridcolor": "white",
            "gridwidth": 2,
            "linecolor": "white",
            "showbackground": true,
            "ticks": "",
            "zerolinecolor": "white"
           },
           "yaxis": {
            "backgroundcolor": "#E5ECF6",
            "gridcolor": "white",
            "gridwidth": 2,
            "linecolor": "white",
            "showbackground": true,
            "ticks": "",
            "zerolinecolor": "white"
           },
           "zaxis": {
            "backgroundcolor": "#E5ECF6",
            "gridcolor": "white",
            "gridwidth": 2,
            "linecolor": "white",
            "showbackground": true,
            "ticks": "",
            "zerolinecolor": "white"
           }
          },
          "shapedefaults": {
           "line": {
            "color": "#2a3f5f"
           }
          },
          "ternary": {
           "aaxis": {
            "gridcolor": "white",
            "linecolor": "white",
            "ticks": ""
           },
           "baxis": {
            "gridcolor": "white",
            "linecolor": "white",
            "ticks": ""
           },
           "bgcolor": "#E5ECF6",
           "caxis": {
            "gridcolor": "white",
            "linecolor": "white",
            "ticks": ""
           }
          },
          "title": {
           "x": 0.05
          },
          "xaxis": {
           "automargin": true,
           "gridcolor": "white",
           "linecolor": "white",
           "ticks": "",
           "title": {
            "standoff": 15
           },
           "zerolinecolor": "white",
           "zerolinewidth": 2
          },
          "yaxis": {
           "automargin": true,
           "gridcolor": "white",
           "linecolor": "white",
           "ticks": "",
           "title": {
            "standoff": 15
           },
           "zerolinecolor": "white",
           "zerolinewidth": 2
          }
         }
        },
        "title": {
         "text": "Histogram of the number of films by month"
        },
        "xaxis": {
         "anchor": "y",
         "domain": [
          0,
          1
         ],
         "title": {
          "text": "Premiere_month"
         }
        },
        "yaxis": {
         "anchor": "x",
         "domain": [
          0,
          1
         ],
         "title": {
          "text": "count"
         }
        }
       }
      }
     },
     "metadata": {},
     "output_type": "display_data"
    }
   ],
   "source": [
    "px.histogram(df, x=\"Premiere_month\",\n",
    "                    title=\"Histogram of the number of films by month\")"
   ]
  },
  {
   "cell_type": "markdown",
   "metadata": {},
   "source": [
    "#### *- Movies are most premiered in October, maybe because that is the time at the end of the year, people will have many holidays such as christmas and new year*\n",
    "#### *- The least number of films released in the summer period*"
   ]
  },
  {
   "cell_type": "code",
   "execution_count": 12,
   "metadata": {},
   "outputs": [
    {
     "data": {
      "application/vnd.plotly.v1+json": {
       "config": {
        "plotlyServerURL": "https://plot.ly"
       },
       "data": [
        {
         "alignmentgroup": "True",
         "bingroup": "x",
         "hovertemplate": "Premiere_day=%{x}<br>count=%{y}<extra></extra>",
         "legendgroup": "",
         "marker": {
          "color": "#636efa",
          "pattern": {
           "shape": ""
          }
         },
         "name": "",
         "offsetgroup": "",
         "orientation": "v",
         "showlegend": false,
         "type": "histogram",
         "x": [
          5,
          21,
          26,
          19,
          30,
          1,
          4,
          5,
          23,
          18,
          22,
          27,
          18,
          1,
          22,
          19,
          1,
          21,
          1,
          25,
          13,
          18,
          16,
          26,
          9,
          16,
          2,
          31,
          10,
          7,
          24,
          28,
          22,
          3,
          25,
          15,
          14,
          30,
          18,
          5,
          2,
          2,
          25,
          4,
          6,
          1,
          28,
          20,
          10,
          11,
          17,
          14,
          28,
          30,
          23,
          13,
          15,
          15,
          11,
          22,
          13,
          3,
          20,
          25,
          23,
          8,
          21,
          3,
          22,
          20,
          22,
          26,
          14,
          5,
          7,
          25,
          24,
          14,
          17,
          14,
          5,
          13,
          27,
          27,
          30,
          30,
          30,
          12,
          28,
          7,
          29,
          24,
          12,
          26,
          15,
          5,
          3,
          18,
          2,
          23,
          6,
          4,
          2,
          11,
          15,
          19,
          1,
          4,
          26,
          1,
          28,
          16,
          15,
          8,
          10,
          23,
          2,
          11,
          15,
          19,
          4,
          21,
          6,
          10,
          5,
          10,
          12,
          7,
          15,
          29,
          28,
          3,
          19,
          27,
          11,
          5,
          23,
          16,
          21,
          2,
          14,
          26,
          25,
          15,
          11,
          8,
          18,
          9,
          16,
          4,
          1,
          18,
          12,
          12,
          14,
          27,
          2,
          14,
          13,
          1,
          12,
          29,
          14,
          17,
          1,
          1,
          16,
          27,
          5,
          21,
          27,
          30,
          14,
          8,
          13,
          5,
          30,
          30,
          17,
          28,
          7,
          28,
          29,
          29,
          24,
          10,
          7,
          24,
          12,
          11,
          2,
          6,
          17,
          6,
          21,
          16,
          15,
          16,
          7,
          28,
          27,
          27,
          1,
          12,
          11,
          11,
          20,
          13,
          4,
          27,
          9,
          8,
          14,
          14,
          21,
          25,
          11,
          16,
          12,
          26,
          13,
          20,
          10,
          28,
          17,
          29,
          28,
          1,
          29,
          3,
          13,
          2,
          18,
          30,
          17,
          8,
          1,
          10,
          22,
          24,
          24,
          15,
          28,
          7,
          20,
          26,
          29,
          6,
          17,
          9,
          8,
          27,
          19,
          14,
          24,
          23,
          19,
          6,
          14,
          27,
          1,
          7,
          20,
          22,
          8,
          12,
          16,
          22,
          18,
          2,
          19,
          18,
          13,
          28,
          19,
          26,
          24,
          25,
          21,
          21,
          9,
          9,
          13,
          31,
          11,
          18,
          29,
          9,
          23,
          12,
          28,
          27,
          5,
          21,
          16,
          25,
          24,
          30,
          11,
          16,
          14,
          20,
          11,
          29,
          13,
          21,
          23,
          12,
          15,
          27,
          16,
          14,
          5,
          25,
          22,
          13,
          28,
          8,
          20,
          9,
          28,
          28,
          28,
          19,
          21,
          11,
          17,
          31,
          12,
          7,
          26,
          29,
          30,
          13,
          14,
          15,
          7,
          7,
          24,
          23,
          12,
          15,
          28,
          10,
          21,
          20,
          26,
          21,
          24,
          26,
          7,
          19,
          4,
          25,
          7,
          29,
          7,
          23,
          5,
          7,
          14,
          20,
          31,
          15,
          18,
          16,
          16,
          20,
          20,
          27,
          16,
          11,
          24,
          11,
          24,
          15,
          3,
          3,
          28,
          5,
          7,
          3,
          9,
          12,
          10,
          29,
          10,
          15,
          18,
          10,
          28,
          26,
          20,
          21,
          3,
          31,
          6,
          3,
          29,
          27,
          17,
          11,
          12,
          20,
          21,
          2,
          30,
          30,
          13,
          2,
          9,
          14,
          6,
          24,
          30,
          8,
          1,
          28,
          24,
          19,
          4,
          29,
          9,
          26,
          12,
          9,
          3,
          10,
          1,
          29,
          23,
          13,
          12,
          22,
          3,
          13,
          20,
          15,
          18,
          18,
          17,
          23,
          26,
          17,
          22,
          1,
          9,
          9,
          22,
          22,
          19,
          26,
          30,
          1,
          19,
          22,
          27,
          19,
          27,
          4,
          10,
          14,
          20,
          27,
          26,
          18,
          1,
          13,
          18,
          20,
          7,
          6,
          2,
          15,
          16,
          29,
          24,
          22,
          17,
          30,
          23,
          15,
          18,
          28,
          10,
          8,
          14,
          22,
          5,
          18,
          1,
          18,
          9,
          30,
          19,
          1,
          29,
          7,
          10,
          25,
          11,
          13,
          17,
          12,
          27,
          8,
          13,
          28,
          12,
          31,
          11,
          8,
          28,
          8,
          14,
          29,
          16,
          6,
          24,
          22,
          21,
          1,
          29,
          31,
          12,
          25,
          26,
          7,
          27,
          29,
          2,
          17,
          22,
          14,
          7,
          2,
          17,
          16,
          27,
          24,
          13,
          16,
          24,
          12,
          21,
          12,
          18,
          27,
          9,
          20,
          26,
          21,
          27,
          16,
          19,
          25,
          17,
          12,
          11,
          14,
          20,
          27,
          16,
          29,
          4,
          6,
          4,
          21,
          14,
          7,
          26,
          7,
          19,
          15,
          24,
          14,
          24,
          23,
          20,
          31,
          9,
          16,
          8,
          4
         ],
         "xaxis": "x",
         "yaxis": "y"
        }
       ],
       "layout": {
        "barmode": "relative",
        "legend": {
         "tracegroupgap": 0
        },
        "template": {
         "data": {
          "bar": [
           {
            "error_x": {
             "color": "#2a3f5f"
            },
            "error_y": {
             "color": "#2a3f5f"
            },
            "marker": {
             "line": {
              "color": "#E5ECF6",
              "width": 0.5
             },
             "pattern": {
              "fillmode": "overlay",
              "size": 10,
              "solidity": 0.2
             }
            },
            "type": "bar"
           }
          ],
          "barpolar": [
           {
            "marker": {
             "line": {
              "color": "#E5ECF6",
              "width": 0.5
             },
             "pattern": {
              "fillmode": "overlay",
              "size": 10,
              "solidity": 0.2
             }
            },
            "type": "barpolar"
           }
          ],
          "carpet": [
           {
            "aaxis": {
             "endlinecolor": "#2a3f5f",
             "gridcolor": "white",
             "linecolor": "white",
             "minorgridcolor": "white",
             "startlinecolor": "#2a3f5f"
            },
            "baxis": {
             "endlinecolor": "#2a3f5f",
             "gridcolor": "white",
             "linecolor": "white",
             "minorgridcolor": "white",
             "startlinecolor": "#2a3f5f"
            },
            "type": "carpet"
           }
          ],
          "choropleth": [
           {
            "colorbar": {
             "outlinewidth": 0,
             "ticks": ""
            },
            "type": "choropleth"
           }
          ],
          "contour": [
           {
            "colorbar": {
             "outlinewidth": 0,
             "ticks": ""
            },
            "colorscale": [
             [
              0,
              "#0d0887"
             ],
             [
              0.1111111111111111,
              "#46039f"
             ],
             [
              0.2222222222222222,
              "#7201a8"
             ],
             [
              0.3333333333333333,
              "#9c179e"
             ],
             [
              0.4444444444444444,
              "#bd3786"
             ],
             [
              0.5555555555555556,
              "#d8576b"
             ],
             [
              0.6666666666666666,
              "#ed7953"
             ],
             [
              0.7777777777777778,
              "#fb9f3a"
             ],
             [
              0.8888888888888888,
              "#fdca26"
             ],
             [
              1,
              "#f0f921"
             ]
            ],
            "type": "contour"
           }
          ],
          "contourcarpet": [
           {
            "colorbar": {
             "outlinewidth": 0,
             "ticks": ""
            },
            "type": "contourcarpet"
           }
          ],
          "heatmap": [
           {
            "colorbar": {
             "outlinewidth": 0,
             "ticks": ""
            },
            "colorscale": [
             [
              0,
              "#0d0887"
             ],
             [
              0.1111111111111111,
              "#46039f"
             ],
             [
              0.2222222222222222,
              "#7201a8"
             ],
             [
              0.3333333333333333,
              "#9c179e"
             ],
             [
              0.4444444444444444,
              "#bd3786"
             ],
             [
              0.5555555555555556,
              "#d8576b"
             ],
             [
              0.6666666666666666,
              "#ed7953"
             ],
             [
              0.7777777777777778,
              "#fb9f3a"
             ],
             [
              0.8888888888888888,
              "#fdca26"
             ],
             [
              1,
              "#f0f921"
             ]
            ],
            "type": "heatmap"
           }
          ],
          "heatmapgl": [
           {
            "colorbar": {
             "outlinewidth": 0,
             "ticks": ""
            },
            "colorscale": [
             [
              0,
              "#0d0887"
             ],
             [
              0.1111111111111111,
              "#46039f"
             ],
             [
              0.2222222222222222,
              "#7201a8"
             ],
             [
              0.3333333333333333,
              "#9c179e"
             ],
             [
              0.4444444444444444,
              "#bd3786"
             ],
             [
              0.5555555555555556,
              "#d8576b"
             ],
             [
              0.6666666666666666,
              "#ed7953"
             ],
             [
              0.7777777777777778,
              "#fb9f3a"
             ],
             [
              0.8888888888888888,
              "#fdca26"
             ],
             [
              1,
              "#f0f921"
             ]
            ],
            "type": "heatmapgl"
           }
          ],
          "histogram": [
           {
            "marker": {
             "pattern": {
              "fillmode": "overlay",
              "size": 10,
              "solidity": 0.2
             }
            },
            "type": "histogram"
           }
          ],
          "histogram2d": [
           {
            "colorbar": {
             "outlinewidth": 0,
             "ticks": ""
            },
            "colorscale": [
             [
              0,
              "#0d0887"
             ],
             [
              0.1111111111111111,
              "#46039f"
             ],
             [
              0.2222222222222222,
              "#7201a8"
             ],
             [
              0.3333333333333333,
              "#9c179e"
             ],
             [
              0.4444444444444444,
              "#bd3786"
             ],
             [
              0.5555555555555556,
              "#d8576b"
             ],
             [
              0.6666666666666666,
              "#ed7953"
             ],
             [
              0.7777777777777778,
              "#fb9f3a"
             ],
             [
              0.8888888888888888,
              "#fdca26"
             ],
             [
              1,
              "#f0f921"
             ]
            ],
            "type": "histogram2d"
           }
          ],
          "histogram2dcontour": [
           {
            "colorbar": {
             "outlinewidth": 0,
             "ticks": ""
            },
            "colorscale": [
             [
              0,
              "#0d0887"
             ],
             [
              0.1111111111111111,
              "#46039f"
             ],
             [
              0.2222222222222222,
              "#7201a8"
             ],
             [
              0.3333333333333333,
              "#9c179e"
             ],
             [
              0.4444444444444444,
              "#bd3786"
             ],
             [
              0.5555555555555556,
              "#d8576b"
             ],
             [
              0.6666666666666666,
              "#ed7953"
             ],
             [
              0.7777777777777778,
              "#fb9f3a"
             ],
             [
              0.8888888888888888,
              "#fdca26"
             ],
             [
              1,
              "#f0f921"
             ]
            ],
            "type": "histogram2dcontour"
           }
          ],
          "mesh3d": [
           {
            "colorbar": {
             "outlinewidth": 0,
             "ticks": ""
            },
            "type": "mesh3d"
           }
          ],
          "parcoords": [
           {
            "line": {
             "colorbar": {
              "outlinewidth": 0,
              "ticks": ""
             }
            },
            "type": "parcoords"
           }
          ],
          "pie": [
           {
            "automargin": true,
            "type": "pie"
           }
          ],
          "scatter": [
           {
            "marker": {
             "colorbar": {
              "outlinewidth": 0,
              "ticks": ""
             }
            },
            "type": "scatter"
           }
          ],
          "scatter3d": [
           {
            "line": {
             "colorbar": {
              "outlinewidth": 0,
              "ticks": ""
             }
            },
            "marker": {
             "colorbar": {
              "outlinewidth": 0,
              "ticks": ""
             }
            },
            "type": "scatter3d"
           }
          ],
          "scattercarpet": [
           {
            "marker": {
             "colorbar": {
              "outlinewidth": 0,
              "ticks": ""
             }
            },
            "type": "scattercarpet"
           }
          ],
          "scattergeo": [
           {
            "marker": {
             "colorbar": {
              "outlinewidth": 0,
              "ticks": ""
             }
            },
            "type": "scattergeo"
           }
          ],
          "scattergl": [
           {
            "marker": {
             "colorbar": {
              "outlinewidth": 0,
              "ticks": ""
             }
            },
            "type": "scattergl"
           }
          ],
          "scattermapbox": [
           {
            "marker": {
             "colorbar": {
              "outlinewidth": 0,
              "ticks": ""
             }
            },
            "type": "scattermapbox"
           }
          ],
          "scatterpolar": [
           {
            "marker": {
             "colorbar": {
              "outlinewidth": 0,
              "ticks": ""
             }
            },
            "type": "scatterpolar"
           }
          ],
          "scatterpolargl": [
           {
            "marker": {
             "colorbar": {
              "outlinewidth": 0,
              "ticks": ""
             }
            },
            "type": "scatterpolargl"
           }
          ],
          "scatterternary": [
           {
            "marker": {
             "colorbar": {
              "outlinewidth": 0,
              "ticks": ""
             }
            },
            "type": "scatterternary"
           }
          ],
          "surface": [
           {
            "colorbar": {
             "outlinewidth": 0,
             "ticks": ""
            },
            "colorscale": [
             [
              0,
              "#0d0887"
             ],
             [
              0.1111111111111111,
              "#46039f"
             ],
             [
              0.2222222222222222,
              "#7201a8"
             ],
             [
              0.3333333333333333,
              "#9c179e"
             ],
             [
              0.4444444444444444,
              "#bd3786"
             ],
             [
              0.5555555555555556,
              "#d8576b"
             ],
             [
              0.6666666666666666,
              "#ed7953"
             ],
             [
              0.7777777777777778,
              "#fb9f3a"
             ],
             [
              0.8888888888888888,
              "#fdca26"
             ],
             [
              1,
              "#f0f921"
             ]
            ],
            "type": "surface"
           }
          ],
          "table": [
           {
            "cells": {
             "fill": {
              "color": "#EBF0F8"
             },
             "line": {
              "color": "white"
             }
            },
            "header": {
             "fill": {
              "color": "#C8D4E3"
             },
             "line": {
              "color": "white"
             }
            },
            "type": "table"
           }
          ]
         },
         "layout": {
          "annotationdefaults": {
           "arrowcolor": "#2a3f5f",
           "arrowhead": 0,
           "arrowwidth": 1
          },
          "autotypenumbers": "strict",
          "coloraxis": {
           "colorbar": {
            "outlinewidth": 0,
            "ticks": ""
           }
          },
          "colorscale": {
           "diverging": [
            [
             0,
             "#8e0152"
            ],
            [
             0.1,
             "#c51b7d"
            ],
            [
             0.2,
             "#de77ae"
            ],
            [
             0.3,
             "#f1b6da"
            ],
            [
             0.4,
             "#fde0ef"
            ],
            [
             0.5,
             "#f7f7f7"
            ],
            [
             0.6,
             "#e6f5d0"
            ],
            [
             0.7,
             "#b8e186"
            ],
            [
             0.8,
             "#7fbc41"
            ],
            [
             0.9,
             "#4d9221"
            ],
            [
             1,
             "#276419"
            ]
           ],
           "sequential": [
            [
             0,
             "#0d0887"
            ],
            [
             0.1111111111111111,
             "#46039f"
            ],
            [
             0.2222222222222222,
             "#7201a8"
            ],
            [
             0.3333333333333333,
             "#9c179e"
            ],
            [
             0.4444444444444444,
             "#bd3786"
            ],
            [
             0.5555555555555556,
             "#d8576b"
            ],
            [
             0.6666666666666666,
             "#ed7953"
            ],
            [
             0.7777777777777778,
             "#fb9f3a"
            ],
            [
             0.8888888888888888,
             "#fdca26"
            ],
            [
             1,
             "#f0f921"
            ]
           ],
           "sequentialminus": [
            [
             0,
             "#0d0887"
            ],
            [
             0.1111111111111111,
             "#46039f"
            ],
            [
             0.2222222222222222,
             "#7201a8"
            ],
            [
             0.3333333333333333,
             "#9c179e"
            ],
            [
             0.4444444444444444,
             "#bd3786"
            ],
            [
             0.5555555555555556,
             "#d8576b"
            ],
            [
             0.6666666666666666,
             "#ed7953"
            ],
            [
             0.7777777777777778,
             "#fb9f3a"
            ],
            [
             0.8888888888888888,
             "#fdca26"
            ],
            [
             1,
             "#f0f921"
            ]
           ]
          },
          "colorway": [
           "#636efa",
           "#EF553B",
           "#00cc96",
           "#ab63fa",
           "#FFA15A",
           "#19d3f3",
           "#FF6692",
           "#B6E880",
           "#FF97FF",
           "#FECB52"
          ],
          "font": {
           "color": "#2a3f5f"
          },
          "geo": {
           "bgcolor": "white",
           "lakecolor": "white",
           "landcolor": "#E5ECF6",
           "showlakes": true,
           "showland": true,
           "subunitcolor": "white"
          },
          "hoverlabel": {
           "align": "left"
          },
          "hovermode": "closest",
          "mapbox": {
           "style": "light"
          },
          "paper_bgcolor": "white",
          "plot_bgcolor": "#E5ECF6",
          "polar": {
           "angularaxis": {
            "gridcolor": "white",
            "linecolor": "white",
            "ticks": ""
           },
           "bgcolor": "#E5ECF6",
           "radialaxis": {
            "gridcolor": "white",
            "linecolor": "white",
            "ticks": ""
           }
          },
          "scene": {
           "xaxis": {
            "backgroundcolor": "#E5ECF6",
            "gridcolor": "white",
            "gridwidth": 2,
            "linecolor": "white",
            "showbackground": true,
            "ticks": "",
            "zerolinecolor": "white"
           },
           "yaxis": {
            "backgroundcolor": "#E5ECF6",
            "gridcolor": "white",
            "gridwidth": 2,
            "linecolor": "white",
            "showbackground": true,
            "ticks": "",
            "zerolinecolor": "white"
           },
           "zaxis": {
            "backgroundcolor": "#E5ECF6",
            "gridcolor": "white",
            "gridwidth": 2,
            "linecolor": "white",
            "showbackground": true,
            "ticks": "",
            "zerolinecolor": "white"
           }
          },
          "shapedefaults": {
           "line": {
            "color": "#2a3f5f"
           }
          },
          "ternary": {
           "aaxis": {
            "gridcolor": "white",
            "linecolor": "white",
            "ticks": ""
           },
           "baxis": {
            "gridcolor": "white",
            "linecolor": "white",
            "ticks": ""
           },
           "bgcolor": "#E5ECF6",
           "caxis": {
            "gridcolor": "white",
            "linecolor": "white",
            "ticks": ""
           }
          },
          "title": {
           "x": 0.05
          },
          "xaxis": {
           "automargin": true,
           "gridcolor": "white",
           "linecolor": "white",
           "ticks": "",
           "title": {
            "standoff": 15
           },
           "zerolinecolor": "white",
           "zerolinewidth": 2
          },
          "yaxis": {
           "automargin": true,
           "gridcolor": "white",
           "linecolor": "white",
           "ticks": "",
           "title": {
            "standoff": 15
           },
           "zerolinecolor": "white",
           "zerolinewidth": 2
          }
         }
        },
        "title": {
         "text": "Histogram of the number of films by day"
        },
        "xaxis": {
         "anchor": "y",
         "domain": [
          0,
          1
         ],
         "title": {
          "text": "Premiere_day"
         }
        },
        "yaxis": {
         "anchor": "x",
         "domain": [
          0,
          1
         ],
         "title": {
          "text": "count"
         }
        }
       }
      }
     },
     "metadata": {},
     "output_type": "display_data"
    }
   ],
   "source": [
    "px.histogram(df, x=\"Premiere_day\",\n",
    "                    title=\"Histogram of the number of films by day\")"
   ]
  },
  {
   "cell_type": "code",
   "execution_count": 13,
   "metadata": {},
   "outputs": [
    {
     "data": {
      "text/plain": [
       "Friday       383\n",
       "Wednesday     82\n",
       "Thursday      59\n",
       "Tuesday       29\n",
       "Monday        17\n",
       "Sunday         9\n",
       "Saturday       5\n",
       "Name: Premiere, dtype: int64"
      ]
     },
     "execution_count": 13,
     "metadata": {},
     "output_type": "execute_result"
    }
   ],
   "source": [
    "day_of_week = df['Premiere'].dt.day_name().value_counts()\n",
    "day_of_week"
   ]
  },
  {
   "cell_type": "code",
   "execution_count": 14,
   "metadata": {},
   "outputs": [
    {
     "data": {
      "application/vnd.plotly.v1+json": {
       "config": {
        "plotlyServerURL": "https://plot.ly"
       },
       "data": [
        {
         "alignmentgroup": "True",
         "hovertemplate": "Day of week=%{x}<br>Number of the Movies=%{y}<extra></extra>",
         "legendgroup": "",
         "marker": {
          "color": "#636efa",
          "pattern": {
           "shape": ""
          }
         },
         "name": "",
         "offsetgroup": "",
         "orientation": "v",
         "showlegend": false,
         "textposition": "auto",
         "type": "bar",
         "x": [
          "Friday",
          "Wednesday",
          "Thursday",
          "Tuesday",
          "Monday",
          "Sunday",
          "Saturday"
         ],
         "xaxis": "x",
         "y": [
          383,
          82,
          59,
          29,
          17,
          9,
          5
         ],
         "yaxis": "y"
        }
       ],
       "layout": {
        "barmode": "relative",
        "legend": {
         "tracegroupgap": 0
        },
        "margin": {
         "t": 60
        },
        "template": {
         "data": {
          "bar": [
           {
            "error_x": {
             "color": "#2a3f5f"
            },
            "error_y": {
             "color": "#2a3f5f"
            },
            "marker": {
             "line": {
              "color": "#E5ECF6",
              "width": 0.5
             },
             "pattern": {
              "fillmode": "overlay",
              "size": 10,
              "solidity": 0.2
             }
            },
            "type": "bar"
           }
          ],
          "barpolar": [
           {
            "marker": {
             "line": {
              "color": "#E5ECF6",
              "width": 0.5
             },
             "pattern": {
              "fillmode": "overlay",
              "size": 10,
              "solidity": 0.2
             }
            },
            "type": "barpolar"
           }
          ],
          "carpet": [
           {
            "aaxis": {
             "endlinecolor": "#2a3f5f",
             "gridcolor": "white",
             "linecolor": "white",
             "minorgridcolor": "white",
             "startlinecolor": "#2a3f5f"
            },
            "baxis": {
             "endlinecolor": "#2a3f5f",
             "gridcolor": "white",
             "linecolor": "white",
             "minorgridcolor": "white",
             "startlinecolor": "#2a3f5f"
            },
            "type": "carpet"
           }
          ],
          "choropleth": [
           {
            "colorbar": {
             "outlinewidth": 0,
             "ticks": ""
            },
            "type": "choropleth"
           }
          ],
          "contour": [
           {
            "colorbar": {
             "outlinewidth": 0,
             "ticks": ""
            },
            "colorscale": [
             [
              0,
              "#0d0887"
             ],
             [
              0.1111111111111111,
              "#46039f"
             ],
             [
              0.2222222222222222,
              "#7201a8"
             ],
             [
              0.3333333333333333,
              "#9c179e"
             ],
             [
              0.4444444444444444,
              "#bd3786"
             ],
             [
              0.5555555555555556,
              "#d8576b"
             ],
             [
              0.6666666666666666,
              "#ed7953"
             ],
             [
              0.7777777777777778,
              "#fb9f3a"
             ],
             [
              0.8888888888888888,
              "#fdca26"
             ],
             [
              1,
              "#f0f921"
             ]
            ],
            "type": "contour"
           }
          ],
          "contourcarpet": [
           {
            "colorbar": {
             "outlinewidth": 0,
             "ticks": ""
            },
            "type": "contourcarpet"
           }
          ],
          "heatmap": [
           {
            "colorbar": {
             "outlinewidth": 0,
             "ticks": ""
            },
            "colorscale": [
             [
              0,
              "#0d0887"
             ],
             [
              0.1111111111111111,
              "#46039f"
             ],
             [
              0.2222222222222222,
              "#7201a8"
             ],
             [
              0.3333333333333333,
              "#9c179e"
             ],
             [
              0.4444444444444444,
              "#bd3786"
             ],
             [
              0.5555555555555556,
              "#d8576b"
             ],
             [
              0.6666666666666666,
              "#ed7953"
             ],
             [
              0.7777777777777778,
              "#fb9f3a"
             ],
             [
              0.8888888888888888,
              "#fdca26"
             ],
             [
              1,
              "#f0f921"
             ]
            ],
            "type": "heatmap"
           }
          ],
          "heatmapgl": [
           {
            "colorbar": {
             "outlinewidth": 0,
             "ticks": ""
            },
            "colorscale": [
             [
              0,
              "#0d0887"
             ],
             [
              0.1111111111111111,
              "#46039f"
             ],
             [
              0.2222222222222222,
              "#7201a8"
             ],
             [
              0.3333333333333333,
              "#9c179e"
             ],
             [
              0.4444444444444444,
              "#bd3786"
             ],
             [
              0.5555555555555556,
              "#d8576b"
             ],
             [
              0.6666666666666666,
              "#ed7953"
             ],
             [
              0.7777777777777778,
              "#fb9f3a"
             ],
             [
              0.8888888888888888,
              "#fdca26"
             ],
             [
              1,
              "#f0f921"
             ]
            ],
            "type": "heatmapgl"
           }
          ],
          "histogram": [
           {
            "marker": {
             "pattern": {
              "fillmode": "overlay",
              "size": 10,
              "solidity": 0.2
             }
            },
            "type": "histogram"
           }
          ],
          "histogram2d": [
           {
            "colorbar": {
             "outlinewidth": 0,
             "ticks": ""
            },
            "colorscale": [
             [
              0,
              "#0d0887"
             ],
             [
              0.1111111111111111,
              "#46039f"
             ],
             [
              0.2222222222222222,
              "#7201a8"
             ],
             [
              0.3333333333333333,
              "#9c179e"
             ],
             [
              0.4444444444444444,
              "#bd3786"
             ],
             [
              0.5555555555555556,
              "#d8576b"
             ],
             [
              0.6666666666666666,
              "#ed7953"
             ],
             [
              0.7777777777777778,
              "#fb9f3a"
             ],
             [
              0.8888888888888888,
              "#fdca26"
             ],
             [
              1,
              "#f0f921"
             ]
            ],
            "type": "histogram2d"
           }
          ],
          "histogram2dcontour": [
           {
            "colorbar": {
             "outlinewidth": 0,
             "ticks": ""
            },
            "colorscale": [
             [
              0,
              "#0d0887"
             ],
             [
              0.1111111111111111,
              "#46039f"
             ],
             [
              0.2222222222222222,
              "#7201a8"
             ],
             [
              0.3333333333333333,
              "#9c179e"
             ],
             [
              0.4444444444444444,
              "#bd3786"
             ],
             [
              0.5555555555555556,
              "#d8576b"
             ],
             [
              0.6666666666666666,
              "#ed7953"
             ],
             [
              0.7777777777777778,
              "#fb9f3a"
             ],
             [
              0.8888888888888888,
              "#fdca26"
             ],
             [
              1,
              "#f0f921"
             ]
            ],
            "type": "histogram2dcontour"
           }
          ],
          "mesh3d": [
           {
            "colorbar": {
             "outlinewidth": 0,
             "ticks": ""
            },
            "type": "mesh3d"
           }
          ],
          "parcoords": [
           {
            "line": {
             "colorbar": {
              "outlinewidth": 0,
              "ticks": ""
             }
            },
            "type": "parcoords"
           }
          ],
          "pie": [
           {
            "automargin": true,
            "type": "pie"
           }
          ],
          "scatter": [
           {
            "marker": {
             "colorbar": {
              "outlinewidth": 0,
              "ticks": ""
             }
            },
            "type": "scatter"
           }
          ],
          "scatter3d": [
           {
            "line": {
             "colorbar": {
              "outlinewidth": 0,
              "ticks": ""
             }
            },
            "marker": {
             "colorbar": {
              "outlinewidth": 0,
              "ticks": ""
             }
            },
            "type": "scatter3d"
           }
          ],
          "scattercarpet": [
           {
            "marker": {
             "colorbar": {
              "outlinewidth": 0,
              "ticks": ""
             }
            },
            "type": "scattercarpet"
           }
          ],
          "scattergeo": [
           {
            "marker": {
             "colorbar": {
              "outlinewidth": 0,
              "ticks": ""
             }
            },
            "type": "scattergeo"
           }
          ],
          "scattergl": [
           {
            "marker": {
             "colorbar": {
              "outlinewidth": 0,
              "ticks": ""
             }
            },
            "type": "scattergl"
           }
          ],
          "scattermapbox": [
           {
            "marker": {
             "colorbar": {
              "outlinewidth": 0,
              "ticks": ""
             }
            },
            "type": "scattermapbox"
           }
          ],
          "scatterpolar": [
           {
            "marker": {
             "colorbar": {
              "outlinewidth": 0,
              "ticks": ""
             }
            },
            "type": "scatterpolar"
           }
          ],
          "scatterpolargl": [
           {
            "marker": {
             "colorbar": {
              "outlinewidth": 0,
              "ticks": ""
             }
            },
            "type": "scatterpolargl"
           }
          ],
          "scatterternary": [
           {
            "marker": {
             "colorbar": {
              "outlinewidth": 0,
              "ticks": ""
             }
            },
            "type": "scatterternary"
           }
          ],
          "surface": [
           {
            "colorbar": {
             "outlinewidth": 0,
             "ticks": ""
            },
            "colorscale": [
             [
              0,
              "#0d0887"
             ],
             [
              0.1111111111111111,
              "#46039f"
             ],
             [
              0.2222222222222222,
              "#7201a8"
             ],
             [
              0.3333333333333333,
              "#9c179e"
             ],
             [
              0.4444444444444444,
              "#bd3786"
             ],
             [
              0.5555555555555556,
              "#d8576b"
             ],
             [
              0.6666666666666666,
              "#ed7953"
             ],
             [
              0.7777777777777778,
              "#fb9f3a"
             ],
             [
              0.8888888888888888,
              "#fdca26"
             ],
             [
              1,
              "#f0f921"
             ]
            ],
            "type": "surface"
           }
          ],
          "table": [
           {
            "cells": {
             "fill": {
              "color": "#EBF0F8"
             },
             "line": {
              "color": "white"
             }
            },
            "header": {
             "fill": {
              "color": "#C8D4E3"
             },
             "line": {
              "color": "white"
             }
            },
            "type": "table"
           }
          ]
         },
         "layout": {
          "annotationdefaults": {
           "arrowcolor": "#2a3f5f",
           "arrowhead": 0,
           "arrowwidth": 1
          },
          "autotypenumbers": "strict",
          "coloraxis": {
           "colorbar": {
            "outlinewidth": 0,
            "ticks": ""
           }
          },
          "colorscale": {
           "diverging": [
            [
             0,
             "#8e0152"
            ],
            [
             0.1,
             "#c51b7d"
            ],
            [
             0.2,
             "#de77ae"
            ],
            [
             0.3,
             "#f1b6da"
            ],
            [
             0.4,
             "#fde0ef"
            ],
            [
             0.5,
             "#f7f7f7"
            ],
            [
             0.6,
             "#e6f5d0"
            ],
            [
             0.7,
             "#b8e186"
            ],
            [
             0.8,
             "#7fbc41"
            ],
            [
             0.9,
             "#4d9221"
            ],
            [
             1,
             "#276419"
            ]
           ],
           "sequential": [
            [
             0,
             "#0d0887"
            ],
            [
             0.1111111111111111,
             "#46039f"
            ],
            [
             0.2222222222222222,
             "#7201a8"
            ],
            [
             0.3333333333333333,
             "#9c179e"
            ],
            [
             0.4444444444444444,
             "#bd3786"
            ],
            [
             0.5555555555555556,
             "#d8576b"
            ],
            [
             0.6666666666666666,
             "#ed7953"
            ],
            [
             0.7777777777777778,
             "#fb9f3a"
            ],
            [
             0.8888888888888888,
             "#fdca26"
            ],
            [
             1,
             "#f0f921"
            ]
           ],
           "sequentialminus": [
            [
             0,
             "#0d0887"
            ],
            [
             0.1111111111111111,
             "#46039f"
            ],
            [
             0.2222222222222222,
             "#7201a8"
            ],
            [
             0.3333333333333333,
             "#9c179e"
            ],
            [
             0.4444444444444444,
             "#bd3786"
            ],
            [
             0.5555555555555556,
             "#d8576b"
            ],
            [
             0.6666666666666666,
             "#ed7953"
            ],
            [
             0.7777777777777778,
             "#fb9f3a"
            ],
            [
             0.8888888888888888,
             "#fdca26"
            ],
            [
             1,
             "#f0f921"
            ]
           ]
          },
          "colorway": [
           "#636efa",
           "#EF553B",
           "#00cc96",
           "#ab63fa",
           "#FFA15A",
           "#19d3f3",
           "#FF6692",
           "#B6E880",
           "#FF97FF",
           "#FECB52"
          ],
          "font": {
           "color": "#2a3f5f"
          },
          "geo": {
           "bgcolor": "white",
           "lakecolor": "white",
           "landcolor": "#E5ECF6",
           "showlakes": true,
           "showland": true,
           "subunitcolor": "white"
          },
          "hoverlabel": {
           "align": "left"
          },
          "hovermode": "closest",
          "mapbox": {
           "style": "light"
          },
          "paper_bgcolor": "white",
          "plot_bgcolor": "#E5ECF6",
          "polar": {
           "angularaxis": {
            "gridcolor": "white",
            "linecolor": "white",
            "ticks": ""
           },
           "bgcolor": "#E5ECF6",
           "radialaxis": {
            "gridcolor": "white",
            "linecolor": "white",
            "ticks": ""
           }
          },
          "scene": {
           "xaxis": {
            "backgroundcolor": "#E5ECF6",
            "gridcolor": "white",
            "gridwidth": 2,
            "linecolor": "white",
            "showbackground": true,
            "ticks": "",
            "zerolinecolor": "white"
           },
           "yaxis": {
            "backgroundcolor": "#E5ECF6",
            "gridcolor": "white",
            "gridwidth": 2,
            "linecolor": "white",
            "showbackground": true,
            "ticks": "",
            "zerolinecolor": "white"
           },
           "zaxis": {
            "backgroundcolor": "#E5ECF6",
            "gridcolor": "white",
            "gridwidth": 2,
            "linecolor": "white",
            "showbackground": true,
            "ticks": "",
            "zerolinecolor": "white"
           }
          },
          "shapedefaults": {
           "line": {
            "color": "#2a3f5f"
           }
          },
          "ternary": {
           "aaxis": {
            "gridcolor": "white",
            "linecolor": "white",
            "ticks": ""
           },
           "baxis": {
            "gridcolor": "white",
            "linecolor": "white",
            "ticks": ""
           },
           "bgcolor": "#E5ECF6",
           "caxis": {
            "gridcolor": "white",
            "linecolor": "white",
            "ticks": ""
           }
          },
          "title": {
           "x": 0.05
          },
          "xaxis": {
           "automargin": true,
           "gridcolor": "white",
           "linecolor": "white",
           "ticks": "",
           "title": {
            "standoff": 15
           },
           "zerolinecolor": "white",
           "zerolinewidth": 2
          },
          "yaxis": {
           "automargin": true,
           "gridcolor": "white",
           "linecolor": "white",
           "ticks": "",
           "title": {
            "standoff": 15
           },
           "zerolinecolor": "white",
           "zerolinewidth": 2
          }
         }
        },
        "xaxis": {
         "anchor": "y",
         "domain": [
          0,
          1
         ],
         "title": {
          "text": "Day of week"
         }
        },
        "yaxis": {
         "anchor": "x",
         "domain": [
          0,
          1
         ],
         "title": {
          "text": "Number of the Movies"
         }
        }
       }
      }
     },
     "metadata": {},
     "output_type": "display_data"
    }
   ],
   "source": [
    "px.bar(df, x=day_of_week.index, y=day_of_week.values, labels={\"y\":\"Number of the Movies\", \"x\":\"Day of week\"})"
   ]
  },
  {
   "cell_type": "markdown",
   "metadata": {},
   "source": [
    "#### - Friday has the largest number of movies because employees who work through Friday will get a break, and movies will get more views.\n",
    "#### - Saturday and Sunday have the least number of premiered movies"
   ]
  },
  {
   "cell_type": "markdown",
   "metadata": {},
   "source": [
    "### 2. Genre Analysis"
   ]
  },
  {
   "cell_type": "code",
   "execution_count": 15,
   "metadata": {},
   "outputs": [
    {
     "data": {
      "text/plain": [
       "array(['Documentary', 'Thriller', 'Science fiction/Drama',\n",
       "       'Horror thriller', 'Mystery', 'Action', 'Comedy',\n",
       "       'Heist film/Thriller', 'Musical/Western/Fantasy', 'Drama',\n",
       "       'Romantic comedy', 'Action comedy', 'Horror anthology',\n",
       "       'Political thriller', 'Superhero-Comedy', 'Horror',\n",
       "       'Romance drama', 'Anime / Short', 'Superhero', 'Heist', 'Western',\n",
       "       'Animation/Superhero', 'Family film', 'Action-thriller',\n",
       "       'Teen comedy-drama', 'Romantic drama', 'Animation',\n",
       "       'Aftershow / Interview', 'Christmas musical',\n",
       "       'Science fiction adventure', 'Science fiction', 'Variety show',\n",
       "       'Comedy-drama', 'Comedy/Fantasy/Family', 'Supernatural drama',\n",
       "       'Action/Comedy', 'Action/Science fiction',\n",
       "       'Romantic teenage drama', 'Comedy / Musical', 'Musical',\n",
       "       'Science fiction/Mystery', 'Crime drama',\n",
       "       'Psychological thriller drama', 'Adventure/Comedy', 'Black comedy',\n",
       "       'Romance', 'Horror comedy', 'Christian musical',\n",
       "       'Romantic teen drama', 'Family', 'Dark comedy', 'Comedy horror',\n",
       "       'Psychological thriller', 'Biopic', 'Science fiction/Thriller',\n",
       "       'Mockumentary', 'Satire', 'One-man show', 'Romantic comedy-drama',\n",
       "       'Comedy/Horror', 'Fantasy', 'Sports-drama', 'Zombie/Heist',\n",
       "       'Psychological horror', 'Sports film', 'Comedy mystery',\n",
       "       'Romantic thriller', 'Christmas comedy', 'War-Comedy',\n",
       "       'Romantic comedy/Holiday', 'Adventure-romance', 'Adventure',\n",
       "       'Horror-thriller', 'Dance comedy', 'Stop Motion',\n",
       "       'Horror/Crime drama', 'Urban fantasy', 'Drama/Horror',\n",
       "       'Family/Comedy-drama', 'War', 'Crime thriller',\n",
       "       'Science fiction/Action', 'Teen comedy horror', 'Concert Film',\n",
       "       'Musical comedy', 'Animation/Musical/Adventure',\n",
       "       'Animation / Musicial', 'Animation/Comedy/Adventure',\n",
       "       'Action thriller', 'Anime/Science fiction', 'Animation / Short',\n",
       "       'War drama', 'Family/Christmas musical',\n",
       "       'Science fiction thriller', 'Drama / Short',\n",
       "       'Hidden-camera prank comedy', 'Spy thriller', 'Anime/Fantasy',\n",
       "       'Animated musical comedy', 'Variety Show', 'Superhero/Action',\n",
       "       'Biographical/Comedy', 'Historical-epic', 'Animation / Comedy',\n",
       "       'Christmas/Fantasy/Adventure/Comedy', 'Mentalism special',\n",
       "       'Drama-Comedy', 'Coming-of-age comedy-drama', 'Historical drama',\n",
       "       'Making-of', 'Action-adventure', 'Animation / Science Fiction',\n",
       "       'Anthology/Dark comedy', 'Musical / Short',\n",
       "       'Animation/Christmas/Comedy/Adventure'], dtype=object)"
      ]
     },
     "execution_count": 15,
     "metadata": {},
     "output_type": "execute_result"
    }
   ],
   "source": [
    "df['Genre'].unique()"
   ]
  },
  {
   "cell_type": "code",
   "execution_count": 16,
   "metadata": {},
   "outputs": [
    {
     "data": {
      "text/html": [
       "<div>\n",
       "<style scoped>\n",
       "    .dataframe tbody tr th:only-of-type {\n",
       "        vertical-align: middle;\n",
       "    }\n",
       "\n",
       "    .dataframe tbody tr th {\n",
       "        vertical-align: top;\n",
       "    }\n",
       "\n",
       "    .dataframe thead th {\n",
       "        text-align: right;\n",
       "    }\n",
       "</style>\n",
       "<table border=\"1\" class=\"dataframe\">\n",
       "  <thead>\n",
       "    <tr style=\"text-align: right;\">\n",
       "      <th></th>\n",
       "      <th>0</th>\n",
       "      <th>1</th>\n",
       "      <th>2</th>\n",
       "      <th>3</th>\n",
       "    </tr>\n",
       "  </thead>\n",
       "  <tbody>\n",
       "    <tr>\n",
       "      <th>0</th>\n",
       "      <td>Documentary</td>\n",
       "      <td>None</td>\n",
       "      <td>None</td>\n",
       "      <td>None</td>\n",
       "    </tr>\n",
       "    <tr>\n",
       "      <th>1</th>\n",
       "      <td>Thriller</td>\n",
       "      <td>None</td>\n",
       "      <td>None</td>\n",
       "      <td>None</td>\n",
       "    </tr>\n",
       "    <tr>\n",
       "      <th>2</th>\n",
       "      <td>Science fiction</td>\n",
       "      <td>Drama</td>\n",
       "      <td>None</td>\n",
       "      <td>None</td>\n",
       "    </tr>\n",
       "    <tr>\n",
       "      <th>3</th>\n",
       "      <td>Horror thriller</td>\n",
       "      <td>None</td>\n",
       "      <td>None</td>\n",
       "      <td>None</td>\n",
       "    </tr>\n",
       "    <tr>\n",
       "      <th>4</th>\n",
       "      <td>Mystery</td>\n",
       "      <td>None</td>\n",
       "      <td>None</td>\n",
       "      <td>None</td>\n",
       "    </tr>\n",
       "    <tr>\n",
       "      <th>...</th>\n",
       "      <td>...</td>\n",
       "      <td>...</td>\n",
       "      <td>...</td>\n",
       "      <td>...</td>\n",
       "    </tr>\n",
       "    <tr>\n",
       "      <th>579</th>\n",
       "      <td>Concert Film</td>\n",
       "      <td>None</td>\n",
       "      <td>None</td>\n",
       "      <td>None</td>\n",
       "    </tr>\n",
       "    <tr>\n",
       "      <th>580</th>\n",
       "      <td>Documentary</td>\n",
       "      <td>None</td>\n",
       "      <td>None</td>\n",
       "      <td>None</td>\n",
       "    </tr>\n",
       "    <tr>\n",
       "      <th>581</th>\n",
       "      <td>One-man show</td>\n",
       "      <td>None</td>\n",
       "      <td>None</td>\n",
       "      <td>None</td>\n",
       "    </tr>\n",
       "    <tr>\n",
       "      <th>582</th>\n",
       "      <td>Documentary</td>\n",
       "      <td>None</td>\n",
       "      <td>None</td>\n",
       "      <td>None</td>\n",
       "    </tr>\n",
       "    <tr>\n",
       "      <th>583</th>\n",
       "      <td>Documentary</td>\n",
       "      <td>None</td>\n",
       "      <td>None</td>\n",
       "      <td>None</td>\n",
       "    </tr>\n",
       "  </tbody>\n",
       "</table>\n",
       "<p>584 rows × 4 columns</p>\n",
       "</div>"
      ],
      "text/plain": [
       "                   0      1     2     3\n",
       "0        Documentary   None  None  None\n",
       "1           Thriller   None  None  None\n",
       "2    Science fiction  Drama  None  None\n",
       "3    Horror thriller   None  None  None\n",
       "4            Mystery   None  None  None\n",
       "..               ...    ...   ...   ...\n",
       "579     Concert Film   None  None  None\n",
       "580      Documentary   None  None  None\n",
       "581     One-man show   None  None  None\n",
       "582      Documentary   None  None  None\n",
       "583      Documentary   None  None  None\n",
       "\n",
       "[584 rows x 4 columns]"
      ]
     },
     "execution_count": 16,
     "metadata": {},
     "output_type": "execute_result"
    }
   ],
   "source": [
    "df['Genre'].str.split('/', expand=True)"
   ]
  },
  {
   "cell_type": "code",
   "execution_count": 17,
   "metadata": {},
   "outputs": [
    {
     "data": {
      "text/html": [
       "<div>\n",
       "<style scoped>\n",
       "    .dataframe tbody tr th:only-of-type {\n",
       "        vertical-align: middle;\n",
       "    }\n",
       "\n",
       "    .dataframe tbody tr th {\n",
       "        vertical-align: top;\n",
       "    }\n",
       "\n",
       "    .dataframe thead th {\n",
       "        text-align: right;\n",
       "    }\n",
       "</style>\n",
       "<table border=\"1\" class=\"dataframe\">\n",
       "  <thead>\n",
       "    <tr style=\"text-align: right;\">\n",
       "      <th></th>\n",
       "      <th>Title</th>\n",
       "      <th>Premiere</th>\n",
       "      <th>Runtime</th>\n",
       "      <th>IMDB Score</th>\n",
       "      <th>Language</th>\n",
       "      <th>Premiere_year</th>\n",
       "      <th>Premiere_month</th>\n",
       "      <th>Premiere_day</th>\n",
       "      <th>Genre</th>\n",
       "    </tr>\n",
       "  </thead>\n",
       "  <tbody>\n",
       "    <tr>\n",
       "      <th>0</th>\n",
       "      <td>Enter the Anime</td>\n",
       "      <td>2019-08-05</td>\n",
       "      <td>58</td>\n",
       "      <td>2.5</td>\n",
       "      <td>English/Japanese</td>\n",
       "      <td>2019</td>\n",
       "      <td>8</td>\n",
       "      <td>5</td>\n",
       "      <td>Documentary</td>\n",
       "    </tr>\n",
       "    <tr>\n",
       "      <th>1</th>\n",
       "      <td>Dark Forces</td>\n",
       "      <td>2020-08-21</td>\n",
       "      <td>81</td>\n",
       "      <td>2.6</td>\n",
       "      <td>Spanish</td>\n",
       "      <td>2020</td>\n",
       "      <td>8</td>\n",
       "      <td>21</td>\n",
       "      <td>Thriller</td>\n",
       "    </tr>\n",
       "    <tr>\n",
       "      <th>2</th>\n",
       "      <td>The App</td>\n",
       "      <td>2019-12-26</td>\n",
       "      <td>79</td>\n",
       "      <td>2.6</td>\n",
       "      <td>Italian</td>\n",
       "      <td>2019</td>\n",
       "      <td>12</td>\n",
       "      <td>26</td>\n",
       "      <td>Science fiction</td>\n",
       "    </tr>\n",
       "    <tr>\n",
       "      <th>2</th>\n",
       "      <td>The App</td>\n",
       "      <td>2019-12-26</td>\n",
       "      <td>79</td>\n",
       "      <td>2.6</td>\n",
       "      <td>Italian</td>\n",
       "      <td>2019</td>\n",
       "      <td>12</td>\n",
       "      <td>26</td>\n",
       "      <td>Drama</td>\n",
       "    </tr>\n",
       "    <tr>\n",
       "      <th>3</th>\n",
       "      <td>The Open House</td>\n",
       "      <td>2018-01-19</td>\n",
       "      <td>94</td>\n",
       "      <td>3.2</td>\n",
       "      <td>English</td>\n",
       "      <td>2018</td>\n",
       "      <td>1</td>\n",
       "      <td>19</td>\n",
       "      <td>Horror thriller</td>\n",
       "    </tr>\n",
       "    <tr>\n",
       "      <th>...</th>\n",
       "      <td>...</td>\n",
       "      <td>...</td>\n",
       "      <td>...</td>\n",
       "      <td>...</td>\n",
       "      <td>...</td>\n",
       "      <td>...</td>\n",
       "      <td>...</td>\n",
       "      <td>...</td>\n",
       "      <td>...</td>\n",
       "    </tr>\n",
       "    <tr>\n",
       "      <th>579</th>\n",
       "      <td>Taylor Swift: Reputation Stadium Tour</td>\n",
       "      <td>2018-12-31</td>\n",
       "      <td>125</td>\n",
       "      <td>8.4</td>\n",
       "      <td>English</td>\n",
       "      <td>2018</td>\n",
       "      <td>12</td>\n",
       "      <td>31</td>\n",
       "      <td>Concert Film</td>\n",
       "    </tr>\n",
       "    <tr>\n",
       "      <th>580</th>\n",
       "      <td>Winter on Fire: Ukraine's Fight for Freedom</td>\n",
       "      <td>2015-10-09</td>\n",
       "      <td>91</td>\n",
       "      <td>8.4</td>\n",
       "      <td>English/Ukranian/Russian</td>\n",
       "      <td>2015</td>\n",
       "      <td>10</td>\n",
       "      <td>9</td>\n",
       "      <td>Documentary</td>\n",
       "    </tr>\n",
       "    <tr>\n",
       "      <th>581</th>\n",
       "      <td>Springsteen on Broadway</td>\n",
       "      <td>2018-12-16</td>\n",
       "      <td>153</td>\n",
       "      <td>8.5</td>\n",
       "      <td>English</td>\n",
       "      <td>2018</td>\n",
       "      <td>12</td>\n",
       "      <td>16</td>\n",
       "      <td>One-man show</td>\n",
       "    </tr>\n",
       "    <tr>\n",
       "      <th>582</th>\n",
       "      <td>Emicida: AmarElo - It's All For Yesterday</td>\n",
       "      <td>2020-12-08</td>\n",
       "      <td>89</td>\n",
       "      <td>8.6</td>\n",
       "      <td>Portuguese</td>\n",
       "      <td>2020</td>\n",
       "      <td>12</td>\n",
       "      <td>8</td>\n",
       "      <td>Documentary</td>\n",
       "    </tr>\n",
       "    <tr>\n",
       "      <th>583</th>\n",
       "      <td>David Attenborough: A Life on Our Planet</td>\n",
       "      <td>2020-10-04</td>\n",
       "      <td>83</td>\n",
       "      <td>9.0</td>\n",
       "      <td>English</td>\n",
       "      <td>2020</td>\n",
       "      <td>10</td>\n",
       "      <td>4</td>\n",
       "      <td>Documentary</td>\n",
       "    </tr>\n",
       "  </tbody>\n",
       "</table>\n",
       "<p>643 rows × 9 columns</p>\n",
       "</div>"
      ],
      "text/plain": [
       "                                           Title   Premiere  Runtime  \\\n",
       "0                                Enter the Anime 2019-08-05       58   \n",
       "1                                    Dark Forces 2020-08-21       81   \n",
       "2                                        The App 2019-12-26       79   \n",
       "2                                        The App 2019-12-26       79   \n",
       "3                                 The Open House 2018-01-19       94   \n",
       "..                                           ...        ...      ...   \n",
       "579        Taylor Swift: Reputation Stadium Tour 2018-12-31      125   \n",
       "580  Winter on Fire: Ukraine's Fight for Freedom 2015-10-09       91   \n",
       "581                      Springsteen on Broadway 2018-12-16      153   \n",
       "582    Emicida: AmarElo - It's All For Yesterday 2020-12-08       89   \n",
       "583     David Attenborough: A Life on Our Planet 2020-10-04       83   \n",
       "\n",
       "     IMDB Score                  Language  Premiere_year  Premiere_month  \\\n",
       "0           2.5          English/Japanese           2019               8   \n",
       "1           2.6                   Spanish           2020               8   \n",
       "2           2.6                   Italian           2019              12   \n",
       "2           2.6                   Italian           2019              12   \n",
       "3           3.2                   English           2018               1   \n",
       "..          ...                       ...            ...             ...   \n",
       "579         8.4                   English           2018              12   \n",
       "580         8.4  English/Ukranian/Russian           2015              10   \n",
       "581         8.5                   English           2018              12   \n",
       "582         8.6                Portuguese           2020              12   \n",
       "583         9.0                   English           2020              10   \n",
       "\n",
       "     Premiere_day            Genre  \n",
       "0               5      Documentary  \n",
       "1              21         Thriller  \n",
       "2              26  Science fiction  \n",
       "2              26            Drama  \n",
       "3              19  Horror thriller  \n",
       "..            ...              ...  \n",
       "579            31     Concert Film  \n",
       "580             9      Documentary  \n",
       "581            16     One-man show  \n",
       "582             8      Documentary  \n",
       "583             4      Documentary  \n",
       "\n",
       "[643 rows x 9 columns]"
      ]
     },
     "execution_count": 17,
     "metadata": {},
     "output_type": "execute_result"
    }
   ],
   "source": [
    "# split genre into different rows\n",
    "# only one genre in one rows\n",
    "genre_split = df.copy()\n",
    "genre_split = genre_split.drop('Genre', axis=1).join(genre_split['Genre'].str.split('/', expand=True).stack().reset_index(level=1, drop=True).rename('Genre'))\n",
    "genre_split\n"
   ]
  },
  {
   "cell_type": "code",
   "execution_count": 18,
   "metadata": {},
   "outputs": [
    {
     "data": {
      "text/plain": [
       "array(['Documentary', 'Thriller', 'Science fiction', 'Drama',\n",
       "       'Horror thriller', 'Mystery', 'Action', 'Comedy', 'Heist film',\n",
       "       'Musical', 'Western', 'Fantasy', 'Romantic comedy',\n",
       "       'Action comedy', 'Horror anthology', 'Political thriller',\n",
       "       'Superhero-Comedy', 'Horror', 'Romance drama', 'Anime', 'Short',\n",
       "       'Superhero', 'Heist', 'Animation', 'Family film',\n",
       "       'Action-thriller', 'Teen comedy-drama', 'Romantic drama',\n",
       "       'Aftershow', 'Interview', 'Christmas musical',\n",
       "       'Science fiction adventure', 'Variety show', 'Comedy-drama',\n",
       "       'Family', 'Supernatural drama', 'Romantic teenage drama',\n",
       "       'Crime drama', 'Psychological thriller drama', 'Adventure',\n",
       "       'Black comedy', 'Romance', 'Horror comedy', 'Christian musical',\n",
       "       'Romantic teen drama', 'Dark comedy', 'Comedy horror',\n",
       "       'Psychological thriller', 'Biopic', 'Mockumentary', 'Satire',\n",
       "       'One-man show', 'Romantic comedy-drama', 'Sports-drama', 'Zombie',\n",
       "       'Psychological horror', 'Sports film', 'Comedy mystery',\n",
       "       'Romantic thriller', 'Christmas comedy', 'War-Comedy', 'Holiday',\n",
       "       'Adventure-romance', 'Horror-thriller', 'Dance comedy',\n",
       "       'Stop Motion', 'Urban fantasy', 'War', 'Crime thriller',\n",
       "       'Teen comedy horror', 'Concert Film', 'Musical comedy', 'Musicial',\n",
       "       'Action thriller', 'War drama', 'Science fiction thriller',\n",
       "       'Hidden-camera prank comedy', 'Spy thriller',\n",
       "       'Animated musical comedy', 'Variety Show', 'Biographical',\n",
       "       'Historical-epic', 'Christmas', 'Mentalism special',\n",
       "       'Drama-Comedy', 'Coming-of-age comedy-drama', 'Historical drama',\n",
       "       'Making-of', 'Action-adventure', 'Science Fiction', 'Anthology'],\n",
       "      dtype=object)"
      ]
     },
     "execution_count": 18,
     "metadata": {},
     "output_type": "execute_result"
    }
   ],
   "source": [
    "#remove whitespace in genre column with strip()\n",
    "genre_split['Genre'] = genre_split['Genre'].str.strip()\n",
    "genre_split['Genre'].unique()\n"
   ]
  },
  {
   "cell_type": "code",
   "execution_count": 19,
   "metadata": {},
   "outputs": [
    {
     "data": {
      "text/plain": [
       "array(['Documentary', 'Thriller', 'Science fiction', 'Drama',\n",
       "       'Horror thriller', 'Mystery', 'Action', 'Comedy', 'Heist',\n",
       "       'Musical', 'Western', 'Fantasy', 'Romantic comedy',\n",
       "       'Action comedy', 'Horror anthology', 'Political thriller',\n",
       "       'Superhero-Comedy', 'Horror', 'Romance drama', 'Anime', 'Short',\n",
       "       'Superhero', 'Animation', 'Family film', 'Action-thriller',\n",
       "       'Teen comedy-drama', 'Romantic drama', 'Aftershow', 'Interview',\n",
       "       'Christmas musical', 'Science fiction adventure', 'Variety show',\n",
       "       'Drama-Comedy', 'Family', 'Supernatural drama',\n",
       "       'Romantic teenage drama', 'Crime drama',\n",
       "       'Psychological thriller drama', 'Adventure', 'Black comedy',\n",
       "       'Romance', 'Horror comedy', 'Christian musical',\n",
       "       'Romantic teen drama', 'Dark comedy', 'Psychological thriller',\n",
       "       'Biopic', 'Mockumentary', 'Satire', 'One-man show',\n",
       "       'Romantic comedy-drama', 'Sports-drama', 'Zombie',\n",
       "       'Psychological horror', 'Sports film', 'Comedy mystery',\n",
       "       'Romantic thriller', 'Christmas comedy', 'War-Comedy', 'Holiday',\n",
       "       'Adventure-romance', 'Horror-thriller', 'Dance comedy',\n",
       "       'Stop Motion', 'Urban fantasy', 'War', 'Crime thriller',\n",
       "       'Teen comedy horror', 'Concert Film', 'Musical comedy', 'Musicial',\n",
       "       'Action thriller', 'War drama', 'Science fiction thriller',\n",
       "       'Hidden-camera prank comedy', 'Spy thriller',\n",
       "       'Animated musical comedy', 'Variety Show', 'Biographical',\n",
       "       'Historical-epic', 'Christmas', 'Mentalism special',\n",
       "       'Coming-of-age comedy-drama', 'Historical drama', 'Making-of',\n",
       "       'Action-adventure', 'Science Fiction', 'Anthology'], dtype=object)"
      ]
     },
     "execution_count": 19,
     "metadata": {},
     "output_type": "execute_result"
    }
   ],
   "source": [
    "# -> as we see here 'Horror comedy' and 'Comedy horror' are the same. \n",
    "# 'Comedy-drama' and 'Drama-Comedy'\n",
    "# 'Heist' and 'Heist film'\n",
    "genre_split['Genre'] = genre_split['Genre'].replace({'Comedy horror':'Horror comedy'})\n",
    "genre_split['Genre'] = genre_split['Genre'].replace({'Comedy-drama':'Drama-Comedy'})\n",
    "genre_split['Genre'] = genre_split['Genre'].replace({'Heist film':'Heist'})\n",
    "genre_split['Genre'].unique()"
   ]
  },
  {
   "cell_type": "code",
   "execution_count": 20,
   "metadata": {},
   "outputs": [
    {
     "data": {
      "text/plain": [
       "Documentary          24.727838\n",
       "Drama                12.752722\n",
       "Comedy                9.331260\n",
       "Romantic comedy       6.220840\n",
       "Thriller              5.909798\n",
       "                       ...    \n",
       "Christmas comedy      0.155521\n",
       "War-Comedy            0.155521\n",
       "Adventure-romance     0.155521\n",
       "Dance comedy          0.155521\n",
       "Anthology             0.155521\n",
       "Name: Genre, Length: 88, dtype: float64"
      ]
     },
     "execution_count": 20,
     "metadata": {},
     "output_type": "execute_result"
    }
   ],
   "source": [
    "genre_split['Genre'].value_counts(normalize=True)*100"
   ]
  },
  {
   "cell_type": "markdown",
   "metadata": {},
   "source": [
    "We have 88 different genres"
   ]
  },
  {
   "cell_type": "code",
   "execution_count": 21,
   "metadata": {},
   "outputs": [],
   "source": [
    "genre = genre_split['Genre'].value_counts().nlargest(30)"
   ]
  },
  {
   "cell_type": "code",
   "execution_count": 22,
   "metadata": {},
   "outputs": [
    {
     "data": {
      "application/vnd.plotly.v1+json": {
       "config": {
        "plotlyServerURL": "https://plot.ly"
       },
       "data": [
        {
         "alignmentgroup": "True",
         "hovertemplate": "Genre=%{x}<br>Number of Movies=%{y}<extra></extra>",
         "legendgroup": "",
         "marker": {
          "color": "#636efa",
          "pattern": {
           "shape": ""
          }
         },
         "name": "",
         "offsetgroup": "",
         "orientation": "v",
         "showlegend": false,
         "textposition": "auto",
         "type": "bar",
         "x": [
          "Documentary",
          "Drama",
          "Comedy",
          "Romantic comedy",
          "Thriller",
          "Animation",
          "Drama-Comedy",
          "Science fiction",
          "Horror",
          "Crime drama",
          "Action",
          "Biopic",
          "Musical",
          "Adventure",
          "Short",
          "Interview",
          "Aftershow",
          "Romance",
          "Concert Film",
          "Action comedy",
          "Family",
          "Romantic drama",
          "Fantasy",
          "Anime",
          "Superhero",
          "Variety show",
          "Western",
          "Psychological thriller",
          "One-man show",
          "Sports-drama"
         ],
         "xaxis": "x",
         "y": [
          159,
          82,
          60,
          40,
          38,
          16,
          16,
          16,
          12,
          12,
          11,
          9,
          7,
          7,
          7,
          6,
          6,
          6,
          6,
          5,
          5,
          5,
          5,
          4,
          4,
          4,
          4,
          4,
          3,
          3
         ],
         "yaxis": "y"
        }
       ],
       "layout": {
        "barmode": "relative",
        "legend": {
         "tracegroupgap": 0
        },
        "template": {
         "data": {
          "bar": [
           {
            "error_x": {
             "color": "#2a3f5f"
            },
            "error_y": {
             "color": "#2a3f5f"
            },
            "marker": {
             "line": {
              "color": "#E5ECF6",
              "width": 0.5
             },
             "pattern": {
              "fillmode": "overlay",
              "size": 10,
              "solidity": 0.2
             }
            },
            "type": "bar"
           }
          ],
          "barpolar": [
           {
            "marker": {
             "line": {
              "color": "#E5ECF6",
              "width": 0.5
             },
             "pattern": {
              "fillmode": "overlay",
              "size": 10,
              "solidity": 0.2
             }
            },
            "type": "barpolar"
           }
          ],
          "carpet": [
           {
            "aaxis": {
             "endlinecolor": "#2a3f5f",
             "gridcolor": "white",
             "linecolor": "white",
             "minorgridcolor": "white",
             "startlinecolor": "#2a3f5f"
            },
            "baxis": {
             "endlinecolor": "#2a3f5f",
             "gridcolor": "white",
             "linecolor": "white",
             "minorgridcolor": "white",
             "startlinecolor": "#2a3f5f"
            },
            "type": "carpet"
           }
          ],
          "choropleth": [
           {
            "colorbar": {
             "outlinewidth": 0,
             "ticks": ""
            },
            "type": "choropleth"
           }
          ],
          "contour": [
           {
            "colorbar": {
             "outlinewidth": 0,
             "ticks": ""
            },
            "colorscale": [
             [
              0,
              "#0d0887"
             ],
             [
              0.1111111111111111,
              "#46039f"
             ],
             [
              0.2222222222222222,
              "#7201a8"
             ],
             [
              0.3333333333333333,
              "#9c179e"
             ],
             [
              0.4444444444444444,
              "#bd3786"
             ],
             [
              0.5555555555555556,
              "#d8576b"
             ],
             [
              0.6666666666666666,
              "#ed7953"
             ],
             [
              0.7777777777777778,
              "#fb9f3a"
             ],
             [
              0.8888888888888888,
              "#fdca26"
             ],
             [
              1,
              "#f0f921"
             ]
            ],
            "type": "contour"
           }
          ],
          "contourcarpet": [
           {
            "colorbar": {
             "outlinewidth": 0,
             "ticks": ""
            },
            "type": "contourcarpet"
           }
          ],
          "heatmap": [
           {
            "colorbar": {
             "outlinewidth": 0,
             "ticks": ""
            },
            "colorscale": [
             [
              0,
              "#0d0887"
             ],
             [
              0.1111111111111111,
              "#46039f"
             ],
             [
              0.2222222222222222,
              "#7201a8"
             ],
             [
              0.3333333333333333,
              "#9c179e"
             ],
             [
              0.4444444444444444,
              "#bd3786"
             ],
             [
              0.5555555555555556,
              "#d8576b"
             ],
             [
              0.6666666666666666,
              "#ed7953"
             ],
             [
              0.7777777777777778,
              "#fb9f3a"
             ],
             [
              0.8888888888888888,
              "#fdca26"
             ],
             [
              1,
              "#f0f921"
             ]
            ],
            "type": "heatmap"
           }
          ],
          "heatmapgl": [
           {
            "colorbar": {
             "outlinewidth": 0,
             "ticks": ""
            },
            "colorscale": [
             [
              0,
              "#0d0887"
             ],
             [
              0.1111111111111111,
              "#46039f"
             ],
             [
              0.2222222222222222,
              "#7201a8"
             ],
             [
              0.3333333333333333,
              "#9c179e"
             ],
             [
              0.4444444444444444,
              "#bd3786"
             ],
             [
              0.5555555555555556,
              "#d8576b"
             ],
             [
              0.6666666666666666,
              "#ed7953"
             ],
             [
              0.7777777777777778,
              "#fb9f3a"
             ],
             [
              0.8888888888888888,
              "#fdca26"
             ],
             [
              1,
              "#f0f921"
             ]
            ],
            "type": "heatmapgl"
           }
          ],
          "histogram": [
           {
            "marker": {
             "pattern": {
              "fillmode": "overlay",
              "size": 10,
              "solidity": 0.2
             }
            },
            "type": "histogram"
           }
          ],
          "histogram2d": [
           {
            "colorbar": {
             "outlinewidth": 0,
             "ticks": ""
            },
            "colorscale": [
             [
              0,
              "#0d0887"
             ],
             [
              0.1111111111111111,
              "#46039f"
             ],
             [
              0.2222222222222222,
              "#7201a8"
             ],
             [
              0.3333333333333333,
              "#9c179e"
             ],
             [
              0.4444444444444444,
              "#bd3786"
             ],
             [
              0.5555555555555556,
              "#d8576b"
             ],
             [
              0.6666666666666666,
              "#ed7953"
             ],
             [
              0.7777777777777778,
              "#fb9f3a"
             ],
             [
              0.8888888888888888,
              "#fdca26"
             ],
             [
              1,
              "#f0f921"
             ]
            ],
            "type": "histogram2d"
           }
          ],
          "histogram2dcontour": [
           {
            "colorbar": {
             "outlinewidth": 0,
             "ticks": ""
            },
            "colorscale": [
             [
              0,
              "#0d0887"
             ],
             [
              0.1111111111111111,
              "#46039f"
             ],
             [
              0.2222222222222222,
              "#7201a8"
             ],
             [
              0.3333333333333333,
              "#9c179e"
             ],
             [
              0.4444444444444444,
              "#bd3786"
             ],
             [
              0.5555555555555556,
              "#d8576b"
             ],
             [
              0.6666666666666666,
              "#ed7953"
             ],
             [
              0.7777777777777778,
              "#fb9f3a"
             ],
             [
              0.8888888888888888,
              "#fdca26"
             ],
             [
              1,
              "#f0f921"
             ]
            ],
            "type": "histogram2dcontour"
           }
          ],
          "mesh3d": [
           {
            "colorbar": {
             "outlinewidth": 0,
             "ticks": ""
            },
            "type": "mesh3d"
           }
          ],
          "parcoords": [
           {
            "line": {
             "colorbar": {
              "outlinewidth": 0,
              "ticks": ""
             }
            },
            "type": "parcoords"
           }
          ],
          "pie": [
           {
            "automargin": true,
            "type": "pie"
           }
          ],
          "scatter": [
           {
            "marker": {
             "colorbar": {
              "outlinewidth": 0,
              "ticks": ""
             }
            },
            "type": "scatter"
           }
          ],
          "scatter3d": [
           {
            "line": {
             "colorbar": {
              "outlinewidth": 0,
              "ticks": ""
             }
            },
            "marker": {
             "colorbar": {
              "outlinewidth": 0,
              "ticks": ""
             }
            },
            "type": "scatter3d"
           }
          ],
          "scattercarpet": [
           {
            "marker": {
             "colorbar": {
              "outlinewidth": 0,
              "ticks": ""
             }
            },
            "type": "scattercarpet"
           }
          ],
          "scattergeo": [
           {
            "marker": {
             "colorbar": {
              "outlinewidth": 0,
              "ticks": ""
             }
            },
            "type": "scattergeo"
           }
          ],
          "scattergl": [
           {
            "marker": {
             "colorbar": {
              "outlinewidth": 0,
              "ticks": ""
             }
            },
            "type": "scattergl"
           }
          ],
          "scattermapbox": [
           {
            "marker": {
             "colorbar": {
              "outlinewidth": 0,
              "ticks": ""
             }
            },
            "type": "scattermapbox"
           }
          ],
          "scatterpolar": [
           {
            "marker": {
             "colorbar": {
              "outlinewidth": 0,
              "ticks": ""
             }
            },
            "type": "scatterpolar"
           }
          ],
          "scatterpolargl": [
           {
            "marker": {
             "colorbar": {
              "outlinewidth": 0,
              "ticks": ""
             }
            },
            "type": "scatterpolargl"
           }
          ],
          "scatterternary": [
           {
            "marker": {
             "colorbar": {
              "outlinewidth": 0,
              "ticks": ""
             }
            },
            "type": "scatterternary"
           }
          ],
          "surface": [
           {
            "colorbar": {
             "outlinewidth": 0,
             "ticks": ""
            },
            "colorscale": [
             [
              0,
              "#0d0887"
             ],
             [
              0.1111111111111111,
              "#46039f"
             ],
             [
              0.2222222222222222,
              "#7201a8"
             ],
             [
              0.3333333333333333,
              "#9c179e"
             ],
             [
              0.4444444444444444,
              "#bd3786"
             ],
             [
              0.5555555555555556,
              "#d8576b"
             ],
             [
              0.6666666666666666,
              "#ed7953"
             ],
             [
              0.7777777777777778,
              "#fb9f3a"
             ],
             [
              0.8888888888888888,
              "#fdca26"
             ],
             [
              1,
              "#f0f921"
             ]
            ],
            "type": "surface"
           }
          ],
          "table": [
           {
            "cells": {
             "fill": {
              "color": "#EBF0F8"
             },
             "line": {
              "color": "white"
             }
            },
            "header": {
             "fill": {
              "color": "#C8D4E3"
             },
             "line": {
              "color": "white"
             }
            },
            "type": "table"
           }
          ]
         },
         "layout": {
          "annotationdefaults": {
           "arrowcolor": "#2a3f5f",
           "arrowhead": 0,
           "arrowwidth": 1
          },
          "autotypenumbers": "strict",
          "coloraxis": {
           "colorbar": {
            "outlinewidth": 0,
            "ticks": ""
           }
          },
          "colorscale": {
           "diverging": [
            [
             0,
             "#8e0152"
            ],
            [
             0.1,
             "#c51b7d"
            ],
            [
             0.2,
             "#de77ae"
            ],
            [
             0.3,
             "#f1b6da"
            ],
            [
             0.4,
             "#fde0ef"
            ],
            [
             0.5,
             "#f7f7f7"
            ],
            [
             0.6,
             "#e6f5d0"
            ],
            [
             0.7,
             "#b8e186"
            ],
            [
             0.8,
             "#7fbc41"
            ],
            [
             0.9,
             "#4d9221"
            ],
            [
             1,
             "#276419"
            ]
           ],
           "sequential": [
            [
             0,
             "#0d0887"
            ],
            [
             0.1111111111111111,
             "#46039f"
            ],
            [
             0.2222222222222222,
             "#7201a8"
            ],
            [
             0.3333333333333333,
             "#9c179e"
            ],
            [
             0.4444444444444444,
             "#bd3786"
            ],
            [
             0.5555555555555556,
             "#d8576b"
            ],
            [
             0.6666666666666666,
             "#ed7953"
            ],
            [
             0.7777777777777778,
             "#fb9f3a"
            ],
            [
             0.8888888888888888,
             "#fdca26"
            ],
            [
             1,
             "#f0f921"
            ]
           ],
           "sequentialminus": [
            [
             0,
             "#0d0887"
            ],
            [
             0.1111111111111111,
             "#46039f"
            ],
            [
             0.2222222222222222,
             "#7201a8"
            ],
            [
             0.3333333333333333,
             "#9c179e"
            ],
            [
             0.4444444444444444,
             "#bd3786"
            ],
            [
             0.5555555555555556,
             "#d8576b"
            ],
            [
             0.6666666666666666,
             "#ed7953"
            ],
            [
             0.7777777777777778,
             "#fb9f3a"
            ],
            [
             0.8888888888888888,
             "#fdca26"
            ],
            [
             1,
             "#f0f921"
            ]
           ]
          },
          "colorway": [
           "#636efa",
           "#EF553B",
           "#00cc96",
           "#ab63fa",
           "#FFA15A",
           "#19d3f3",
           "#FF6692",
           "#B6E880",
           "#FF97FF",
           "#FECB52"
          ],
          "font": {
           "color": "#2a3f5f"
          },
          "geo": {
           "bgcolor": "white",
           "lakecolor": "white",
           "landcolor": "#E5ECF6",
           "showlakes": true,
           "showland": true,
           "subunitcolor": "white"
          },
          "hoverlabel": {
           "align": "left"
          },
          "hovermode": "closest",
          "mapbox": {
           "style": "light"
          },
          "paper_bgcolor": "white",
          "plot_bgcolor": "#E5ECF6",
          "polar": {
           "angularaxis": {
            "gridcolor": "white",
            "linecolor": "white",
            "ticks": ""
           },
           "bgcolor": "#E5ECF6",
           "radialaxis": {
            "gridcolor": "white",
            "linecolor": "white",
            "ticks": ""
           }
          },
          "scene": {
           "xaxis": {
            "backgroundcolor": "#E5ECF6",
            "gridcolor": "white",
            "gridwidth": 2,
            "linecolor": "white",
            "showbackground": true,
            "ticks": "",
            "zerolinecolor": "white"
           },
           "yaxis": {
            "backgroundcolor": "#E5ECF6",
            "gridcolor": "white",
            "gridwidth": 2,
            "linecolor": "white",
            "showbackground": true,
            "ticks": "",
            "zerolinecolor": "white"
           },
           "zaxis": {
            "backgroundcolor": "#E5ECF6",
            "gridcolor": "white",
            "gridwidth": 2,
            "linecolor": "white",
            "showbackground": true,
            "ticks": "",
            "zerolinecolor": "white"
           }
          },
          "shapedefaults": {
           "line": {
            "color": "#2a3f5f"
           }
          },
          "ternary": {
           "aaxis": {
            "gridcolor": "white",
            "linecolor": "white",
            "ticks": ""
           },
           "baxis": {
            "gridcolor": "white",
            "linecolor": "white",
            "ticks": ""
           },
           "bgcolor": "#E5ECF6",
           "caxis": {
            "gridcolor": "white",
            "linecolor": "white",
            "ticks": ""
           }
          },
          "title": {
           "x": 0.05
          },
          "xaxis": {
           "automargin": true,
           "gridcolor": "white",
           "linecolor": "white",
           "ticks": "",
           "title": {
            "standoff": 15
           },
           "zerolinecolor": "white",
           "zerolinewidth": 2
          },
          "yaxis": {
           "automargin": true,
           "gridcolor": "white",
           "linecolor": "white",
           "ticks": "",
           "title": {
            "standoff": 15
           },
           "zerolinecolor": "white",
           "zerolinewidth": 2
          }
         }
        },
        "title": {
         "text": "Top 30 number of Movies from the Genre"
        },
        "xaxis": {
         "anchor": "y",
         "domain": [
          0,
          1
         ],
         "title": {
          "text": "Genre"
         }
        },
        "yaxis": {
         "anchor": "x",
         "domain": [
          0,
          1
         ],
         "title": {
          "text": "Number of Movies"
         }
        }
       }
      }
     },
     "metadata": {},
     "output_type": "display_data"
    }
   ],
   "source": [
    "px.bar(genre, y=genre.values, x=genre.index, title=\"Top 30 number of Movies from the Genre\",\n",
    "        labels={'index': 'Genre', 'y':'Number of Movies'})"
   ]
  },
  {
   "cell_type": "markdown",
   "metadata": {},
   "source": [
    "#### --> *The documentary genre is the most genre whose movies premiered on Netflix*"
   ]
  },
  {
   "cell_type": "markdown",
   "metadata": {},
   "source": [
    "### 3. Runtime analysis"
   ]
  },
  {
   "cell_type": "code",
   "execution_count": 23,
   "metadata": {},
   "outputs": [
    {
     "data": {
      "text/plain": [
       "count    584.000000\n",
       "mean      93.577055\n",
       "std       27.761683\n",
       "min        4.000000\n",
       "25%       86.000000\n",
       "50%       97.000000\n",
       "75%      108.000000\n",
       "max      209.000000\n",
       "Name: Runtime, dtype: float64"
      ]
     },
     "execution_count": 23,
     "metadata": {},
     "output_type": "execute_result"
    }
   ],
   "source": [
    "df['Runtime'].describe()"
   ]
  },
  {
   "cell_type": "code",
   "execution_count": 24,
   "metadata": {},
   "outputs": [
    {
     "data": {
      "text/html": [
       "<div>\n",
       "<style scoped>\n",
       "    .dataframe tbody tr th:only-of-type {\n",
       "        vertical-align: middle;\n",
       "    }\n",
       "\n",
       "    .dataframe tbody tr th {\n",
       "        vertical-align: top;\n",
       "    }\n",
       "\n",
       "    .dataframe thead th {\n",
       "        text-align: right;\n",
       "    }\n",
       "</style>\n",
       "<table border=\"1\" class=\"dataframe\">\n",
       "  <thead>\n",
       "    <tr style=\"text-align: right;\">\n",
       "      <th></th>\n",
       "      <th>Title</th>\n",
       "      <th>Genre</th>\n",
       "      <th>Premiere</th>\n",
       "      <th>Runtime</th>\n",
       "      <th>IMDB Score</th>\n",
       "      <th>Language</th>\n",
       "      <th>Premiere_year</th>\n",
       "      <th>Premiere_month</th>\n",
       "      <th>Premiere_day</th>\n",
       "    </tr>\n",
       "  </thead>\n",
       "  <tbody>\n",
       "    <tr>\n",
       "      <th>561</th>\n",
       "      <td>The Irishman</td>\n",
       "      <td>Crime drama</td>\n",
       "      <td>2019-11-27</td>\n",
       "      <td>209</td>\n",
       "      <td>7.8</td>\n",
       "      <td>English</td>\n",
       "      <td>2019</td>\n",
       "      <td>11</td>\n",
       "      <td>27</td>\n",
       "    </tr>\n",
       "  </tbody>\n",
       "</table>\n",
       "</div>"
      ],
      "text/plain": [
       "            Title        Genre   Premiere  Runtime  IMDB Score Language  \\\n",
       "561  The Irishman  Crime drama 2019-11-27      209         7.8  English   \n",
       "\n",
       "     Premiere_year  Premiere_month  Premiere_day  \n",
       "561           2019              11            27  "
      ]
     },
     "execution_count": 24,
     "metadata": {},
     "output_type": "execute_result"
    }
   ],
   "source": [
    "df[df['Runtime']==df['Runtime'].max()]\n",
    "# The longest movie is called 'The Irishman' with 209 minutes"
   ]
  },
  {
   "cell_type": "code",
   "execution_count": 25,
   "metadata": {},
   "outputs": [
    {
     "data": {
      "text/html": [
       "<div>\n",
       "<style scoped>\n",
       "    .dataframe tbody tr th:only-of-type {\n",
       "        vertical-align: middle;\n",
       "    }\n",
       "\n",
       "    .dataframe tbody tr th {\n",
       "        vertical-align: top;\n",
       "    }\n",
       "\n",
       "    .dataframe thead th {\n",
       "        text-align: right;\n",
       "    }\n",
       "</style>\n",
       "<table border=\"1\" class=\"dataframe\">\n",
       "  <thead>\n",
       "    <tr style=\"text-align: right;\">\n",
       "      <th></th>\n",
       "      <th>Title</th>\n",
       "      <th>Genre</th>\n",
       "      <th>Premiere</th>\n",
       "      <th>Runtime</th>\n",
       "      <th>IMDB Score</th>\n",
       "      <th>Language</th>\n",
       "      <th>Premiere_year</th>\n",
       "      <th>Premiere_month</th>\n",
       "      <th>Premiere_day</th>\n",
       "    </tr>\n",
       "  </thead>\n",
       "  <tbody>\n",
       "    <tr>\n",
       "      <th>40</th>\n",
       "      <td>Sol Levante</td>\n",
       "      <td>Anime / Short</td>\n",
       "      <td>2020-04-02</td>\n",
       "      <td>4</td>\n",
       "      <td>4.7</td>\n",
       "      <td>English</td>\n",
       "      <td>2020</td>\n",
       "      <td>4</td>\n",
       "      <td>2</td>\n",
       "    </tr>\n",
       "  </tbody>\n",
       "</table>\n",
       "</div>"
      ],
      "text/plain": [
       "          Title          Genre   Premiere  Runtime  IMDB Score Language  \\\n",
       "40  Sol Levante  Anime / Short 2020-04-02        4         4.7  English   \n",
       "\n",
       "    Premiere_year  Premiere_month  Premiere_day  \n",
       "40           2020               4             2  "
      ]
     },
     "execution_count": 25,
     "metadata": {},
     "output_type": "execute_result"
    }
   ],
   "source": [
    "df[df['Runtime']==df['Runtime'].min()]\n",
    "# The shortest movie is called 'Sol Levante' with 4 minutes"
   ]
  },
  {
   "cell_type": "code",
   "execution_count": 26,
   "metadata": {},
   "outputs": [
    {
     "data": {
      "application/vnd.plotly.v1+json": {
       "config": {
        "plotlyServerURL": "https://plot.ly"
       },
       "data": [
        {
         "alignmentgroup": "True",
         "bingroup": "x",
         "hovertemplate": "Runtime=%{x}<br>count=%{y}<extra></extra>",
         "legendgroup": "",
         "marker": {
          "color": "#636efa",
          "pattern": {
           "shape": ""
          }
         },
         "name": "",
         "offsetgroup": "",
         "orientation": "v",
         "showlegend": false,
         "type": "histogram",
         "x": [
          58,
          81,
          79,
          94,
          90,
          147,
          112,
          149,
          73,
          139,
          58,
          112,
          97,
          101,
          90,
          25,
          144,
          115,
          102,
          100,
          64,
          97,
          99,
          120,
          105,
          89,
          97,
          107,
          99,
          95,
          37,
          89,
          83,
          46,
          85,
          88,
          86,
          105,
          95,
          80,
          4,
          93,
          100,
          106,
          97,
          106,
          103,
          80,
          101,
          119,
          80,
          89,
          94,
          93,
          96,
          113,
          86,
          100,
          102,
          86,
          104,
          88,
          97,
          105,
          90,
          99,
          10,
          106,
          98,
          94,
          112,
          117,
          70,
          81,
          103,
          94,
          98,
          131,
          87,
          60,
          112,
          102,
          99,
          116,
          92,
          83,
          97,
          112,
          116,
          102,
          121,
          95,
          93,
          92,
          98,
          85,
          78,
          120,
          92,
          101,
          119,
          101,
          112,
          96,
          114,
          97,
          101,
          56,
          100,
          94,
          94,
          21,
          104,
          63,
          100,
          126,
          106,
          86,
          142,
          108,
          102,
          92,
          83,
          94,
          92,
          103,
          89,
          95,
          103,
          97,
          125,
          91,
          90,
          49,
          98,
          107,
          118,
          94,
          103,
          86,
          83,
          97,
          99,
          104,
          102,
          89,
          98,
          125,
          89,
          94,
          94,
          85,
          34,
          86,
          91,
          108,
          95,
          100,
          90,
          112,
          86,
          124,
          107,
          92,
          121,
          90,
          104,
          92,
          114,
          98,
          95,
          78,
          107,
          92,
          95,
          96,
          118,
          105,
          94,
          52,
          105,
          95,
          100,
          97,
          89,
          102,
          96,
          131,
          89,
          93,
          111,
          75,
          120,
          96,
          148,
          94,
          107,
          32,
          104,
          23,
          111,
          83,
          53,
          95,
          132,
          98,
          108,
          106,
          104,
          90,
          106,
          90,
          97,
          113,
          123,
          115,
          105,
          101,
          102,
          122,
          128,
          82,
          102,
          80,
          94,
          123,
          104,
          85,
          84,
          103,
          95,
          100,
          89,
          116,
          118,
          96,
          114,
          99,
          87,
          92,
          90,
          95,
          96,
          93,
          42,
          92,
          106,
          151,
          101,
          114,
          90,
          115,
          92,
          72,
          139,
          98,
          92,
          111,
          98,
          104,
          95,
          88,
          102,
          30,
          99,
          129,
          87,
          117,
          104,
          111,
          107,
          97,
          98,
          90,
          101,
          72,
          83,
          118,
          44,
          113,
          86,
          108,
          85,
          102,
          151,
          98,
          87,
          120,
          134,
          109,
          85,
          103,
          94,
          97,
          88,
          37,
          112,
          102,
          100,
          96,
          113,
          16,
          119,
          97,
          81,
          98,
          95,
          96,
          107,
          41,
          87,
          101,
          97,
          103,
          90,
          125,
          116,
          99,
          82,
          97,
          28,
          108,
          93,
          74,
          60,
          9,
          21,
          100,
          155,
          55,
          123,
          103,
          93,
          119,
          40,
          120,
          98,
          104,
          91,
          95,
          101,
          105,
          83,
          91,
          83,
          17,
          86,
          124,
          94,
          102,
          118,
          79,
          134,
          126,
          98,
          89,
          58,
          83,
          136,
          98,
          114,
          99,
          130,
          32,
          104,
          142,
          92,
          86,
          106,
          95,
          91,
          89,
          117,
          90,
          117,
          80,
          87,
          101,
          19,
          106,
          54,
          111,
          132,
          97,
          106,
          111,
          124,
          116,
          112,
          144,
          76,
          101,
          92,
          19,
          39,
          102,
          89,
          105,
          101,
          70,
          96,
          85,
          39,
          79,
          73,
          114,
          121,
          28,
          95,
          122,
          23,
          107,
          98,
          108,
          92,
          100,
          97,
          7,
          96,
          100,
          132,
          103,
          121,
          114,
          57,
          95,
          83,
          17,
          105,
          131,
          30,
          112,
          86,
          100,
          14,
          109,
          28,
          64,
          94,
          31,
          99,
          108,
          48,
          84,
          70,
          27,
          45,
          117,
          104,
          108,
          121,
          36,
          30,
          47,
          110,
          92,
          80,
          49,
          73,
          40,
          96,
          106,
          97,
          94,
          78,
          81,
          87,
          91,
          91,
          95,
          126,
          31,
          58,
          41,
          138,
          112,
          114,
          125,
          99,
          82,
          98,
          136,
          97,
          107,
          92,
          39,
          133,
          89,
          124,
          99,
          101,
          97,
          124,
          129,
          121,
          140,
          13,
          108,
          11,
          118,
          121,
          24,
          100,
          101,
          105,
          96,
          47,
          121,
          100,
          149,
          64,
          64,
          114,
          15,
          79,
          90,
          132,
          105,
          97,
          83,
          110,
          39,
          40,
          85,
          26,
          87,
          97,
          118,
          23,
          40,
          98,
          80,
          108,
          79,
          74,
          90,
          137,
          71,
          98,
          70,
          99,
          40,
          104,
          149,
          124,
          144,
          85,
          100,
          94,
          125,
          84,
          117,
          15,
          136,
          76,
          108,
          94,
          90,
          72,
          135,
          12,
          209,
          130,
          82,
          120,
          136,
          112,
          105,
          89,
          85,
          106,
          100,
          107,
          97,
          89,
          109,
          114,
          51,
          85,
          125,
          91,
          153,
          89,
          83
         ],
         "xaxis": "x",
         "yaxis": "y"
        },
        {
         "alignmentgroup": "True",
         "hovertemplate": "Runtime=%{x}<extra></extra>",
         "legendgroup": "",
         "marker": {
          "color": "#636efa"
         },
         "name": "",
         "notched": true,
         "offsetgroup": "",
         "showlegend": false,
         "type": "box",
         "x": [
          58,
          81,
          79,
          94,
          90,
          147,
          112,
          149,
          73,
          139,
          58,
          112,
          97,
          101,
          90,
          25,
          144,
          115,
          102,
          100,
          64,
          97,
          99,
          120,
          105,
          89,
          97,
          107,
          99,
          95,
          37,
          89,
          83,
          46,
          85,
          88,
          86,
          105,
          95,
          80,
          4,
          93,
          100,
          106,
          97,
          106,
          103,
          80,
          101,
          119,
          80,
          89,
          94,
          93,
          96,
          113,
          86,
          100,
          102,
          86,
          104,
          88,
          97,
          105,
          90,
          99,
          10,
          106,
          98,
          94,
          112,
          117,
          70,
          81,
          103,
          94,
          98,
          131,
          87,
          60,
          112,
          102,
          99,
          116,
          92,
          83,
          97,
          112,
          116,
          102,
          121,
          95,
          93,
          92,
          98,
          85,
          78,
          120,
          92,
          101,
          119,
          101,
          112,
          96,
          114,
          97,
          101,
          56,
          100,
          94,
          94,
          21,
          104,
          63,
          100,
          126,
          106,
          86,
          142,
          108,
          102,
          92,
          83,
          94,
          92,
          103,
          89,
          95,
          103,
          97,
          125,
          91,
          90,
          49,
          98,
          107,
          118,
          94,
          103,
          86,
          83,
          97,
          99,
          104,
          102,
          89,
          98,
          125,
          89,
          94,
          94,
          85,
          34,
          86,
          91,
          108,
          95,
          100,
          90,
          112,
          86,
          124,
          107,
          92,
          121,
          90,
          104,
          92,
          114,
          98,
          95,
          78,
          107,
          92,
          95,
          96,
          118,
          105,
          94,
          52,
          105,
          95,
          100,
          97,
          89,
          102,
          96,
          131,
          89,
          93,
          111,
          75,
          120,
          96,
          148,
          94,
          107,
          32,
          104,
          23,
          111,
          83,
          53,
          95,
          132,
          98,
          108,
          106,
          104,
          90,
          106,
          90,
          97,
          113,
          123,
          115,
          105,
          101,
          102,
          122,
          128,
          82,
          102,
          80,
          94,
          123,
          104,
          85,
          84,
          103,
          95,
          100,
          89,
          116,
          118,
          96,
          114,
          99,
          87,
          92,
          90,
          95,
          96,
          93,
          42,
          92,
          106,
          151,
          101,
          114,
          90,
          115,
          92,
          72,
          139,
          98,
          92,
          111,
          98,
          104,
          95,
          88,
          102,
          30,
          99,
          129,
          87,
          117,
          104,
          111,
          107,
          97,
          98,
          90,
          101,
          72,
          83,
          118,
          44,
          113,
          86,
          108,
          85,
          102,
          151,
          98,
          87,
          120,
          134,
          109,
          85,
          103,
          94,
          97,
          88,
          37,
          112,
          102,
          100,
          96,
          113,
          16,
          119,
          97,
          81,
          98,
          95,
          96,
          107,
          41,
          87,
          101,
          97,
          103,
          90,
          125,
          116,
          99,
          82,
          97,
          28,
          108,
          93,
          74,
          60,
          9,
          21,
          100,
          155,
          55,
          123,
          103,
          93,
          119,
          40,
          120,
          98,
          104,
          91,
          95,
          101,
          105,
          83,
          91,
          83,
          17,
          86,
          124,
          94,
          102,
          118,
          79,
          134,
          126,
          98,
          89,
          58,
          83,
          136,
          98,
          114,
          99,
          130,
          32,
          104,
          142,
          92,
          86,
          106,
          95,
          91,
          89,
          117,
          90,
          117,
          80,
          87,
          101,
          19,
          106,
          54,
          111,
          132,
          97,
          106,
          111,
          124,
          116,
          112,
          144,
          76,
          101,
          92,
          19,
          39,
          102,
          89,
          105,
          101,
          70,
          96,
          85,
          39,
          79,
          73,
          114,
          121,
          28,
          95,
          122,
          23,
          107,
          98,
          108,
          92,
          100,
          97,
          7,
          96,
          100,
          132,
          103,
          121,
          114,
          57,
          95,
          83,
          17,
          105,
          131,
          30,
          112,
          86,
          100,
          14,
          109,
          28,
          64,
          94,
          31,
          99,
          108,
          48,
          84,
          70,
          27,
          45,
          117,
          104,
          108,
          121,
          36,
          30,
          47,
          110,
          92,
          80,
          49,
          73,
          40,
          96,
          106,
          97,
          94,
          78,
          81,
          87,
          91,
          91,
          95,
          126,
          31,
          58,
          41,
          138,
          112,
          114,
          125,
          99,
          82,
          98,
          136,
          97,
          107,
          92,
          39,
          133,
          89,
          124,
          99,
          101,
          97,
          124,
          129,
          121,
          140,
          13,
          108,
          11,
          118,
          121,
          24,
          100,
          101,
          105,
          96,
          47,
          121,
          100,
          149,
          64,
          64,
          114,
          15,
          79,
          90,
          132,
          105,
          97,
          83,
          110,
          39,
          40,
          85,
          26,
          87,
          97,
          118,
          23,
          40,
          98,
          80,
          108,
          79,
          74,
          90,
          137,
          71,
          98,
          70,
          99,
          40,
          104,
          149,
          124,
          144,
          85,
          100,
          94,
          125,
          84,
          117,
          15,
          136,
          76,
          108,
          94,
          90,
          72,
          135,
          12,
          209,
          130,
          82,
          120,
          136,
          112,
          105,
          89,
          85,
          106,
          100,
          107,
          97,
          89,
          109,
          114,
          51,
          85,
          125,
          91,
          153,
          89,
          83
         ],
         "xaxis": "x2",
         "yaxis": "y2"
        }
       ],
       "layout": {
        "barmode": "relative",
        "legend": {
         "tracegroupgap": 0
        },
        "template": {
         "data": {
          "bar": [
           {
            "error_x": {
             "color": "#2a3f5f"
            },
            "error_y": {
             "color": "#2a3f5f"
            },
            "marker": {
             "line": {
              "color": "#E5ECF6",
              "width": 0.5
             },
             "pattern": {
              "fillmode": "overlay",
              "size": 10,
              "solidity": 0.2
             }
            },
            "type": "bar"
           }
          ],
          "barpolar": [
           {
            "marker": {
             "line": {
              "color": "#E5ECF6",
              "width": 0.5
             },
             "pattern": {
              "fillmode": "overlay",
              "size": 10,
              "solidity": 0.2
             }
            },
            "type": "barpolar"
           }
          ],
          "carpet": [
           {
            "aaxis": {
             "endlinecolor": "#2a3f5f",
             "gridcolor": "white",
             "linecolor": "white",
             "minorgridcolor": "white",
             "startlinecolor": "#2a3f5f"
            },
            "baxis": {
             "endlinecolor": "#2a3f5f",
             "gridcolor": "white",
             "linecolor": "white",
             "minorgridcolor": "white",
             "startlinecolor": "#2a3f5f"
            },
            "type": "carpet"
           }
          ],
          "choropleth": [
           {
            "colorbar": {
             "outlinewidth": 0,
             "ticks": ""
            },
            "type": "choropleth"
           }
          ],
          "contour": [
           {
            "colorbar": {
             "outlinewidth": 0,
             "ticks": ""
            },
            "colorscale": [
             [
              0,
              "#0d0887"
             ],
             [
              0.1111111111111111,
              "#46039f"
             ],
             [
              0.2222222222222222,
              "#7201a8"
             ],
             [
              0.3333333333333333,
              "#9c179e"
             ],
             [
              0.4444444444444444,
              "#bd3786"
             ],
             [
              0.5555555555555556,
              "#d8576b"
             ],
             [
              0.6666666666666666,
              "#ed7953"
             ],
             [
              0.7777777777777778,
              "#fb9f3a"
             ],
             [
              0.8888888888888888,
              "#fdca26"
             ],
             [
              1,
              "#f0f921"
             ]
            ],
            "type": "contour"
           }
          ],
          "contourcarpet": [
           {
            "colorbar": {
             "outlinewidth": 0,
             "ticks": ""
            },
            "type": "contourcarpet"
           }
          ],
          "heatmap": [
           {
            "colorbar": {
             "outlinewidth": 0,
             "ticks": ""
            },
            "colorscale": [
             [
              0,
              "#0d0887"
             ],
             [
              0.1111111111111111,
              "#46039f"
             ],
             [
              0.2222222222222222,
              "#7201a8"
             ],
             [
              0.3333333333333333,
              "#9c179e"
             ],
             [
              0.4444444444444444,
              "#bd3786"
             ],
             [
              0.5555555555555556,
              "#d8576b"
             ],
             [
              0.6666666666666666,
              "#ed7953"
             ],
             [
              0.7777777777777778,
              "#fb9f3a"
             ],
             [
              0.8888888888888888,
              "#fdca26"
             ],
             [
              1,
              "#f0f921"
             ]
            ],
            "type": "heatmap"
           }
          ],
          "heatmapgl": [
           {
            "colorbar": {
             "outlinewidth": 0,
             "ticks": ""
            },
            "colorscale": [
             [
              0,
              "#0d0887"
             ],
             [
              0.1111111111111111,
              "#46039f"
             ],
             [
              0.2222222222222222,
              "#7201a8"
             ],
             [
              0.3333333333333333,
              "#9c179e"
             ],
             [
              0.4444444444444444,
              "#bd3786"
             ],
             [
              0.5555555555555556,
              "#d8576b"
             ],
             [
              0.6666666666666666,
              "#ed7953"
             ],
             [
              0.7777777777777778,
              "#fb9f3a"
             ],
             [
              0.8888888888888888,
              "#fdca26"
             ],
             [
              1,
              "#f0f921"
             ]
            ],
            "type": "heatmapgl"
           }
          ],
          "histogram": [
           {
            "marker": {
             "pattern": {
              "fillmode": "overlay",
              "size": 10,
              "solidity": 0.2
             }
            },
            "type": "histogram"
           }
          ],
          "histogram2d": [
           {
            "colorbar": {
             "outlinewidth": 0,
             "ticks": ""
            },
            "colorscale": [
             [
              0,
              "#0d0887"
             ],
             [
              0.1111111111111111,
              "#46039f"
             ],
             [
              0.2222222222222222,
              "#7201a8"
             ],
             [
              0.3333333333333333,
              "#9c179e"
             ],
             [
              0.4444444444444444,
              "#bd3786"
             ],
             [
              0.5555555555555556,
              "#d8576b"
             ],
             [
              0.6666666666666666,
              "#ed7953"
             ],
             [
              0.7777777777777778,
              "#fb9f3a"
             ],
             [
              0.8888888888888888,
              "#fdca26"
             ],
             [
              1,
              "#f0f921"
             ]
            ],
            "type": "histogram2d"
           }
          ],
          "histogram2dcontour": [
           {
            "colorbar": {
             "outlinewidth": 0,
             "ticks": ""
            },
            "colorscale": [
             [
              0,
              "#0d0887"
             ],
             [
              0.1111111111111111,
              "#46039f"
             ],
             [
              0.2222222222222222,
              "#7201a8"
             ],
             [
              0.3333333333333333,
              "#9c179e"
             ],
             [
              0.4444444444444444,
              "#bd3786"
             ],
             [
              0.5555555555555556,
              "#d8576b"
             ],
             [
              0.6666666666666666,
              "#ed7953"
             ],
             [
              0.7777777777777778,
              "#fb9f3a"
             ],
             [
              0.8888888888888888,
              "#fdca26"
             ],
             [
              1,
              "#f0f921"
             ]
            ],
            "type": "histogram2dcontour"
           }
          ],
          "mesh3d": [
           {
            "colorbar": {
             "outlinewidth": 0,
             "ticks": ""
            },
            "type": "mesh3d"
           }
          ],
          "parcoords": [
           {
            "line": {
             "colorbar": {
              "outlinewidth": 0,
              "ticks": ""
             }
            },
            "type": "parcoords"
           }
          ],
          "pie": [
           {
            "automargin": true,
            "type": "pie"
           }
          ],
          "scatter": [
           {
            "marker": {
             "colorbar": {
              "outlinewidth": 0,
              "ticks": ""
             }
            },
            "type": "scatter"
           }
          ],
          "scatter3d": [
           {
            "line": {
             "colorbar": {
              "outlinewidth": 0,
              "ticks": ""
             }
            },
            "marker": {
             "colorbar": {
              "outlinewidth": 0,
              "ticks": ""
             }
            },
            "type": "scatter3d"
           }
          ],
          "scattercarpet": [
           {
            "marker": {
             "colorbar": {
              "outlinewidth": 0,
              "ticks": ""
             }
            },
            "type": "scattercarpet"
           }
          ],
          "scattergeo": [
           {
            "marker": {
             "colorbar": {
              "outlinewidth": 0,
              "ticks": ""
             }
            },
            "type": "scattergeo"
           }
          ],
          "scattergl": [
           {
            "marker": {
             "colorbar": {
              "outlinewidth": 0,
              "ticks": ""
             }
            },
            "type": "scattergl"
           }
          ],
          "scattermapbox": [
           {
            "marker": {
             "colorbar": {
              "outlinewidth": 0,
              "ticks": ""
             }
            },
            "type": "scattermapbox"
           }
          ],
          "scatterpolar": [
           {
            "marker": {
             "colorbar": {
              "outlinewidth": 0,
              "ticks": ""
             }
            },
            "type": "scatterpolar"
           }
          ],
          "scatterpolargl": [
           {
            "marker": {
             "colorbar": {
              "outlinewidth": 0,
              "ticks": ""
             }
            },
            "type": "scatterpolargl"
           }
          ],
          "scatterternary": [
           {
            "marker": {
             "colorbar": {
              "outlinewidth": 0,
              "ticks": ""
             }
            },
            "type": "scatterternary"
           }
          ],
          "surface": [
           {
            "colorbar": {
             "outlinewidth": 0,
             "ticks": ""
            },
            "colorscale": [
             [
              0,
              "#0d0887"
             ],
             [
              0.1111111111111111,
              "#46039f"
             ],
             [
              0.2222222222222222,
              "#7201a8"
             ],
             [
              0.3333333333333333,
              "#9c179e"
             ],
             [
              0.4444444444444444,
              "#bd3786"
             ],
             [
              0.5555555555555556,
              "#d8576b"
             ],
             [
              0.6666666666666666,
              "#ed7953"
             ],
             [
              0.7777777777777778,
              "#fb9f3a"
             ],
             [
              0.8888888888888888,
              "#fdca26"
             ],
             [
              1,
              "#f0f921"
             ]
            ],
            "type": "surface"
           }
          ],
          "table": [
           {
            "cells": {
             "fill": {
              "color": "#EBF0F8"
             },
             "line": {
              "color": "white"
             }
            },
            "header": {
             "fill": {
              "color": "#C8D4E3"
             },
             "line": {
              "color": "white"
             }
            },
            "type": "table"
           }
          ]
         },
         "layout": {
          "annotationdefaults": {
           "arrowcolor": "#2a3f5f",
           "arrowhead": 0,
           "arrowwidth": 1
          },
          "autotypenumbers": "strict",
          "coloraxis": {
           "colorbar": {
            "outlinewidth": 0,
            "ticks": ""
           }
          },
          "colorscale": {
           "diverging": [
            [
             0,
             "#8e0152"
            ],
            [
             0.1,
             "#c51b7d"
            ],
            [
             0.2,
             "#de77ae"
            ],
            [
             0.3,
             "#f1b6da"
            ],
            [
             0.4,
             "#fde0ef"
            ],
            [
             0.5,
             "#f7f7f7"
            ],
            [
             0.6,
             "#e6f5d0"
            ],
            [
             0.7,
             "#b8e186"
            ],
            [
             0.8,
             "#7fbc41"
            ],
            [
             0.9,
             "#4d9221"
            ],
            [
             1,
             "#276419"
            ]
           ],
           "sequential": [
            [
             0,
             "#0d0887"
            ],
            [
             0.1111111111111111,
             "#46039f"
            ],
            [
             0.2222222222222222,
             "#7201a8"
            ],
            [
             0.3333333333333333,
             "#9c179e"
            ],
            [
             0.4444444444444444,
             "#bd3786"
            ],
            [
             0.5555555555555556,
             "#d8576b"
            ],
            [
             0.6666666666666666,
             "#ed7953"
            ],
            [
             0.7777777777777778,
             "#fb9f3a"
            ],
            [
             0.8888888888888888,
             "#fdca26"
            ],
            [
             1,
             "#f0f921"
            ]
           ],
           "sequentialminus": [
            [
             0,
             "#0d0887"
            ],
            [
             0.1111111111111111,
             "#46039f"
            ],
            [
             0.2222222222222222,
             "#7201a8"
            ],
            [
             0.3333333333333333,
             "#9c179e"
            ],
            [
             0.4444444444444444,
             "#bd3786"
            ],
            [
             0.5555555555555556,
             "#d8576b"
            ],
            [
             0.6666666666666666,
             "#ed7953"
            ],
            [
             0.7777777777777778,
             "#fb9f3a"
            ],
            [
             0.8888888888888888,
             "#fdca26"
            ],
            [
             1,
             "#f0f921"
            ]
           ]
          },
          "colorway": [
           "#636efa",
           "#EF553B",
           "#00cc96",
           "#ab63fa",
           "#FFA15A",
           "#19d3f3",
           "#FF6692",
           "#B6E880",
           "#FF97FF",
           "#FECB52"
          ],
          "font": {
           "color": "#2a3f5f"
          },
          "geo": {
           "bgcolor": "white",
           "lakecolor": "white",
           "landcolor": "#E5ECF6",
           "showlakes": true,
           "showland": true,
           "subunitcolor": "white"
          },
          "hoverlabel": {
           "align": "left"
          },
          "hovermode": "closest",
          "mapbox": {
           "style": "light"
          },
          "paper_bgcolor": "white",
          "plot_bgcolor": "#E5ECF6",
          "polar": {
           "angularaxis": {
            "gridcolor": "white",
            "linecolor": "white",
            "ticks": ""
           },
           "bgcolor": "#E5ECF6",
           "radialaxis": {
            "gridcolor": "white",
            "linecolor": "white",
            "ticks": ""
           }
          },
          "scene": {
           "xaxis": {
            "backgroundcolor": "#E5ECF6",
            "gridcolor": "white",
            "gridwidth": 2,
            "linecolor": "white",
            "showbackground": true,
            "ticks": "",
            "zerolinecolor": "white"
           },
           "yaxis": {
            "backgroundcolor": "#E5ECF6",
            "gridcolor": "white",
            "gridwidth": 2,
            "linecolor": "white",
            "showbackground": true,
            "ticks": "",
            "zerolinecolor": "white"
           },
           "zaxis": {
            "backgroundcolor": "#E5ECF6",
            "gridcolor": "white",
            "gridwidth": 2,
            "linecolor": "white",
            "showbackground": true,
            "ticks": "",
            "zerolinecolor": "white"
           }
          },
          "shapedefaults": {
           "line": {
            "color": "#2a3f5f"
           }
          },
          "ternary": {
           "aaxis": {
            "gridcolor": "white",
            "linecolor": "white",
            "ticks": ""
           },
           "baxis": {
            "gridcolor": "white",
            "linecolor": "white",
            "ticks": ""
           },
           "bgcolor": "#E5ECF6",
           "caxis": {
            "gridcolor": "white",
            "linecolor": "white",
            "ticks": ""
           }
          },
          "title": {
           "x": 0.05
          },
          "xaxis": {
           "automargin": true,
           "gridcolor": "white",
           "linecolor": "white",
           "ticks": "",
           "title": {
            "standoff": 15
           },
           "zerolinecolor": "white",
           "zerolinewidth": 2
          },
          "yaxis": {
           "automargin": true,
           "gridcolor": "white",
           "linecolor": "white",
           "ticks": "",
           "title": {
            "standoff": 15
           },
           "zerolinecolor": "white",
           "zerolinewidth": 2
          }
         }
        },
        "title": {
         "text": "Runtime of the Movies"
        },
        "xaxis": {
         "anchor": "y",
         "domain": [
          0,
          1
         ],
         "title": {
          "text": "Runtime"
         }
        },
        "xaxis2": {
         "anchor": "y2",
         "domain": [
          0,
          1
         ],
         "matches": "x",
         "showgrid": true,
         "showticklabels": false
        },
        "yaxis": {
         "anchor": "x",
         "domain": [
          0,
          0.8316
         ],
         "title": {
          "text": "count"
         }
        },
        "yaxis2": {
         "anchor": "x2",
         "domain": [
          0.8416,
          1
         ],
         "matches": "y2",
         "showgrid": false,
         "showline": false,
         "showticklabels": false,
         "ticks": ""
        }
       }
      }
     },
     "metadata": {},
     "output_type": "display_data"
    }
   ],
   "source": [
    "px.histogram(df, x=df['Runtime'], title=\"Runtime of the Movies\", marginal='box')"
   ]
  },
  {
   "cell_type": "code",
   "execution_count": 27,
   "metadata": {},
   "outputs": [
    {
     "data": {
      "application/vnd.plotly.v1+json": {
       "config": {
        "plotlyServerURL": "https://plot.ly"
       },
       "data": [
        {
         "autobinx": false,
         "histnorm": "probability density",
         "legendgroup": "Runtime",
         "marker": {
          "color": "rgb(31, 119, 180)"
         },
         "name": "Runtime",
         "opacity": 0.7,
         "type": "histogram",
         "x": [
          58,
          81,
          79,
          94,
          90,
          147,
          112,
          149,
          73,
          139,
          58,
          112,
          97,
          101,
          90,
          25,
          144,
          115,
          102,
          100,
          64,
          97,
          99,
          120,
          105,
          89,
          97,
          107,
          99,
          95,
          37,
          89,
          83,
          46,
          85,
          88,
          86,
          105,
          95,
          80,
          4,
          93,
          100,
          106,
          97,
          106,
          103,
          80,
          101,
          119,
          80,
          89,
          94,
          93,
          96,
          113,
          86,
          100,
          102,
          86,
          104,
          88,
          97,
          105,
          90,
          99,
          10,
          106,
          98,
          94,
          112,
          117,
          70,
          81,
          103,
          94,
          98,
          131,
          87,
          60,
          112,
          102,
          99,
          116,
          92,
          83,
          97,
          112,
          116,
          102,
          121,
          95,
          93,
          92,
          98,
          85,
          78,
          120,
          92,
          101,
          119,
          101,
          112,
          96,
          114,
          97,
          101,
          56,
          100,
          94,
          94,
          21,
          104,
          63,
          100,
          126,
          106,
          86,
          142,
          108,
          102,
          92,
          83,
          94,
          92,
          103,
          89,
          95,
          103,
          97,
          125,
          91,
          90,
          49,
          98,
          107,
          118,
          94,
          103,
          86,
          83,
          97,
          99,
          104,
          102,
          89,
          98,
          125,
          89,
          94,
          94,
          85,
          34,
          86,
          91,
          108,
          95,
          100,
          90,
          112,
          86,
          124,
          107,
          92,
          121,
          90,
          104,
          92,
          114,
          98,
          95,
          78,
          107,
          92,
          95,
          96,
          118,
          105,
          94,
          52,
          105,
          95,
          100,
          97,
          89,
          102,
          96,
          131,
          89,
          93,
          111,
          75,
          120,
          96,
          148,
          94,
          107,
          32,
          104,
          23,
          111,
          83,
          53,
          95,
          132,
          98,
          108,
          106,
          104,
          90,
          106,
          90,
          97,
          113,
          123,
          115,
          105,
          101,
          102,
          122,
          128,
          82,
          102,
          80,
          94,
          123,
          104,
          85,
          84,
          103,
          95,
          100,
          89,
          116,
          118,
          96,
          114,
          99,
          87,
          92,
          90,
          95,
          96,
          93,
          42,
          92,
          106,
          151,
          101,
          114,
          90,
          115,
          92,
          72,
          139,
          98,
          92,
          111,
          98,
          104,
          95,
          88,
          102,
          30,
          99,
          129,
          87,
          117,
          104,
          111,
          107,
          97,
          98,
          90,
          101,
          72,
          83,
          118,
          44,
          113,
          86,
          108,
          85,
          102,
          151,
          98,
          87,
          120,
          134,
          109,
          85,
          103,
          94,
          97,
          88,
          37,
          112,
          102,
          100,
          96,
          113,
          16,
          119,
          97,
          81,
          98,
          95,
          96,
          107,
          41,
          87,
          101,
          97,
          103,
          90,
          125,
          116,
          99,
          82,
          97,
          28,
          108,
          93,
          74,
          60,
          9,
          21,
          100,
          155,
          55,
          123,
          103,
          93,
          119,
          40,
          120,
          98,
          104,
          91,
          95,
          101,
          105,
          83,
          91,
          83,
          17,
          86,
          124,
          94,
          102,
          118,
          79,
          134,
          126,
          98,
          89,
          58,
          83,
          136,
          98,
          114,
          99,
          130,
          32,
          104,
          142,
          92,
          86,
          106,
          95,
          91,
          89,
          117,
          90,
          117,
          80,
          87,
          101,
          19,
          106,
          54,
          111,
          132,
          97,
          106,
          111,
          124,
          116,
          112,
          144,
          76,
          101,
          92,
          19,
          39,
          102,
          89,
          105,
          101,
          70,
          96,
          85,
          39,
          79,
          73,
          114,
          121,
          28,
          95,
          122,
          23,
          107,
          98,
          108,
          92,
          100,
          97,
          7,
          96,
          100,
          132,
          103,
          121,
          114,
          57,
          95,
          83,
          17,
          105,
          131,
          30,
          112,
          86,
          100,
          14,
          109,
          28,
          64,
          94,
          31,
          99,
          108,
          48,
          84,
          70,
          27,
          45,
          117,
          104,
          108,
          121,
          36,
          30,
          47,
          110,
          92,
          80,
          49,
          73,
          40,
          96,
          106,
          97,
          94,
          78,
          81,
          87,
          91,
          91,
          95,
          126,
          31,
          58,
          41,
          138,
          112,
          114,
          125,
          99,
          82,
          98,
          136,
          97,
          107,
          92,
          39,
          133,
          89,
          124,
          99,
          101,
          97,
          124,
          129,
          121,
          140,
          13,
          108,
          11,
          118,
          121,
          24,
          100,
          101,
          105,
          96,
          47,
          121,
          100,
          149,
          64,
          64,
          114,
          15,
          79,
          90,
          132,
          105,
          97,
          83,
          110,
          39,
          40,
          85,
          26,
          87,
          97,
          118,
          23,
          40,
          98,
          80,
          108,
          79,
          74,
          90,
          137,
          71,
          98,
          70,
          99,
          40,
          104,
          149,
          124,
          144,
          85,
          100,
          94,
          125,
          84,
          117,
          15,
          136,
          76,
          108,
          94,
          90,
          72,
          135,
          12,
          209,
          130,
          82,
          120,
          136,
          112,
          105,
          89,
          85,
          106,
          100,
          107,
          97,
          89,
          109,
          114,
          51,
          85,
          125,
          91,
          153,
          89,
          83
         ],
         "xaxis": "x",
         "xbins": {
          "end": 209,
          "size": 1,
          "start": 4
         },
         "yaxis": "y"
        },
        {
         "legendgroup": "Runtime",
         "marker": {
          "color": "rgb(31, 119, 180)"
         },
         "mode": "lines",
         "name": "Runtime",
         "showlegend": false,
         "type": "scatter",
         "x": [
          4,
          4.41,
          4.82,
          5.23,
          5.64,
          6.05,
          6.46,
          6.87,
          7.279999999999999,
          7.6899999999999995,
          8.1,
          8.51,
          8.92,
          9.33,
          9.74,
          10.15,
          10.559999999999999,
          10.969999999999999,
          11.379999999999999,
          11.79,
          12.2,
          12.61,
          13.02,
          13.43,
          13.84,
          14.25,
          14.66,
          15.07,
          15.48,
          15.89,
          16.3,
          16.71,
          17.119999999999997,
          17.53,
          17.939999999999998,
          18.35,
          18.759999999999998,
          19.17,
          19.58,
          19.990000000000002,
          20.4,
          20.81,
          21.22,
          21.63,
          22.04,
          22.45,
          22.86,
          23.27,
          23.68,
          24.09,
          24.5,
          24.91,
          25.32,
          25.73,
          26.14,
          26.55,
          26.96,
          27.37,
          27.78,
          28.19,
          28.6,
          29.01,
          29.42,
          29.83,
          30.24,
          30.65,
          31.06,
          31.47,
          31.88,
          32.29,
          32.7,
          33.11,
          33.519999999999996,
          33.93,
          34.34,
          34.75,
          35.16,
          35.57,
          35.980000000000004,
          36.39,
          36.8,
          37.21,
          37.62,
          38.03,
          38.44,
          38.85,
          39.26,
          39.67,
          40.08,
          40.49,
          40.9,
          41.31,
          41.72,
          42.13,
          42.54,
          42.95,
          43.36,
          43.77,
          44.18,
          44.59,
          45,
          45.41,
          45.82,
          46.23,
          46.64,
          47.05,
          47.46,
          47.87,
          48.28,
          48.69,
          49.1,
          49.51,
          49.92,
          50.33,
          50.74,
          51.15,
          51.56,
          51.97,
          52.38,
          52.79,
          53.2,
          53.61,
          54.02,
          54.43,
          54.84,
          55.25,
          55.66,
          56.07,
          56.48,
          56.89,
          57.3,
          57.71,
          58.12,
          58.53,
          58.94,
          59.35,
          59.76,
          60.17,
          60.58,
          60.99,
          61.4,
          61.81,
          62.22,
          62.63,
          63.04,
          63.45,
          63.86,
          64.27000000000001,
          64.68,
          65.09,
          65.5,
          65.91,
          66.32,
          66.72999999999999,
          67.14,
          67.55,
          67.96000000000001,
          68.37,
          68.78,
          69.19,
          69.6,
          70.01,
          70.42,
          70.83,
          71.24,
          71.65,
          72.06,
          72.47,
          72.88,
          73.29,
          73.7,
          74.11,
          74.52,
          74.93,
          75.34,
          75.75,
          76.16,
          76.57,
          76.98,
          77.39,
          77.8,
          78.21,
          78.62,
          79.03,
          79.44,
          79.85,
          80.26,
          80.67,
          81.08,
          81.49,
          81.9,
          82.31,
          82.72,
          83.13,
          83.54,
          83.95,
          84.36,
          84.77,
          85.18,
          85.59,
          86,
          86.41,
          86.82,
          87.23,
          87.64,
          88.05,
          88.46,
          88.87,
          89.28,
          89.69,
          90.1,
          90.51,
          90.92,
          91.33,
          91.74,
          92.15,
          92.56,
          92.97,
          93.38,
          93.79,
          94.2,
          94.61,
          95.02,
          95.43,
          95.84,
          96.25,
          96.66,
          97.07,
          97.48,
          97.89,
          98.3,
          98.71,
          99.12,
          99.53,
          99.94,
          100.35,
          100.76,
          101.17,
          101.58,
          101.99,
          102.4,
          102.81,
          103.22,
          103.63,
          104.04,
          104.45,
          104.86,
          105.27,
          105.68,
          106.09,
          106.5,
          106.91,
          107.32,
          107.73,
          108.14,
          108.55,
          108.96,
          109.37,
          109.78,
          110.19,
          110.6,
          111.01,
          111.42,
          111.83,
          112.24,
          112.65,
          113.06,
          113.47,
          113.88,
          114.29,
          114.7,
          115.11,
          115.52,
          115.93,
          116.34,
          116.75,
          117.16,
          117.57,
          117.98,
          118.39,
          118.8,
          119.21,
          119.62,
          120.03,
          120.44,
          120.85,
          121.26,
          121.67,
          122.08,
          122.49,
          122.9,
          123.31,
          123.72,
          124.13,
          124.54,
          124.95,
          125.36,
          125.77,
          126.18,
          126.59,
          127,
          127.41,
          127.82,
          128.23000000000002,
          128.64,
          129.05,
          129.45999999999998,
          129.87,
          130.28,
          130.69,
          131.1,
          131.51,
          131.92000000000002,
          132.33,
          132.74,
          133.15,
          133.56,
          133.97,
          134.38,
          134.79,
          135.2,
          135.61,
          136.02,
          136.43,
          136.84,
          137.25,
          137.66,
          138.07,
          138.48,
          138.89,
          139.3,
          139.71,
          140.12,
          140.53,
          140.94,
          141.35,
          141.76,
          142.17,
          142.58,
          142.99,
          143.4,
          143.81,
          144.22,
          144.63,
          145.04,
          145.45,
          145.86,
          146.27,
          146.68,
          147.09,
          147.5,
          147.91,
          148.32,
          148.73,
          149.14,
          149.55,
          149.96,
          150.37,
          150.78,
          151.19,
          151.6,
          152.01,
          152.42,
          152.83,
          153.24,
          153.65,
          154.06,
          154.47,
          154.88,
          155.29,
          155.7,
          156.11,
          156.52,
          156.93,
          157.34,
          157.75,
          158.16,
          158.57,
          158.98,
          159.39,
          159.8,
          160.21,
          160.62,
          161.03,
          161.44,
          161.85,
          162.26,
          162.67,
          163.08,
          163.49,
          163.9,
          164.31,
          164.72,
          165.13,
          165.54,
          165.95,
          166.36,
          166.77,
          167.18,
          167.59,
          168,
          168.41,
          168.82,
          169.23,
          169.64,
          170.05,
          170.46,
          170.87,
          171.28,
          171.69,
          172.1,
          172.51,
          172.92,
          173.33,
          173.74,
          174.15,
          174.56,
          174.97,
          175.38,
          175.79,
          176.2,
          176.61,
          177.02,
          177.43,
          177.84,
          178.25,
          178.66,
          179.07,
          179.48,
          179.89,
          180.3,
          180.71,
          181.12,
          181.53,
          181.94,
          182.35,
          182.76,
          183.17,
          183.58,
          183.99,
          184.4,
          184.81,
          185.22,
          185.63,
          186.04,
          186.45,
          186.86,
          187.27,
          187.68,
          188.09,
          188.5,
          188.91,
          189.32,
          189.73,
          190.14,
          190.55,
          190.96,
          191.37,
          191.78,
          192.19,
          192.6,
          193.01,
          193.42,
          193.83,
          194.24,
          194.65,
          195.06,
          195.47,
          195.88,
          196.29,
          196.7,
          197.11,
          197.52,
          197.93,
          198.34,
          198.75,
          199.16,
          199.57,
          199.98,
          200.39,
          200.8,
          201.21,
          201.62,
          202.03,
          202.44,
          202.85,
          203.26,
          203.67,
          204.08,
          204.49,
          204.9,
          205.31,
          205.72,
          206.13,
          206.54,
          206.95,
          207.36,
          207.77,
          208.18,
          208.59
         ],
         "xaxis": "x",
         "y": [
          0.0007031770737850311,
          0.0007402996615060605,
          0.000778133655527102,
          0.0008166088484344162,
          0.0008556514226425097,
          0.0008951844453134021,
          0.0009351284026819215,
          0.0009754017680150616,
          0.0010159215967425375,
          0.0010566041416892877,
          0.0010973654808355366,
          0.0011381221496417795,
          0.0011787917697185647,
          0.0012192936655059116,
          0.001259549460663741,
          0.0012994836460687937,
          0.0013390241116675449,
          0.0013781026349474533,
          0.0014166553194550511,
          0.001454622977599464,
          0.001491951452920321,
          0.0015285918780520518,
          0.0015645008657608223,
          0.0015996406316411236,
          0.001633979048308644,
          0.0016674896321846925,
          0.0017001514652039962,
          0.0017319490549601324,
          0.0017628721378999995,
          0.0017929154311602069,
          0.0018220783394764524,
          0.0018503646242672533,
          0.0018777820424754667,
          0.0019043419630297976,
          0.0019300589688540694,
          0.0019549504522017418,
          0.001979036210729915,
          0.0020023380511616615,
          0.0020248794066348897,
          0.0020466849729237004,
          0.0020677803676742114,
          0.002088191815655623,
          0.0021079458618282333,
          0.002127069112815272,
          0.0021455880061783438,
          0.002163528605781489,
          0.0021809164205285284,
          0.0021977762429124994,
          0.0022141320031597977,
          0.0022300066343142197,
          0.0022454219434095337,
          0.0022603984839370643,
          0.002274955425131082,
          0.0022891104141643474,
          0.00230287942815318,
          0.002316276613890492,
          0.0023293141144217584,
          0.0023420018829097174,
          0.002354347485648454,
          0.0023663558975309017,
          0.0023780292946861646,
          0.0023893668503241943,
          0.0024003645409946773,
          0.002411014971428231,
          0.0024213072268296125,
          0.0024312267618905843,
          0.0024407553358506066,
          0.002449871002633063,
          0.002458548164413383,
          0.0024667576959356194,
          0.002474467145502816,
          0.002481641016854028,
          0.0024882411341504086,
          0.002494227090079435,
          0.002499556774715287,
          0.0025041869803176815,
          0.002508074074790085,
          0.0025111747341325067,
          0.0025134467219959473,
          0.0025148497024536326,
          0.002515346070421446,
          0.0025149017828510123,
          0.002513487172937411,
          0.0025110777291705,
          0.00250765482114071,
          0.0025032063545977552,
          0.0024977273393496486,
          0.0024912203551579713,
          0.002483695902798644,
          0.002475172629864017,
          0.0024656774236207915,
          0.0024552453662351585,
          0.00244391955085139,
          0.0024317507602766566,
          0.0024187970132946335,
          0.0024051229868146157,
          0.002390799325076739,
          0.002375901849896822,
          0.002360510688374702,
          0.0023447093365451927,
          0.00232858367906989,
          0.0023122209862127194,
          0.0022957089099869626,
          0.0022791345014950525,
          0.0022625832711064804,
          0.0022461383122486336,
          0.0022298795082471437,
          0.0022138828398845043,
          0.0021982198091957564,
          0.002182956992543736,
          0.0021681557332756066,
          0.0021538719813238914,
          0.0021401562840485003,
          0.0021270539294919863,
          0.0021146052401084647,
          0.002102846011995648,
          0.0020918080917737268,
          0.00208152008057413,
          0.0020720081521801554,
          0.002063296970245853,
          0.0020554106877508937,
          0.0020483740104564885,
          0.002042213305134965,
          0.002036957732765517,
          0.002032640386725756,
          0.0020292994162571403,
          0.0020269791161284527,
          0.002025730964441576,
          0.002025614591886754,
          0.0020266986674212337,
          0.0020290616872694583,
          0.002032792656273733,
          0.0020379916529045393,
          0.0020447702716105435,
          0.00205325193858788,
          0.002063572099415164,
          0.002075878279274719,
          0.0020903300186041734,
          0.002107098688943895,
          0.0021263671954180885,
          0.002148329573672965,
          0.0021731904901642744,
          0.0022011646554199516,
          0.0022324761602931903,
          0.002267357745269409,
          0.0023060500126122025,
          0.0023488005905530243,
          0.0023958632578825333,
          0.0024474970362329722,
          0.002503965256102369,
          0.0025655346013204626,
          0.002632474135254915,
          0.0027050543106668878,
          0.0027835459638094326,
          0.0028682192921786554,
          0.0029593428143287214,
          0.00305718230939161,
          0.0031619997334363424,
          0.003274052109582966,
          0.0033935903888642066,
          0.003520858279201171,
          0.003656091040512029,
          0.003799514244877004,
          0.003951342501799348,
          0.0041117781498808525,
          0.004281009917614716,
          0.004459211557425311,
          0.004646540458488775,
          0.004843136245185336,
          0.005049119369202462,
          0.005264589704272232,
          0.005489625153241256,
          0.0057242802776006005,
          0.005968584959728169,
          0.006222543107906822,
          0.006486131413689647,
          0.006759298170412804,
          0.0070419621606432545,
          0.00733401161915084,
          0.007635303276669527,
          0.00794566148833966,
          0.008264877449375898,
          0.008592708499268327,
          0.008928877514774562,
          0.00927307239117246,
          0.00962494561078332,
          0.009984113897695268,
          0.010350157957953013,
          0.010722622305255294,
          0.011101015173409235,
          0.011484808518417107,
          0.011873438115064803,
          0.012266303755184308,
          0.012662769557291339,
          0.01306216439994876,
          0.013463782493871305,
          0.013866884110332656,
          0.014270696485741698,
          0.014674414924181135,
          0.015077204121126113,
          0.015478199732360408,
          0.015876510212175645,
          0.01627121894419371,
          0.01666138668651635,
          0.017046054350347194,
          0.017424246127734477,
          0.01779497297965924,
          0.018157236490399218,
          0.018510033088001084,
          0.018852358623907745,
          0.019183213297439723,
          0.0195016069030782,
          0.019806564370522618,
          0.020097131559479363,
          0.0203723812632925,
          0.020631419368043684,
          0.020873391106842134,
          0.021097487342879577,
          0.0213029508096315,
          0.021489082232494256,
          0.021655246253312315,
          0.02180087707776708,
          0.021925483765557127,
          0.02202865508474619,
          0.022110063854595664,
          0.02216947070561928,
          0.02220672719142914,
          0.022221778194111367,
          0.022214663573232634,
          0.02218551901801294,
          0.02213457607251261,
          0.022062161314695156,
          0.02196869468173335,
          0.0218546869457106,
          0.0217207363557188,
          0.021567524474046806,
          0.021395811245483308,
          0.021206429349526858,
          0.02100027789531058,
          0.020778315528149047,
          0.020541553024651257,
          0.020291045460188284,
          0.020027884038060367,
          0.01975318767390288,
          0.0194680944316469,
          0.01917375290869553,
          0.018871313667885126,
          0.018561920812297045,
          0.01824670379612517,
          0.01792676956064361,
          0.01760319507895794,
          0.017277020386752603,
          0.016949242168791432,
          0.016620807962618295,
          0.016292611031868767,
          0.015965485951998867,
          0.01564020494120891,
          0.015317474959035578,
          0.014997935584672318,
          0.01468215767668986,
          0.01437064280562999,
          0.014063823441066126,
          0.013762063865308158,
          0.013465661777094799,
          0.013174850540490127,
          0.012889802026871764,
          0.01261062999147423,
          0.012337393920493893,
          0.012070103280344323,
          0.011808722097312301,
          0.011553173793638877,
          0.011303346204948229,
          0.011059096703967165,
          0.010820257356597734,
          0.010586640038594074,
          0.01035804144429109,
          0.01013424792298095,
          0.009915040083542472,
          0.009700197113712781,
          0.00948950076684057,
          0.009282738975961817,
          0.009079709062470586,
          0.008880220514389556,
          0.008684097317143646,
          0.00849117982767079,
          0.008301326190533767,
          0.008114413302289705,
          0.007930337337607183,
          0.007749013857370483,
          0.00757037752516965,
          0.007394381464041009,
          0.007220996290014957,
          0.007050208862870841,
          0.0068820207974452366,
          0.006716446780850394,
          0.006553512742021566,
          0.006393253920126318,
          0.006235712877561862,
          0.00608093750157724,
          0.0059289790360489885,
          0.005779890181688322,
          0.005633723299057766,
          0.005490528744332313,
          0.005350353362870859,
          0.005213239160492522,
          0.005079222167008736,
          0.00494833150117655,
          0.004820588640939491,
          0.004696006897735099,
          0.004574591088885858,
          0.004456337397759954,
          0.004341233407578319,
          0.004229258291530849,
          0.004120383139303791,
          0.004014571398249998,
          0.003911779406272824,
          0.003811956993040235,
          0.0037150481263784943,
          0.0036209915815747502,
          0.0035297216127891475,
          0.0034411686077691272,
          0.003355259709488596,
          0.0032719193911098033,
          0.0031910699736866816,
          0.003112632079193148,
          0.0030365250146640703,
          0.0029626670863810434,
          0.002890975846022916,
          0.0028213682734475063,
          0.0027537609031973768,
          0.002688069903866452,
          0.002624211121074798,
          0.002562100095940827,
          0.0025016520715944977,
          0.002442782000436479,
          0.002385404564529929,
          0.002329434220736531,
          0.0022747852810180206,
          0.0022213720367672543,
          0.0021691089341694366,
          0.002117910805492756,
          0.002067693158940257,
          0.0020183725273383527,
          0.0019698668735679665,
          0.0019220960483373323,
          0.0018749822937221868,
          0.0018284507839246263,
          0.0017824301929846807,
          0.0017368532777670867,
          0.0016916574634791208,
          0.0016467854182805025,
          0.0016021856032404766,
          0.0015578127839839158,
          0.0015136284908410912,
          0.0014696014151568274,
          0.0014257077305958256,
          0.0013819313297653063,
          0.0013382639682190372,
          0.0012947053098573244,
          0.001251262869840383,
          0.001207951853329346,
          0.0011647948906004732,
          0.001121821671285271,
          0.001079068482615599,
          0.0010365776585452874,
          0.000994396948431049,
          0.0009525788155433426,
          0.000911179677008808,
          0.0008702590978325996,
          0.0008298789523940701,
          0.0007901025672426252,
          0.0007509938591413551,
          0.0007126164821210482,
          0.0006750329968311202,
          0.0006383040747283941,
          0.0006024877486567921,
          0.000567638720173815,
          0.0005338077326090163,
          0.0005010410173351974,
          0.0004693798191348117,
          0.000438860004893412,
          0.00040951175818897465,
          0.00038135936070876386,
          0.0003544210598501598,
          0.00032870902038009784,
          0.00030422935666794875,
          0.0002809822407917168,
          0.0002589620807659736,
          0.00023815776226482994,
          0.0002185529465228573,
          0.0002001264165939334,
          0.00018285246383100174,
          0.00016670130631253626,
          0.00015163953097416447,
          0.00013763055139326072,
          0.00012463507350430264,
          0.00011261156197539924,
          0.00010151670053217606,
          0.00009130584015368731,
          0.00008193342976584127,
          0.00007335342480056393,
          0.00006551966975425021,
          0.00005838625164877577,
          0.000051907822055766343,
          0.00004603988607530747,
          0.00004073905735104724,
          0.00003596327884421582,
          0.000031672009671166575,
          0.00002782637882653166,
          0.0000243893070630297,
          0.000021325598577412195,
          0.000018602004459873174,
          0.000016187260102964672,
          0.000014052098938611461,
          0.000012169244982283557,
          0.00001051338671679336,
          0.00000906113485028744,
          0.000007790966439949464,
          0.000006683157791205169,
          0.00000571970842828385,
          0.000004884258292231338,
          0.000004162000162991891,
          0.0000035395891286883484,
          0.0000030050507429644297,
          0.000002547689324876729,
          0.000002157997669399965,
          0.0000018275692535753804,
          0.0000015490138464967488,
          0.0000013158772628811318,
          0.0000011225658415212483,
          9.642760825320719e-7,
          8.369297415658595e-7,
          7.371145552371005e-7,
          6.620306596715554e-7,
          6.094426628837745e-7,
          5.776372408940528e-7,
          5.65386046267447e-7,
          5.71913645168407e-7,
          5.968701341325209e-7,
          6.403080296660149e-7,
          7.026629716957485e-7,
          7.847377351537539e-7,
          8.876890021195889e-7,
          0.0000010130163097018357,
          0.000001162552556189889,
          0.0000013384554201660666,
          0.0000015431990246954839,
          0.0000017795651621011121,
          0.0000020506333850913044,
          0.0000023597692682224878,
          0.0000027106101510817954,
          0.000003107047692475155,
          0.000003553206594651171,
          0.000004053418899482056,
          0.000004612193315745298,
          0.0000052341791092002125,
          0.000005924124175747674,
          0.000006686827022967998,
          0.000007527082506684499,
          0.000008449621306338876,
          0.000009459043274772753,
          0.00001055974496276826,
          0.000011755841794068049,
          0.000013051085549596765,
          0.000014448778006641803,
          0.000015951681765664756,
          0.00001756192947951065,
          0.000019280932871986048,
          0.000021109293089677833,
          0.000023046714066954464,
          0.00002509192069378213,
          0.00002724258365395621,
          0.00002949525284263139,
          0.00003184530127223489,
          0.00003428688133135921,
          0.00003681289516940032,
          0.00003941498083900187,
          0.00004208351563855048,
          0.0000448076378591622,
          0.000047575287857425936,
          0.00005037326905069633,
          0.00005318732907151905,
          0.00005600226092879083,
          0.00005880202361368956,
          0.00006156988116761987,
          0.0000642885588075337,
          0.0000669404142918115,
          0.0000695076223184673,
          0.00007197236938781288,
          0.00007431705624450352,
          0.00007652450474900511,
          0.00007857816582478812,
          0.00008046232499241142,
          0.000082162301940871,
          0.00008366464060400145,
          0.00008495728630710619,
          0.00008602974672591934,
          0.00008687323365378078,
          0.00008748078289866472,
          0.00008784735002242466
         ],
         "yaxis": "y"
        },
        {
         "legendgroup": "Runtime",
         "marker": {
          "color": "rgb(31, 119, 180)",
          "symbol": "line-ns-open"
         },
         "mode": "markers",
         "name": "Runtime",
         "showlegend": false,
         "type": "scatter",
         "x": [
          58,
          81,
          79,
          94,
          90,
          147,
          112,
          149,
          73,
          139,
          58,
          112,
          97,
          101,
          90,
          25,
          144,
          115,
          102,
          100,
          64,
          97,
          99,
          120,
          105,
          89,
          97,
          107,
          99,
          95,
          37,
          89,
          83,
          46,
          85,
          88,
          86,
          105,
          95,
          80,
          4,
          93,
          100,
          106,
          97,
          106,
          103,
          80,
          101,
          119,
          80,
          89,
          94,
          93,
          96,
          113,
          86,
          100,
          102,
          86,
          104,
          88,
          97,
          105,
          90,
          99,
          10,
          106,
          98,
          94,
          112,
          117,
          70,
          81,
          103,
          94,
          98,
          131,
          87,
          60,
          112,
          102,
          99,
          116,
          92,
          83,
          97,
          112,
          116,
          102,
          121,
          95,
          93,
          92,
          98,
          85,
          78,
          120,
          92,
          101,
          119,
          101,
          112,
          96,
          114,
          97,
          101,
          56,
          100,
          94,
          94,
          21,
          104,
          63,
          100,
          126,
          106,
          86,
          142,
          108,
          102,
          92,
          83,
          94,
          92,
          103,
          89,
          95,
          103,
          97,
          125,
          91,
          90,
          49,
          98,
          107,
          118,
          94,
          103,
          86,
          83,
          97,
          99,
          104,
          102,
          89,
          98,
          125,
          89,
          94,
          94,
          85,
          34,
          86,
          91,
          108,
          95,
          100,
          90,
          112,
          86,
          124,
          107,
          92,
          121,
          90,
          104,
          92,
          114,
          98,
          95,
          78,
          107,
          92,
          95,
          96,
          118,
          105,
          94,
          52,
          105,
          95,
          100,
          97,
          89,
          102,
          96,
          131,
          89,
          93,
          111,
          75,
          120,
          96,
          148,
          94,
          107,
          32,
          104,
          23,
          111,
          83,
          53,
          95,
          132,
          98,
          108,
          106,
          104,
          90,
          106,
          90,
          97,
          113,
          123,
          115,
          105,
          101,
          102,
          122,
          128,
          82,
          102,
          80,
          94,
          123,
          104,
          85,
          84,
          103,
          95,
          100,
          89,
          116,
          118,
          96,
          114,
          99,
          87,
          92,
          90,
          95,
          96,
          93,
          42,
          92,
          106,
          151,
          101,
          114,
          90,
          115,
          92,
          72,
          139,
          98,
          92,
          111,
          98,
          104,
          95,
          88,
          102,
          30,
          99,
          129,
          87,
          117,
          104,
          111,
          107,
          97,
          98,
          90,
          101,
          72,
          83,
          118,
          44,
          113,
          86,
          108,
          85,
          102,
          151,
          98,
          87,
          120,
          134,
          109,
          85,
          103,
          94,
          97,
          88,
          37,
          112,
          102,
          100,
          96,
          113,
          16,
          119,
          97,
          81,
          98,
          95,
          96,
          107,
          41,
          87,
          101,
          97,
          103,
          90,
          125,
          116,
          99,
          82,
          97,
          28,
          108,
          93,
          74,
          60,
          9,
          21,
          100,
          155,
          55,
          123,
          103,
          93,
          119,
          40,
          120,
          98,
          104,
          91,
          95,
          101,
          105,
          83,
          91,
          83,
          17,
          86,
          124,
          94,
          102,
          118,
          79,
          134,
          126,
          98,
          89,
          58,
          83,
          136,
          98,
          114,
          99,
          130,
          32,
          104,
          142,
          92,
          86,
          106,
          95,
          91,
          89,
          117,
          90,
          117,
          80,
          87,
          101,
          19,
          106,
          54,
          111,
          132,
          97,
          106,
          111,
          124,
          116,
          112,
          144,
          76,
          101,
          92,
          19,
          39,
          102,
          89,
          105,
          101,
          70,
          96,
          85,
          39,
          79,
          73,
          114,
          121,
          28,
          95,
          122,
          23,
          107,
          98,
          108,
          92,
          100,
          97,
          7,
          96,
          100,
          132,
          103,
          121,
          114,
          57,
          95,
          83,
          17,
          105,
          131,
          30,
          112,
          86,
          100,
          14,
          109,
          28,
          64,
          94,
          31,
          99,
          108,
          48,
          84,
          70,
          27,
          45,
          117,
          104,
          108,
          121,
          36,
          30,
          47,
          110,
          92,
          80,
          49,
          73,
          40,
          96,
          106,
          97,
          94,
          78,
          81,
          87,
          91,
          91,
          95,
          126,
          31,
          58,
          41,
          138,
          112,
          114,
          125,
          99,
          82,
          98,
          136,
          97,
          107,
          92,
          39,
          133,
          89,
          124,
          99,
          101,
          97,
          124,
          129,
          121,
          140,
          13,
          108,
          11,
          118,
          121,
          24,
          100,
          101,
          105,
          96,
          47,
          121,
          100,
          149,
          64,
          64,
          114,
          15,
          79,
          90,
          132,
          105,
          97,
          83,
          110,
          39,
          40,
          85,
          26,
          87,
          97,
          118,
          23,
          40,
          98,
          80,
          108,
          79,
          74,
          90,
          137,
          71,
          98,
          70,
          99,
          40,
          104,
          149,
          124,
          144,
          85,
          100,
          94,
          125,
          84,
          117,
          15,
          136,
          76,
          108,
          94,
          90,
          72,
          135,
          12,
          209,
          130,
          82,
          120,
          136,
          112,
          105,
          89,
          85,
          106,
          100,
          107,
          97,
          89,
          109,
          114,
          51,
          85,
          125,
          91,
          153,
          89,
          83
         ],
         "xaxis": "x",
         "y": [
          "Runtime",
          "Runtime",
          "Runtime",
          "Runtime",
          "Runtime",
          "Runtime",
          "Runtime",
          "Runtime",
          "Runtime",
          "Runtime",
          "Runtime",
          "Runtime",
          "Runtime",
          "Runtime",
          "Runtime",
          "Runtime",
          "Runtime",
          "Runtime",
          "Runtime",
          "Runtime",
          "Runtime",
          "Runtime",
          "Runtime",
          "Runtime",
          "Runtime",
          "Runtime",
          "Runtime",
          "Runtime",
          "Runtime",
          "Runtime",
          "Runtime",
          "Runtime",
          "Runtime",
          "Runtime",
          "Runtime",
          "Runtime",
          "Runtime",
          "Runtime",
          "Runtime",
          "Runtime",
          "Runtime",
          "Runtime",
          "Runtime",
          "Runtime",
          "Runtime",
          "Runtime",
          "Runtime",
          "Runtime",
          "Runtime",
          "Runtime",
          "Runtime",
          "Runtime",
          "Runtime",
          "Runtime",
          "Runtime",
          "Runtime",
          "Runtime",
          "Runtime",
          "Runtime",
          "Runtime",
          "Runtime",
          "Runtime",
          "Runtime",
          "Runtime",
          "Runtime",
          "Runtime",
          "Runtime",
          "Runtime",
          "Runtime",
          "Runtime",
          "Runtime",
          "Runtime",
          "Runtime",
          "Runtime",
          "Runtime",
          "Runtime",
          "Runtime",
          "Runtime",
          "Runtime",
          "Runtime",
          "Runtime",
          "Runtime",
          "Runtime",
          "Runtime",
          "Runtime",
          "Runtime",
          "Runtime",
          "Runtime",
          "Runtime",
          "Runtime",
          "Runtime",
          "Runtime",
          "Runtime",
          "Runtime",
          "Runtime",
          "Runtime",
          "Runtime",
          "Runtime",
          "Runtime",
          "Runtime",
          "Runtime",
          "Runtime",
          "Runtime",
          "Runtime",
          "Runtime",
          "Runtime",
          "Runtime",
          "Runtime",
          "Runtime",
          "Runtime",
          "Runtime",
          "Runtime",
          "Runtime",
          "Runtime",
          "Runtime",
          "Runtime",
          "Runtime",
          "Runtime",
          "Runtime",
          "Runtime",
          "Runtime",
          "Runtime",
          "Runtime",
          "Runtime",
          "Runtime",
          "Runtime",
          "Runtime",
          "Runtime",
          "Runtime",
          "Runtime",
          "Runtime",
          "Runtime",
          "Runtime",
          "Runtime",
          "Runtime",
          "Runtime",
          "Runtime",
          "Runtime",
          "Runtime",
          "Runtime",
          "Runtime",
          "Runtime",
          "Runtime",
          "Runtime",
          "Runtime",
          "Runtime",
          "Runtime",
          "Runtime",
          "Runtime",
          "Runtime",
          "Runtime",
          "Runtime",
          "Runtime",
          "Runtime",
          "Runtime",
          "Runtime",
          "Runtime",
          "Runtime",
          "Runtime",
          "Runtime",
          "Runtime",
          "Runtime",
          "Runtime",
          "Runtime",
          "Runtime",
          "Runtime",
          "Runtime",
          "Runtime",
          "Runtime",
          "Runtime",
          "Runtime",
          "Runtime",
          "Runtime",
          "Runtime",
          "Runtime",
          "Runtime",
          "Runtime",
          "Runtime",
          "Runtime",
          "Runtime",
          "Runtime",
          "Runtime",
          "Runtime",
          "Runtime",
          "Runtime",
          "Runtime",
          "Runtime",
          "Runtime",
          "Runtime",
          "Runtime",
          "Runtime",
          "Runtime",
          "Runtime",
          "Runtime",
          "Runtime",
          "Runtime",
          "Runtime",
          "Runtime",
          "Runtime",
          "Runtime",
          "Runtime",
          "Runtime",
          "Runtime",
          "Runtime",
          "Runtime",
          "Runtime",
          "Runtime",
          "Runtime",
          "Runtime",
          "Runtime",
          "Runtime",
          "Runtime",
          "Runtime",
          "Runtime",
          "Runtime",
          "Runtime",
          "Runtime",
          "Runtime",
          "Runtime",
          "Runtime",
          "Runtime",
          "Runtime",
          "Runtime",
          "Runtime",
          "Runtime",
          "Runtime",
          "Runtime",
          "Runtime",
          "Runtime",
          "Runtime",
          "Runtime",
          "Runtime",
          "Runtime",
          "Runtime",
          "Runtime",
          "Runtime",
          "Runtime",
          "Runtime",
          "Runtime",
          "Runtime",
          "Runtime",
          "Runtime",
          "Runtime",
          "Runtime",
          "Runtime",
          "Runtime",
          "Runtime",
          "Runtime",
          "Runtime",
          "Runtime",
          "Runtime",
          "Runtime",
          "Runtime",
          "Runtime",
          "Runtime",
          "Runtime",
          "Runtime",
          "Runtime",
          "Runtime",
          "Runtime",
          "Runtime",
          "Runtime",
          "Runtime",
          "Runtime",
          "Runtime",
          "Runtime",
          "Runtime",
          "Runtime",
          "Runtime",
          "Runtime",
          "Runtime",
          "Runtime",
          "Runtime",
          "Runtime",
          "Runtime",
          "Runtime",
          "Runtime",
          "Runtime",
          "Runtime",
          "Runtime",
          "Runtime",
          "Runtime",
          "Runtime",
          "Runtime",
          "Runtime",
          "Runtime",
          "Runtime",
          "Runtime",
          "Runtime",
          "Runtime",
          "Runtime",
          "Runtime",
          "Runtime",
          "Runtime",
          "Runtime",
          "Runtime",
          "Runtime",
          "Runtime",
          "Runtime",
          "Runtime",
          "Runtime",
          "Runtime",
          "Runtime",
          "Runtime",
          "Runtime",
          "Runtime",
          "Runtime",
          "Runtime",
          "Runtime",
          "Runtime",
          "Runtime",
          "Runtime",
          "Runtime",
          "Runtime",
          "Runtime",
          "Runtime",
          "Runtime",
          "Runtime",
          "Runtime",
          "Runtime",
          "Runtime",
          "Runtime",
          "Runtime",
          "Runtime",
          "Runtime",
          "Runtime",
          "Runtime",
          "Runtime",
          "Runtime",
          "Runtime",
          "Runtime",
          "Runtime",
          "Runtime",
          "Runtime",
          "Runtime",
          "Runtime",
          "Runtime",
          "Runtime",
          "Runtime",
          "Runtime",
          "Runtime",
          "Runtime",
          "Runtime",
          "Runtime",
          "Runtime",
          "Runtime",
          "Runtime",
          "Runtime",
          "Runtime",
          "Runtime",
          "Runtime",
          "Runtime",
          "Runtime",
          "Runtime",
          "Runtime",
          "Runtime",
          "Runtime",
          "Runtime",
          "Runtime",
          "Runtime",
          "Runtime",
          "Runtime",
          "Runtime",
          "Runtime",
          "Runtime",
          "Runtime",
          "Runtime",
          "Runtime",
          "Runtime",
          "Runtime",
          "Runtime",
          "Runtime",
          "Runtime",
          "Runtime",
          "Runtime",
          "Runtime",
          "Runtime",
          "Runtime",
          "Runtime",
          "Runtime",
          "Runtime",
          "Runtime",
          "Runtime",
          "Runtime",
          "Runtime",
          "Runtime",
          "Runtime",
          "Runtime",
          "Runtime",
          "Runtime",
          "Runtime",
          "Runtime",
          "Runtime",
          "Runtime",
          "Runtime",
          "Runtime",
          "Runtime",
          "Runtime",
          "Runtime",
          "Runtime",
          "Runtime",
          "Runtime",
          "Runtime",
          "Runtime",
          "Runtime",
          "Runtime",
          "Runtime",
          "Runtime",
          "Runtime",
          "Runtime",
          "Runtime",
          "Runtime",
          "Runtime",
          "Runtime",
          "Runtime",
          "Runtime",
          "Runtime",
          "Runtime",
          "Runtime",
          "Runtime",
          "Runtime",
          "Runtime",
          "Runtime",
          "Runtime",
          "Runtime",
          "Runtime",
          "Runtime",
          "Runtime",
          "Runtime",
          "Runtime",
          "Runtime",
          "Runtime",
          "Runtime",
          "Runtime",
          "Runtime",
          "Runtime",
          "Runtime",
          "Runtime",
          "Runtime",
          "Runtime",
          "Runtime",
          "Runtime",
          "Runtime",
          "Runtime",
          "Runtime",
          "Runtime",
          "Runtime",
          "Runtime",
          "Runtime",
          "Runtime",
          "Runtime",
          "Runtime",
          "Runtime",
          "Runtime",
          "Runtime",
          "Runtime",
          "Runtime",
          "Runtime",
          "Runtime",
          "Runtime",
          "Runtime",
          "Runtime",
          "Runtime",
          "Runtime",
          "Runtime",
          "Runtime",
          "Runtime",
          "Runtime",
          "Runtime",
          "Runtime",
          "Runtime",
          "Runtime",
          "Runtime",
          "Runtime",
          "Runtime",
          "Runtime",
          "Runtime",
          "Runtime",
          "Runtime",
          "Runtime",
          "Runtime",
          "Runtime",
          "Runtime",
          "Runtime",
          "Runtime",
          "Runtime",
          "Runtime",
          "Runtime",
          "Runtime",
          "Runtime",
          "Runtime",
          "Runtime",
          "Runtime",
          "Runtime",
          "Runtime",
          "Runtime",
          "Runtime",
          "Runtime",
          "Runtime",
          "Runtime",
          "Runtime",
          "Runtime",
          "Runtime",
          "Runtime",
          "Runtime",
          "Runtime",
          "Runtime",
          "Runtime",
          "Runtime",
          "Runtime",
          "Runtime",
          "Runtime",
          "Runtime",
          "Runtime",
          "Runtime",
          "Runtime",
          "Runtime",
          "Runtime",
          "Runtime",
          "Runtime",
          "Runtime",
          "Runtime",
          "Runtime",
          "Runtime",
          "Runtime",
          "Runtime",
          "Runtime",
          "Runtime",
          "Runtime",
          "Runtime",
          "Runtime",
          "Runtime",
          "Runtime",
          "Runtime",
          "Runtime",
          "Runtime",
          "Runtime",
          "Runtime",
          "Runtime",
          "Runtime",
          "Runtime",
          "Runtime",
          "Runtime",
          "Runtime",
          "Runtime",
          "Runtime",
          "Runtime",
          "Runtime",
          "Runtime",
          "Runtime",
          "Runtime",
          "Runtime",
          "Runtime",
          "Runtime",
          "Runtime",
          "Runtime",
          "Runtime",
          "Runtime",
          "Runtime",
          "Runtime",
          "Runtime",
          "Runtime",
          "Runtime",
          "Runtime",
          "Runtime",
          "Runtime",
          "Runtime",
          "Runtime",
          "Runtime",
          "Runtime",
          "Runtime",
          "Runtime",
          "Runtime",
          "Runtime",
          "Runtime",
          "Runtime",
          "Runtime",
          "Runtime",
          "Runtime",
          "Runtime",
          "Runtime",
          "Runtime",
          "Runtime",
          "Runtime"
         ],
         "yaxis": "y2"
        }
       ],
       "layout": {
        "barmode": "overlay",
        "hovermode": "closest",
        "legend": {
         "traceorder": "reversed"
        },
        "template": {
         "data": {
          "bar": [
           {
            "error_x": {
             "color": "#2a3f5f"
            },
            "error_y": {
             "color": "#2a3f5f"
            },
            "marker": {
             "line": {
              "color": "#E5ECF6",
              "width": 0.5
             },
             "pattern": {
              "fillmode": "overlay",
              "size": 10,
              "solidity": 0.2
             }
            },
            "type": "bar"
           }
          ],
          "barpolar": [
           {
            "marker": {
             "line": {
              "color": "#E5ECF6",
              "width": 0.5
             },
             "pattern": {
              "fillmode": "overlay",
              "size": 10,
              "solidity": 0.2
             }
            },
            "type": "barpolar"
           }
          ],
          "carpet": [
           {
            "aaxis": {
             "endlinecolor": "#2a3f5f",
             "gridcolor": "white",
             "linecolor": "white",
             "minorgridcolor": "white",
             "startlinecolor": "#2a3f5f"
            },
            "baxis": {
             "endlinecolor": "#2a3f5f",
             "gridcolor": "white",
             "linecolor": "white",
             "minorgridcolor": "white",
             "startlinecolor": "#2a3f5f"
            },
            "type": "carpet"
           }
          ],
          "choropleth": [
           {
            "colorbar": {
             "outlinewidth": 0,
             "ticks": ""
            },
            "type": "choropleth"
           }
          ],
          "contour": [
           {
            "colorbar": {
             "outlinewidth": 0,
             "ticks": ""
            },
            "colorscale": [
             [
              0,
              "#0d0887"
             ],
             [
              0.1111111111111111,
              "#46039f"
             ],
             [
              0.2222222222222222,
              "#7201a8"
             ],
             [
              0.3333333333333333,
              "#9c179e"
             ],
             [
              0.4444444444444444,
              "#bd3786"
             ],
             [
              0.5555555555555556,
              "#d8576b"
             ],
             [
              0.6666666666666666,
              "#ed7953"
             ],
             [
              0.7777777777777778,
              "#fb9f3a"
             ],
             [
              0.8888888888888888,
              "#fdca26"
             ],
             [
              1,
              "#f0f921"
             ]
            ],
            "type": "contour"
           }
          ],
          "contourcarpet": [
           {
            "colorbar": {
             "outlinewidth": 0,
             "ticks": ""
            },
            "type": "contourcarpet"
           }
          ],
          "heatmap": [
           {
            "colorbar": {
             "outlinewidth": 0,
             "ticks": ""
            },
            "colorscale": [
             [
              0,
              "#0d0887"
             ],
             [
              0.1111111111111111,
              "#46039f"
             ],
             [
              0.2222222222222222,
              "#7201a8"
             ],
             [
              0.3333333333333333,
              "#9c179e"
             ],
             [
              0.4444444444444444,
              "#bd3786"
             ],
             [
              0.5555555555555556,
              "#d8576b"
             ],
             [
              0.6666666666666666,
              "#ed7953"
             ],
             [
              0.7777777777777778,
              "#fb9f3a"
             ],
             [
              0.8888888888888888,
              "#fdca26"
             ],
             [
              1,
              "#f0f921"
             ]
            ],
            "type": "heatmap"
           }
          ],
          "heatmapgl": [
           {
            "colorbar": {
             "outlinewidth": 0,
             "ticks": ""
            },
            "colorscale": [
             [
              0,
              "#0d0887"
             ],
             [
              0.1111111111111111,
              "#46039f"
             ],
             [
              0.2222222222222222,
              "#7201a8"
             ],
             [
              0.3333333333333333,
              "#9c179e"
             ],
             [
              0.4444444444444444,
              "#bd3786"
             ],
             [
              0.5555555555555556,
              "#d8576b"
             ],
             [
              0.6666666666666666,
              "#ed7953"
             ],
             [
              0.7777777777777778,
              "#fb9f3a"
             ],
             [
              0.8888888888888888,
              "#fdca26"
             ],
             [
              1,
              "#f0f921"
             ]
            ],
            "type": "heatmapgl"
           }
          ],
          "histogram": [
           {
            "marker": {
             "pattern": {
              "fillmode": "overlay",
              "size": 10,
              "solidity": 0.2
             }
            },
            "type": "histogram"
           }
          ],
          "histogram2d": [
           {
            "colorbar": {
             "outlinewidth": 0,
             "ticks": ""
            },
            "colorscale": [
             [
              0,
              "#0d0887"
             ],
             [
              0.1111111111111111,
              "#46039f"
             ],
             [
              0.2222222222222222,
              "#7201a8"
             ],
             [
              0.3333333333333333,
              "#9c179e"
             ],
             [
              0.4444444444444444,
              "#bd3786"
             ],
             [
              0.5555555555555556,
              "#d8576b"
             ],
             [
              0.6666666666666666,
              "#ed7953"
             ],
             [
              0.7777777777777778,
              "#fb9f3a"
             ],
             [
              0.8888888888888888,
              "#fdca26"
             ],
             [
              1,
              "#f0f921"
             ]
            ],
            "type": "histogram2d"
           }
          ],
          "histogram2dcontour": [
           {
            "colorbar": {
             "outlinewidth": 0,
             "ticks": ""
            },
            "colorscale": [
             [
              0,
              "#0d0887"
             ],
             [
              0.1111111111111111,
              "#46039f"
             ],
             [
              0.2222222222222222,
              "#7201a8"
             ],
             [
              0.3333333333333333,
              "#9c179e"
             ],
             [
              0.4444444444444444,
              "#bd3786"
             ],
             [
              0.5555555555555556,
              "#d8576b"
             ],
             [
              0.6666666666666666,
              "#ed7953"
             ],
             [
              0.7777777777777778,
              "#fb9f3a"
             ],
             [
              0.8888888888888888,
              "#fdca26"
             ],
             [
              1,
              "#f0f921"
             ]
            ],
            "type": "histogram2dcontour"
           }
          ],
          "mesh3d": [
           {
            "colorbar": {
             "outlinewidth": 0,
             "ticks": ""
            },
            "type": "mesh3d"
           }
          ],
          "parcoords": [
           {
            "line": {
             "colorbar": {
              "outlinewidth": 0,
              "ticks": ""
             }
            },
            "type": "parcoords"
           }
          ],
          "pie": [
           {
            "automargin": true,
            "type": "pie"
           }
          ],
          "scatter": [
           {
            "marker": {
             "colorbar": {
              "outlinewidth": 0,
              "ticks": ""
             }
            },
            "type": "scatter"
           }
          ],
          "scatter3d": [
           {
            "line": {
             "colorbar": {
              "outlinewidth": 0,
              "ticks": ""
             }
            },
            "marker": {
             "colorbar": {
              "outlinewidth": 0,
              "ticks": ""
             }
            },
            "type": "scatter3d"
           }
          ],
          "scattercarpet": [
           {
            "marker": {
             "colorbar": {
              "outlinewidth": 0,
              "ticks": ""
             }
            },
            "type": "scattercarpet"
           }
          ],
          "scattergeo": [
           {
            "marker": {
             "colorbar": {
              "outlinewidth": 0,
              "ticks": ""
             }
            },
            "type": "scattergeo"
           }
          ],
          "scattergl": [
           {
            "marker": {
             "colorbar": {
              "outlinewidth": 0,
              "ticks": ""
             }
            },
            "type": "scattergl"
           }
          ],
          "scattermapbox": [
           {
            "marker": {
             "colorbar": {
              "outlinewidth": 0,
              "ticks": ""
             }
            },
            "type": "scattermapbox"
           }
          ],
          "scatterpolar": [
           {
            "marker": {
             "colorbar": {
              "outlinewidth": 0,
              "ticks": ""
             }
            },
            "type": "scatterpolar"
           }
          ],
          "scatterpolargl": [
           {
            "marker": {
             "colorbar": {
              "outlinewidth": 0,
              "ticks": ""
             }
            },
            "type": "scatterpolargl"
           }
          ],
          "scatterternary": [
           {
            "marker": {
             "colorbar": {
              "outlinewidth": 0,
              "ticks": ""
             }
            },
            "type": "scatterternary"
           }
          ],
          "surface": [
           {
            "colorbar": {
             "outlinewidth": 0,
             "ticks": ""
            },
            "colorscale": [
             [
              0,
              "#0d0887"
             ],
             [
              0.1111111111111111,
              "#46039f"
             ],
             [
              0.2222222222222222,
              "#7201a8"
             ],
             [
              0.3333333333333333,
              "#9c179e"
             ],
             [
              0.4444444444444444,
              "#bd3786"
             ],
             [
              0.5555555555555556,
              "#d8576b"
             ],
             [
              0.6666666666666666,
              "#ed7953"
             ],
             [
              0.7777777777777778,
              "#fb9f3a"
             ],
             [
              0.8888888888888888,
              "#fdca26"
             ],
             [
              1,
              "#f0f921"
             ]
            ],
            "type": "surface"
           }
          ],
          "table": [
           {
            "cells": {
             "fill": {
              "color": "#EBF0F8"
             },
             "line": {
              "color": "white"
             }
            },
            "header": {
             "fill": {
              "color": "#C8D4E3"
             },
             "line": {
              "color": "white"
             }
            },
            "type": "table"
           }
          ]
         },
         "layout": {
          "annotationdefaults": {
           "arrowcolor": "#2a3f5f",
           "arrowhead": 0,
           "arrowwidth": 1
          },
          "autotypenumbers": "strict",
          "coloraxis": {
           "colorbar": {
            "outlinewidth": 0,
            "ticks": ""
           }
          },
          "colorscale": {
           "diverging": [
            [
             0,
             "#8e0152"
            ],
            [
             0.1,
             "#c51b7d"
            ],
            [
             0.2,
             "#de77ae"
            ],
            [
             0.3,
             "#f1b6da"
            ],
            [
             0.4,
             "#fde0ef"
            ],
            [
             0.5,
             "#f7f7f7"
            ],
            [
             0.6,
             "#e6f5d0"
            ],
            [
             0.7,
             "#b8e186"
            ],
            [
             0.8,
             "#7fbc41"
            ],
            [
             0.9,
             "#4d9221"
            ],
            [
             1,
             "#276419"
            ]
           ],
           "sequential": [
            [
             0,
             "#0d0887"
            ],
            [
             0.1111111111111111,
             "#46039f"
            ],
            [
             0.2222222222222222,
             "#7201a8"
            ],
            [
             0.3333333333333333,
             "#9c179e"
            ],
            [
             0.4444444444444444,
             "#bd3786"
            ],
            [
             0.5555555555555556,
             "#d8576b"
            ],
            [
             0.6666666666666666,
             "#ed7953"
            ],
            [
             0.7777777777777778,
             "#fb9f3a"
            ],
            [
             0.8888888888888888,
             "#fdca26"
            ],
            [
             1,
             "#f0f921"
            ]
           ],
           "sequentialminus": [
            [
             0,
             "#0d0887"
            ],
            [
             0.1111111111111111,
             "#46039f"
            ],
            [
             0.2222222222222222,
             "#7201a8"
            ],
            [
             0.3333333333333333,
             "#9c179e"
            ],
            [
             0.4444444444444444,
             "#bd3786"
            ],
            [
             0.5555555555555556,
             "#d8576b"
            ],
            [
             0.6666666666666666,
             "#ed7953"
            ],
            [
             0.7777777777777778,
             "#fb9f3a"
            ],
            [
             0.8888888888888888,
             "#fdca26"
            ],
            [
             1,
             "#f0f921"
            ]
           ]
          },
          "colorway": [
           "#636efa",
           "#EF553B",
           "#00cc96",
           "#ab63fa",
           "#FFA15A",
           "#19d3f3",
           "#FF6692",
           "#B6E880",
           "#FF97FF",
           "#FECB52"
          ],
          "font": {
           "color": "#2a3f5f"
          },
          "geo": {
           "bgcolor": "white",
           "lakecolor": "white",
           "landcolor": "#E5ECF6",
           "showlakes": true,
           "showland": true,
           "subunitcolor": "white"
          },
          "hoverlabel": {
           "align": "left"
          },
          "hovermode": "closest",
          "mapbox": {
           "style": "light"
          },
          "paper_bgcolor": "white",
          "plot_bgcolor": "#E5ECF6",
          "polar": {
           "angularaxis": {
            "gridcolor": "white",
            "linecolor": "white",
            "ticks": ""
           },
           "bgcolor": "#E5ECF6",
           "radialaxis": {
            "gridcolor": "white",
            "linecolor": "white",
            "ticks": ""
           }
          },
          "scene": {
           "xaxis": {
            "backgroundcolor": "#E5ECF6",
            "gridcolor": "white",
            "gridwidth": 2,
            "linecolor": "white",
            "showbackground": true,
            "ticks": "",
            "zerolinecolor": "white"
           },
           "yaxis": {
            "backgroundcolor": "#E5ECF6",
            "gridcolor": "white",
            "gridwidth": 2,
            "linecolor": "white",
            "showbackground": true,
            "ticks": "",
            "zerolinecolor": "white"
           },
           "zaxis": {
            "backgroundcolor": "#E5ECF6",
            "gridcolor": "white",
            "gridwidth": 2,
            "linecolor": "white",
            "showbackground": true,
            "ticks": "",
            "zerolinecolor": "white"
           }
          },
          "shapedefaults": {
           "line": {
            "color": "#2a3f5f"
           }
          },
          "ternary": {
           "aaxis": {
            "gridcolor": "white",
            "linecolor": "white",
            "ticks": ""
           },
           "baxis": {
            "gridcolor": "white",
            "linecolor": "white",
            "ticks": ""
           },
           "bgcolor": "#E5ECF6",
           "caxis": {
            "gridcolor": "white",
            "linecolor": "white",
            "ticks": ""
           }
          },
          "title": {
           "x": 0.05
          },
          "xaxis": {
           "automargin": true,
           "gridcolor": "white",
           "linecolor": "white",
           "ticks": "",
           "title": {
            "standoff": 15
           },
           "zerolinecolor": "white",
           "zerolinewidth": 2
          },
          "yaxis": {
           "automargin": true,
           "gridcolor": "white",
           "linecolor": "white",
           "ticks": "",
           "title": {
            "standoff": 15
           },
           "zerolinecolor": "white",
           "zerolinewidth": 2
          }
         }
        },
        "xaxis": {
         "anchor": "y2",
         "domain": [
          0,
          1
         ],
         "zeroline": false
        },
        "yaxis": {
         "anchor": "free",
         "domain": [
          0.35,
          1
         ],
         "position": 0
        },
        "yaxis2": {
         "anchor": "x",
         "domain": [
          0,
          0.25
         ],
         "dtick": 1,
         "showticklabels": false
        }
       }
      }
     },
     "metadata": {},
     "output_type": "display_data"
    }
   ],
   "source": [
    "hist_data = [df['Runtime']]\n",
    "group_labels = ['Runtime'] # name of the dataset\n",
    "\n",
    "fig = ff.create_distplot(hist_data, group_labels)\n",
    "fig.show()"
   ]
  },
  {
   "cell_type": "markdown",
   "metadata": {},
   "source": [
    "#### --> *Runtime distribution skewed to the left*"
   ]
  },
  {
   "cell_type": "markdown",
   "metadata": {},
   "source": [
    "### 4. Language analysis"
   ]
  },
  {
   "cell_type": "code",
   "execution_count": 29,
   "metadata": {},
   "outputs": [
    {
     "data": {
      "text/plain": [
       "English       422\n",
       "Spanish        39\n",
       "Hindi          35\n",
       "French         21\n",
       "Italian        14\n",
       "Portuguese     12\n",
       "Indonesian      9\n",
       "Japanese        8\n",
       "Korean          7\n",
       "German          5\n",
       "Turkish         5\n",
       "Mandarin        3\n",
       "Polish          3\n",
       "Marathi         3\n",
       "Dutch           3\n",
       "Filipino        2\n",
       "Thai            2\n",
       "Swedish         2\n",
       "Russian         2\n",
       "Bengali         1\n",
       "Akan            1\n",
       "Arabic          1\n",
       "Tamil           1\n",
       "Khmer           1\n",
       "Thia            1\n",
       "Georgian        1\n",
       "Norwegian       1\n",
       "Malay           1\n",
       "Taiwanese       1\n",
       "Catalan         1\n",
       "Basque          1\n",
       "Ukranian        1\n",
       "dtype: int64"
      ]
     },
     "execution_count": 29,
     "metadata": {},
     "output_type": "execute_result"
    }
   ],
   "source": [
    "language = df['Language'].str.split('/', expand=True).stack().reset_index(level=1, drop=True).value_counts()\n",
    "language"
   ]
  },
  {
   "cell_type": "code",
   "execution_count": 30,
   "metadata": {},
   "outputs": [
    {
     "data": {
      "application/vnd.plotly.v1+json": {
       "config": {
        "plotlyServerURL": "https://plot.ly"
       },
       "data": [
        {
         "alignmentgroup": "True",
         "hovertemplate": "Language=%{x}<br>Number of Movies=%{y}<extra></extra>",
         "legendgroup": "",
         "marker": {
          "color": "#636efa",
          "pattern": {
           "shape": ""
          }
         },
         "name": "",
         "offsetgroup": "",
         "orientation": "v",
         "showlegend": false,
         "textposition": "auto",
         "type": "bar",
         "x": [
          "English",
          "Spanish",
          "Hindi",
          "French",
          "Italian",
          "Portuguese",
          "Indonesian",
          "Japanese",
          "Korean",
          "German",
          "Turkish",
          "Mandarin",
          "Polish",
          "Marathi",
          "Dutch",
          "Filipino",
          "Thai",
          "Swedish",
          "Russian",
          "Bengali",
          "Akan",
          "Arabic",
          "Tamil",
          "Khmer",
          "Thia",
          "Georgian",
          "Norwegian",
          "Malay",
          "Taiwanese",
          "Catalan",
          "Basque",
          "Ukranian"
         ],
         "xaxis": "x",
         "y": [
          422,
          39,
          35,
          21,
          14,
          12,
          9,
          8,
          7,
          5,
          5,
          3,
          3,
          3,
          3,
          2,
          2,
          2,
          2,
          1,
          1,
          1,
          1,
          1,
          1,
          1,
          1,
          1,
          1,
          1,
          1,
          1
         ],
         "yaxis": "y"
        }
       ],
       "layout": {
        "barmode": "relative",
        "legend": {
         "tracegroupgap": 0
        },
        "template": {
         "data": {
          "bar": [
           {
            "error_x": {
             "color": "#2a3f5f"
            },
            "error_y": {
             "color": "#2a3f5f"
            },
            "marker": {
             "line": {
              "color": "#E5ECF6",
              "width": 0.5
             },
             "pattern": {
              "fillmode": "overlay",
              "size": 10,
              "solidity": 0.2
             }
            },
            "type": "bar"
           }
          ],
          "barpolar": [
           {
            "marker": {
             "line": {
              "color": "#E5ECF6",
              "width": 0.5
             },
             "pattern": {
              "fillmode": "overlay",
              "size": 10,
              "solidity": 0.2
             }
            },
            "type": "barpolar"
           }
          ],
          "carpet": [
           {
            "aaxis": {
             "endlinecolor": "#2a3f5f",
             "gridcolor": "white",
             "linecolor": "white",
             "minorgridcolor": "white",
             "startlinecolor": "#2a3f5f"
            },
            "baxis": {
             "endlinecolor": "#2a3f5f",
             "gridcolor": "white",
             "linecolor": "white",
             "minorgridcolor": "white",
             "startlinecolor": "#2a3f5f"
            },
            "type": "carpet"
           }
          ],
          "choropleth": [
           {
            "colorbar": {
             "outlinewidth": 0,
             "ticks": ""
            },
            "type": "choropleth"
           }
          ],
          "contour": [
           {
            "colorbar": {
             "outlinewidth": 0,
             "ticks": ""
            },
            "colorscale": [
             [
              0,
              "#0d0887"
             ],
             [
              0.1111111111111111,
              "#46039f"
             ],
             [
              0.2222222222222222,
              "#7201a8"
             ],
             [
              0.3333333333333333,
              "#9c179e"
             ],
             [
              0.4444444444444444,
              "#bd3786"
             ],
             [
              0.5555555555555556,
              "#d8576b"
             ],
             [
              0.6666666666666666,
              "#ed7953"
             ],
             [
              0.7777777777777778,
              "#fb9f3a"
             ],
             [
              0.8888888888888888,
              "#fdca26"
             ],
             [
              1,
              "#f0f921"
             ]
            ],
            "type": "contour"
           }
          ],
          "contourcarpet": [
           {
            "colorbar": {
             "outlinewidth": 0,
             "ticks": ""
            },
            "type": "contourcarpet"
           }
          ],
          "heatmap": [
           {
            "colorbar": {
             "outlinewidth": 0,
             "ticks": ""
            },
            "colorscale": [
             [
              0,
              "#0d0887"
             ],
             [
              0.1111111111111111,
              "#46039f"
             ],
             [
              0.2222222222222222,
              "#7201a8"
             ],
             [
              0.3333333333333333,
              "#9c179e"
             ],
             [
              0.4444444444444444,
              "#bd3786"
             ],
             [
              0.5555555555555556,
              "#d8576b"
             ],
             [
              0.6666666666666666,
              "#ed7953"
             ],
             [
              0.7777777777777778,
              "#fb9f3a"
             ],
             [
              0.8888888888888888,
              "#fdca26"
             ],
             [
              1,
              "#f0f921"
             ]
            ],
            "type": "heatmap"
           }
          ],
          "heatmapgl": [
           {
            "colorbar": {
             "outlinewidth": 0,
             "ticks": ""
            },
            "colorscale": [
             [
              0,
              "#0d0887"
             ],
             [
              0.1111111111111111,
              "#46039f"
             ],
             [
              0.2222222222222222,
              "#7201a8"
             ],
             [
              0.3333333333333333,
              "#9c179e"
             ],
             [
              0.4444444444444444,
              "#bd3786"
             ],
             [
              0.5555555555555556,
              "#d8576b"
             ],
             [
              0.6666666666666666,
              "#ed7953"
             ],
             [
              0.7777777777777778,
              "#fb9f3a"
             ],
             [
              0.8888888888888888,
              "#fdca26"
             ],
             [
              1,
              "#f0f921"
             ]
            ],
            "type": "heatmapgl"
           }
          ],
          "histogram": [
           {
            "marker": {
             "pattern": {
              "fillmode": "overlay",
              "size": 10,
              "solidity": 0.2
             }
            },
            "type": "histogram"
           }
          ],
          "histogram2d": [
           {
            "colorbar": {
             "outlinewidth": 0,
             "ticks": ""
            },
            "colorscale": [
             [
              0,
              "#0d0887"
             ],
             [
              0.1111111111111111,
              "#46039f"
             ],
             [
              0.2222222222222222,
              "#7201a8"
             ],
             [
              0.3333333333333333,
              "#9c179e"
             ],
             [
              0.4444444444444444,
              "#bd3786"
             ],
             [
              0.5555555555555556,
              "#d8576b"
             ],
             [
              0.6666666666666666,
              "#ed7953"
             ],
             [
              0.7777777777777778,
              "#fb9f3a"
             ],
             [
              0.8888888888888888,
              "#fdca26"
             ],
             [
              1,
              "#f0f921"
             ]
            ],
            "type": "histogram2d"
           }
          ],
          "histogram2dcontour": [
           {
            "colorbar": {
             "outlinewidth": 0,
             "ticks": ""
            },
            "colorscale": [
             [
              0,
              "#0d0887"
             ],
             [
              0.1111111111111111,
              "#46039f"
             ],
             [
              0.2222222222222222,
              "#7201a8"
             ],
             [
              0.3333333333333333,
              "#9c179e"
             ],
             [
              0.4444444444444444,
              "#bd3786"
             ],
             [
              0.5555555555555556,
              "#d8576b"
             ],
             [
              0.6666666666666666,
              "#ed7953"
             ],
             [
              0.7777777777777778,
              "#fb9f3a"
             ],
             [
              0.8888888888888888,
              "#fdca26"
             ],
             [
              1,
              "#f0f921"
             ]
            ],
            "type": "histogram2dcontour"
           }
          ],
          "mesh3d": [
           {
            "colorbar": {
             "outlinewidth": 0,
             "ticks": ""
            },
            "type": "mesh3d"
           }
          ],
          "parcoords": [
           {
            "line": {
             "colorbar": {
              "outlinewidth": 0,
              "ticks": ""
             }
            },
            "type": "parcoords"
           }
          ],
          "pie": [
           {
            "automargin": true,
            "type": "pie"
           }
          ],
          "scatter": [
           {
            "marker": {
             "colorbar": {
              "outlinewidth": 0,
              "ticks": ""
             }
            },
            "type": "scatter"
           }
          ],
          "scatter3d": [
           {
            "line": {
             "colorbar": {
              "outlinewidth": 0,
              "ticks": ""
             }
            },
            "marker": {
             "colorbar": {
              "outlinewidth": 0,
              "ticks": ""
             }
            },
            "type": "scatter3d"
           }
          ],
          "scattercarpet": [
           {
            "marker": {
             "colorbar": {
              "outlinewidth": 0,
              "ticks": ""
             }
            },
            "type": "scattercarpet"
           }
          ],
          "scattergeo": [
           {
            "marker": {
             "colorbar": {
              "outlinewidth": 0,
              "ticks": ""
             }
            },
            "type": "scattergeo"
           }
          ],
          "scattergl": [
           {
            "marker": {
             "colorbar": {
              "outlinewidth": 0,
              "ticks": ""
             }
            },
            "type": "scattergl"
           }
          ],
          "scattermapbox": [
           {
            "marker": {
             "colorbar": {
              "outlinewidth": 0,
              "ticks": ""
             }
            },
            "type": "scattermapbox"
           }
          ],
          "scatterpolar": [
           {
            "marker": {
             "colorbar": {
              "outlinewidth": 0,
              "ticks": ""
             }
            },
            "type": "scatterpolar"
           }
          ],
          "scatterpolargl": [
           {
            "marker": {
             "colorbar": {
              "outlinewidth": 0,
              "ticks": ""
             }
            },
            "type": "scatterpolargl"
           }
          ],
          "scatterternary": [
           {
            "marker": {
             "colorbar": {
              "outlinewidth": 0,
              "ticks": ""
             }
            },
            "type": "scatterternary"
           }
          ],
          "surface": [
           {
            "colorbar": {
             "outlinewidth": 0,
             "ticks": ""
            },
            "colorscale": [
             [
              0,
              "#0d0887"
             ],
             [
              0.1111111111111111,
              "#46039f"
             ],
             [
              0.2222222222222222,
              "#7201a8"
             ],
             [
              0.3333333333333333,
              "#9c179e"
             ],
             [
              0.4444444444444444,
              "#bd3786"
             ],
             [
              0.5555555555555556,
              "#d8576b"
             ],
             [
              0.6666666666666666,
              "#ed7953"
             ],
             [
              0.7777777777777778,
              "#fb9f3a"
             ],
             [
              0.8888888888888888,
              "#fdca26"
             ],
             [
              1,
              "#f0f921"
             ]
            ],
            "type": "surface"
           }
          ],
          "table": [
           {
            "cells": {
             "fill": {
              "color": "#EBF0F8"
             },
             "line": {
              "color": "white"
             }
            },
            "header": {
             "fill": {
              "color": "#C8D4E3"
             },
             "line": {
              "color": "white"
             }
            },
            "type": "table"
           }
          ]
         },
         "layout": {
          "annotationdefaults": {
           "arrowcolor": "#2a3f5f",
           "arrowhead": 0,
           "arrowwidth": 1
          },
          "autotypenumbers": "strict",
          "coloraxis": {
           "colorbar": {
            "outlinewidth": 0,
            "ticks": ""
           }
          },
          "colorscale": {
           "diverging": [
            [
             0,
             "#8e0152"
            ],
            [
             0.1,
             "#c51b7d"
            ],
            [
             0.2,
             "#de77ae"
            ],
            [
             0.3,
             "#f1b6da"
            ],
            [
             0.4,
             "#fde0ef"
            ],
            [
             0.5,
             "#f7f7f7"
            ],
            [
             0.6,
             "#e6f5d0"
            ],
            [
             0.7,
             "#b8e186"
            ],
            [
             0.8,
             "#7fbc41"
            ],
            [
             0.9,
             "#4d9221"
            ],
            [
             1,
             "#276419"
            ]
           ],
           "sequential": [
            [
             0,
             "#0d0887"
            ],
            [
             0.1111111111111111,
             "#46039f"
            ],
            [
             0.2222222222222222,
             "#7201a8"
            ],
            [
             0.3333333333333333,
             "#9c179e"
            ],
            [
             0.4444444444444444,
             "#bd3786"
            ],
            [
             0.5555555555555556,
             "#d8576b"
            ],
            [
             0.6666666666666666,
             "#ed7953"
            ],
            [
             0.7777777777777778,
             "#fb9f3a"
            ],
            [
             0.8888888888888888,
             "#fdca26"
            ],
            [
             1,
             "#f0f921"
            ]
           ],
           "sequentialminus": [
            [
             0,
             "#0d0887"
            ],
            [
             0.1111111111111111,
             "#46039f"
            ],
            [
             0.2222222222222222,
             "#7201a8"
            ],
            [
             0.3333333333333333,
             "#9c179e"
            ],
            [
             0.4444444444444444,
             "#bd3786"
            ],
            [
             0.5555555555555556,
             "#d8576b"
            ],
            [
             0.6666666666666666,
             "#ed7953"
            ],
            [
             0.7777777777777778,
             "#fb9f3a"
            ],
            [
             0.8888888888888888,
             "#fdca26"
            ],
            [
             1,
             "#f0f921"
            ]
           ]
          },
          "colorway": [
           "#636efa",
           "#EF553B",
           "#00cc96",
           "#ab63fa",
           "#FFA15A",
           "#19d3f3",
           "#FF6692",
           "#B6E880",
           "#FF97FF",
           "#FECB52"
          ],
          "font": {
           "color": "#2a3f5f"
          },
          "geo": {
           "bgcolor": "white",
           "lakecolor": "white",
           "landcolor": "#E5ECF6",
           "showlakes": true,
           "showland": true,
           "subunitcolor": "white"
          },
          "hoverlabel": {
           "align": "left"
          },
          "hovermode": "closest",
          "mapbox": {
           "style": "light"
          },
          "paper_bgcolor": "white",
          "plot_bgcolor": "#E5ECF6",
          "polar": {
           "angularaxis": {
            "gridcolor": "white",
            "linecolor": "white",
            "ticks": ""
           },
           "bgcolor": "#E5ECF6",
           "radialaxis": {
            "gridcolor": "white",
            "linecolor": "white",
            "ticks": ""
           }
          },
          "scene": {
           "xaxis": {
            "backgroundcolor": "#E5ECF6",
            "gridcolor": "white",
            "gridwidth": 2,
            "linecolor": "white",
            "showbackground": true,
            "ticks": "",
            "zerolinecolor": "white"
           },
           "yaxis": {
            "backgroundcolor": "#E5ECF6",
            "gridcolor": "white",
            "gridwidth": 2,
            "linecolor": "white",
            "showbackground": true,
            "ticks": "",
            "zerolinecolor": "white"
           },
           "zaxis": {
            "backgroundcolor": "#E5ECF6",
            "gridcolor": "white",
            "gridwidth": 2,
            "linecolor": "white",
            "showbackground": true,
            "ticks": "",
            "zerolinecolor": "white"
           }
          },
          "shapedefaults": {
           "line": {
            "color": "#2a3f5f"
           }
          },
          "ternary": {
           "aaxis": {
            "gridcolor": "white",
            "linecolor": "white",
            "ticks": ""
           },
           "baxis": {
            "gridcolor": "white",
            "linecolor": "white",
            "ticks": ""
           },
           "bgcolor": "#E5ECF6",
           "caxis": {
            "gridcolor": "white",
            "linecolor": "white",
            "ticks": ""
           }
          },
          "title": {
           "x": 0.05
          },
          "xaxis": {
           "automargin": true,
           "gridcolor": "white",
           "linecolor": "white",
           "ticks": "",
           "title": {
            "standoff": 15
           },
           "zerolinecolor": "white",
           "zerolinewidth": 2
          },
          "yaxis": {
           "automargin": true,
           "gridcolor": "white",
           "linecolor": "white",
           "ticks": "",
           "title": {
            "standoff": 15
           },
           "zerolinecolor": "white",
           "zerolinewidth": 2
          }
         }
        },
        "title": {
         "text": "Language used in the movie"
        },
        "xaxis": {
         "anchor": "y",
         "domain": [
          0,
          1
         ],
         "title": {
          "text": "Language"
         }
        },
        "yaxis": {
         "anchor": "x",
         "domain": [
          0,
          1
         ],
         "title": {
          "text": "Number of Movies"
         }
        }
       }
      }
     },
     "metadata": {},
     "output_type": "display_data"
    }
   ],
   "source": [
    "px.bar(language, x=language.index, y=language.values, title='Language used in the movie',\n",
    "        labels={'y':'Number of Movies', 'index':'Language'})"
   ]
  },
  {
   "cell_type": "markdown",
   "metadata": {},
   "source": [
    "#### Top 5 most used languages in movies\n",
    "##### 1. English\n",
    "##### 2. Spanish\n",
    "##### 3. Hindi\n",
    "##### 4. French\n",
    "##### 5. Italian"
   ]
  },
  {
   "cell_type": "markdown",
   "metadata": {},
   "source": [
    "### 5. IMDB Score Analysis"
   ]
  },
  {
   "cell_type": "code",
   "execution_count": 31,
   "metadata": {},
   "outputs": [
    {
     "data": {
      "text/plain": [
       "count    584.000000\n",
       "mean       6.271747\n",
       "std        0.979256\n",
       "min        2.500000\n",
       "25%        5.700000\n",
       "50%        6.350000\n",
       "75%        7.000000\n",
       "max        9.000000\n",
       "Name: IMDB Score, dtype: float64"
      ]
     },
     "execution_count": 31,
     "metadata": {},
     "output_type": "execute_result"
    }
   ],
   "source": [
    "df['IMDB Score'].describe()"
   ]
  },
  {
   "cell_type": "code",
   "execution_count": 32,
   "metadata": {},
   "outputs": [
    {
     "data": {
      "text/html": [
       "<div>\n",
       "<style scoped>\n",
       "    .dataframe tbody tr th:only-of-type {\n",
       "        vertical-align: middle;\n",
       "    }\n",
       "\n",
       "    .dataframe tbody tr th {\n",
       "        vertical-align: top;\n",
       "    }\n",
       "\n",
       "    .dataframe thead th {\n",
       "        text-align: right;\n",
       "    }\n",
       "</style>\n",
       "<table border=\"1\" class=\"dataframe\">\n",
       "  <thead>\n",
       "    <tr style=\"text-align: right;\">\n",
       "      <th></th>\n",
       "      <th>Title</th>\n",
       "      <th>Genre</th>\n",
       "      <th>Premiere</th>\n",
       "      <th>Runtime</th>\n",
       "      <th>IMDB Score</th>\n",
       "      <th>Language</th>\n",
       "      <th>Premiere_year</th>\n",
       "      <th>Premiere_month</th>\n",
       "      <th>Premiere_day</th>\n",
       "    </tr>\n",
       "  </thead>\n",
       "  <tbody>\n",
       "    <tr>\n",
       "      <th>583</th>\n",
       "      <td>David Attenborough: A Life on Our Planet</td>\n",
       "      <td>Documentary</td>\n",
       "      <td>2020-10-04</td>\n",
       "      <td>83</td>\n",
       "      <td>9.0</td>\n",
       "      <td>English</td>\n",
       "      <td>2020</td>\n",
       "      <td>10</td>\n",
       "      <td>4</td>\n",
       "    </tr>\n",
       "  </tbody>\n",
       "</table>\n",
       "</div>"
      ],
      "text/plain": [
       "                                        Title        Genre   Premiere  \\\n",
       "583  David Attenborough: A Life on Our Planet  Documentary 2020-10-04   \n",
       "\n",
       "     Runtime  IMDB Score Language  Premiere_year  Premiere_month  Premiere_day  \n",
       "583       83         9.0  English           2020              10             4  "
      ]
     },
     "execution_count": 32,
     "metadata": {},
     "output_type": "execute_result"
    }
   ],
   "source": [
    "df[df['IMDB Score']==df['IMDB Score'].max()]"
   ]
  },
  {
   "cell_type": "code",
   "execution_count": 33,
   "metadata": {},
   "outputs": [
    {
     "data": {
      "text/html": [
       "<div>\n",
       "<style scoped>\n",
       "    .dataframe tbody tr th:only-of-type {\n",
       "        vertical-align: middle;\n",
       "    }\n",
       "\n",
       "    .dataframe tbody tr th {\n",
       "        vertical-align: top;\n",
       "    }\n",
       "\n",
       "    .dataframe thead th {\n",
       "        text-align: right;\n",
       "    }\n",
       "</style>\n",
       "<table border=\"1\" class=\"dataframe\">\n",
       "  <thead>\n",
       "    <tr style=\"text-align: right;\">\n",
       "      <th></th>\n",
       "      <th>Title</th>\n",
       "      <th>Genre</th>\n",
       "      <th>Premiere</th>\n",
       "      <th>Runtime</th>\n",
       "      <th>IMDB Score</th>\n",
       "      <th>Language</th>\n",
       "      <th>Premiere_year</th>\n",
       "      <th>Premiere_month</th>\n",
       "      <th>Premiere_day</th>\n",
       "    </tr>\n",
       "  </thead>\n",
       "  <tbody>\n",
       "    <tr>\n",
       "      <th>0</th>\n",
       "      <td>Enter the Anime</td>\n",
       "      <td>Documentary</td>\n",
       "      <td>2019-08-05</td>\n",
       "      <td>58</td>\n",
       "      <td>2.5</td>\n",
       "      <td>English/Japanese</td>\n",
       "      <td>2019</td>\n",
       "      <td>8</td>\n",
       "      <td>5</td>\n",
       "    </tr>\n",
       "  </tbody>\n",
       "</table>\n",
       "</div>"
      ],
      "text/plain": [
       "             Title        Genre   Premiere  Runtime  IMDB Score  \\\n",
       "0  Enter the Anime  Documentary 2019-08-05       58         2.5   \n",
       "\n",
       "           Language  Premiere_year  Premiere_month  Premiere_day  \n",
       "0  English/Japanese           2019               8             5  "
      ]
     },
     "execution_count": 33,
     "metadata": {},
     "output_type": "execute_result"
    }
   ],
   "source": [
    "df[df['IMDB Score']==df['IMDB Score'].min()]"
   ]
  },
  {
   "cell_type": "markdown",
   "metadata": {},
   "source": [
    "#### - The highest imdb score of 9 points belongs to the movie 'David Attenborough: A Life on Our Planet'\n",
    "#### - The lowest imdb score of 2.5 points belongs to the movie 'Enter the Anime'\n",
    "#### - Both movies are documentary genre"
   ]
  },
  {
   "cell_type": "markdown",
   "metadata": {},
   "source": [
    "### *Is there any correlation?*"
   ]
  },
  {
   "cell_type": "code",
   "execution_count": 37,
   "metadata": {},
   "outputs": [
    {
     "data": {
      "text/html": [
       "<div>\n",
       "<style scoped>\n",
       "    .dataframe tbody tr th:only-of-type {\n",
       "        vertical-align: middle;\n",
       "    }\n",
       "\n",
       "    .dataframe tbody tr th {\n",
       "        vertical-align: top;\n",
       "    }\n",
       "\n",
       "    .dataframe thead th {\n",
       "        text-align: right;\n",
       "    }\n",
       "</style>\n",
       "<table border=\"1\" class=\"dataframe\">\n",
       "  <thead>\n",
       "    <tr style=\"text-align: right;\">\n",
       "      <th></th>\n",
       "      <th>Runtime</th>\n",
       "      <th>IMDB Score</th>\n",
       "      <th>Premiere_year</th>\n",
       "      <th>Premiere_month</th>\n",
       "      <th>Premiere_day</th>\n",
       "    </tr>\n",
       "  </thead>\n",
       "  <tbody>\n",
       "    <tr>\n",
       "      <th>Runtime</th>\n",
       "      <td>1.000000</td>\n",
       "      <td>-0.040896</td>\n",
       "      <td>0.069262</td>\n",
       "      <td>-0.035550</td>\n",
       "      <td>-0.024225</td>\n",
       "    </tr>\n",
       "    <tr>\n",
       "      <th>IMDB Score</th>\n",
       "      <td>-0.040896</td>\n",
       "      <td>1.000000</td>\n",
       "      <td>-0.141347</td>\n",
       "      <td>0.108623</td>\n",
       "      <td>0.057651</td>\n",
       "    </tr>\n",
       "    <tr>\n",
       "      <th>Premiere_year</th>\n",
       "      <td>0.069262</td>\n",
       "      <td>-0.141347</td>\n",
       "      <td>1.000000</td>\n",
       "      <td>-0.219262</td>\n",
       "      <td>-0.052283</td>\n",
       "    </tr>\n",
       "    <tr>\n",
       "      <th>Premiere_month</th>\n",
       "      <td>-0.035550</td>\n",
       "      <td>0.108623</td>\n",
       "      <td>-0.219262</td>\n",
       "      <td>1.000000</td>\n",
       "      <td>-0.041895</td>\n",
       "    </tr>\n",
       "    <tr>\n",
       "      <th>Premiere_day</th>\n",
       "      <td>-0.024225</td>\n",
       "      <td>0.057651</td>\n",
       "      <td>-0.052283</td>\n",
       "      <td>-0.041895</td>\n",
       "      <td>1.000000</td>\n",
       "    </tr>\n",
       "  </tbody>\n",
       "</table>\n",
       "</div>"
      ],
      "text/plain": [
       "                 Runtime  IMDB Score  Premiere_year  Premiere_month  \\\n",
       "Runtime         1.000000   -0.040896       0.069262       -0.035550   \n",
       "IMDB Score     -0.040896    1.000000      -0.141347        0.108623   \n",
       "Premiere_year   0.069262   -0.141347       1.000000       -0.219262   \n",
       "Premiere_month -0.035550    0.108623      -0.219262        1.000000   \n",
       "Premiere_day   -0.024225    0.057651      -0.052283       -0.041895   \n",
       "\n",
       "                Premiere_day  \n",
       "Runtime            -0.024225  \n",
       "IMDB Score          0.057651  \n",
       "Premiere_year      -0.052283  \n",
       "Premiere_month     -0.041895  \n",
       "Premiere_day        1.000000  "
      ]
     },
     "execution_count": 37,
     "metadata": {},
     "output_type": "execute_result"
    }
   ],
   "source": [
    "corr_matrix = df.corr(method=\"pearson\")\n",
    "corr_matrix"
   ]
  },
  {
   "cell_type": "code",
   "execution_count": 40,
   "metadata": {},
   "outputs": [
    {
     "data": {
      "text/plain": [
       "<AxesSubplot:>"
      ]
     },
     "execution_count": 40,
     "metadata": {},
     "output_type": "execute_result"
    },
    {
     "data": {
      "image/png": "[encoded data removed]",
      "text/plain": [
       "<Figure size 432x288 with 2 Axes>"
      ]
     },
     "metadata": {
      "needs_background": "light"
     },
     "output_type": "display_data"
    }
   ],
   "source": [
    "sns.heatmap(corr_matrix, annot=True)"
   ]
  },
  {
   "cell_type": "code",
   "execution_count": 48,
   "metadata": {},
   "outputs": [],
   "source": [
    "df_numerized = df.copy()"
   ]
  },
  {
   "cell_type": "code",
   "execution_count": 49,
   "metadata": {},
   "outputs": [
    {
     "data": {
      "text/html": [
       "<div>\n",
       "<style scoped>\n",
       "    .dataframe tbody tr th:only-of-type {\n",
       "        vertical-align: middle;\n",
       "    }\n",
       "\n",
       "    .dataframe tbody tr th {\n",
       "        vertical-align: top;\n",
       "    }\n",
       "\n",
       "    .dataframe thead th {\n",
       "        text-align: right;\n",
       "    }\n",
       "</style>\n",
       "<table border=\"1\" class=\"dataframe\">\n",
       "  <thead>\n",
       "    <tr style=\"text-align: right;\">\n",
       "      <th></th>\n",
       "      <th>Title</th>\n",
       "      <th>Genre</th>\n",
       "      <th>Premiere</th>\n",
       "      <th>Runtime</th>\n",
       "      <th>IMDB Score</th>\n",
       "      <th>Language</th>\n",
       "      <th>Premiere_year</th>\n",
       "      <th>Premiere_month</th>\n",
       "      <th>Premiere_day</th>\n",
       "    </tr>\n",
       "  </thead>\n",
       "  <tbody>\n",
       "    <tr>\n",
       "      <th>0</th>\n",
       "      <td>147</td>\n",
       "      <td>45</td>\n",
       "      <td>2019-08-05</td>\n",
       "      <td>58</td>\n",
       "      <td>2.5</td>\n",
       "      <td>6</td>\n",
       "      <td>2019</td>\n",
       "      <td>8</td>\n",
       "      <td>5</td>\n",
       "    </tr>\n",
       "    <tr>\n",
       "      <th>1</th>\n",
       "      <td>120</td>\n",
       "      <td>106</td>\n",
       "      <td>2020-08-21</td>\n",
       "      <td>81</td>\n",
       "      <td>2.6</td>\n",
       "      <td>29</td>\n",
       "      <td>2020</td>\n",
       "      <td>8</td>\n",
       "      <td>21</td>\n",
       "    </tr>\n",
       "    <tr>\n",
       "      <th>2</th>\n",
       "      <td>433</td>\n",
       "      <td>93</td>\n",
       "      <td>2019-12-26</td>\n",
       "      <td>79</td>\n",
       "      <td>2.6</td>\n",
       "      <td>20</td>\n",
       "      <td>2019</td>\n",
       "      <td>12</td>\n",
       "      <td>26</td>\n",
       "    </tr>\n",
       "    <tr>\n",
       "      <th>3</th>\n",
       "      <td>500</td>\n",
       "      <td>63</td>\n",
       "      <td>2018-01-19</td>\n",
       "      <td>94</td>\n",
       "      <td>3.2</td>\n",
       "      <td>2</td>\n",
       "      <td>2018</td>\n",
       "      <td>1</td>\n",
       "      <td>19</td>\n",
       "    </tr>\n",
       "    <tr>\n",
       "      <th>4</th>\n",
       "      <td>243</td>\n",
       "      <td>73</td>\n",
       "      <td>2020-10-30</td>\n",
       "      <td>90</td>\n",
       "      <td>3.4</td>\n",
       "      <td>18</td>\n",
       "      <td>2020</td>\n",
       "      <td>10</td>\n",
       "      <td>30</td>\n",
       "    </tr>\n",
       "    <tr>\n",
       "      <th>...</th>\n",
       "      <td>...</td>\n",
       "      <td>...</td>\n",
       "      <td>...</td>\n",
       "      <td>...</td>\n",
       "      <td>...</td>\n",
       "      <td>...</td>\n",
       "      <td>...</td>\n",
       "      <td>...</td>\n",
       "      <td>...</td>\n",
       "    </tr>\n",
       "    <tr>\n",
       "      <th>579</th>\n",
       "      <td>425</td>\n",
       "      <td>40</td>\n",
       "      <td>2018-12-31</td>\n",
       "      <td>125</td>\n",
       "      <td>8.4</td>\n",
       "      <td>2</td>\n",
       "      <td>2018</td>\n",
       "      <td>12</td>\n",
       "      <td>31</td>\n",
       "    </tr>\n",
       "    <tr>\n",
       "      <th>580</th>\n",
       "      <td>575</td>\n",
       "      <td>45</td>\n",
       "      <td>2015-10-09</td>\n",
       "      <td>91</td>\n",
       "      <td>8.4</td>\n",
       "      <td>13</td>\n",
       "      <td>2015</td>\n",
       "      <td>10</td>\n",
       "      <td>9</td>\n",
       "    </tr>\n",
       "    <tr>\n",
       "      <th>581</th>\n",
       "      <td>410</td>\n",
       "      <td>74</td>\n",
       "      <td>2018-12-16</td>\n",
       "      <td>153</td>\n",
       "      <td>8.5</td>\n",
       "      <td>2</td>\n",
       "      <td>2018</td>\n",
       "      <td>12</td>\n",
       "      <td>16</td>\n",
       "    </tr>\n",
       "    <tr>\n",
       "      <th>582</th>\n",
       "      <td>145</td>\n",
       "      <td>45</td>\n",
       "      <td>2020-12-08</td>\n",
       "      <td>89</td>\n",
       "      <td>8.6</td>\n",
       "      <td>28</td>\n",
       "      <td>2020</td>\n",
       "      <td>12</td>\n",
       "      <td>8</td>\n",
       "    </tr>\n",
       "    <tr>\n",
       "      <th>583</th>\n",
       "      <td>121</td>\n",
       "      <td>45</td>\n",
       "      <td>2020-10-04</td>\n",
       "      <td>83</td>\n",
       "      <td>9.0</td>\n",
       "      <td>2</td>\n",
       "      <td>2020</td>\n",
       "      <td>10</td>\n",
       "      <td>4</td>\n",
       "    </tr>\n",
       "  </tbody>\n",
       "</table>\n",
       "<p>584 rows × 9 columns</p>\n",
       "</div>"
      ],
      "text/plain": [
       "     Title  Genre   Premiere  Runtime  IMDB Score  Language  Premiere_year  \\\n",
       "0      147     45 2019-08-05       58         2.5         6           2019   \n",
       "1      120    106 2020-08-21       81         2.6        29           2020   \n",
       "2      433     93 2019-12-26       79         2.6        20           2019   \n",
       "3      500     63 2018-01-19       94         3.2         2           2018   \n",
       "4      243     73 2020-10-30       90         3.4        18           2020   \n",
       "..     ...    ...        ...      ...         ...       ...            ...   \n",
       "579    425     40 2018-12-31      125         8.4         2           2018   \n",
       "580    575     45 2015-10-09       91         8.4        13           2015   \n",
       "581    410     74 2018-12-16      153         8.5         2           2018   \n",
       "582    145     45 2020-12-08       89         8.6        28           2020   \n",
       "583    121     45 2020-10-04       83         9.0         2           2020   \n",
       "\n",
       "     Premiere_month  Premiere_day  \n",
       "0                 8             5  \n",
       "1                 8            21  \n",
       "2                12            26  \n",
       "3                 1            19  \n",
       "4                10            30  \n",
       "..              ...           ...  \n",
       "579              12            31  \n",
       "580              10             9  \n",
       "581              12            16  \n",
       "582              12             8  \n",
       "583              10             4  \n",
       "\n",
       "[584 rows x 9 columns]"
      ]
     },
     "execution_count": 49,
     "metadata": {},
     "output_type": "execute_result"
    }
   ],
   "source": [
    "for col in df_numerized.columns:\n",
    "    if(df_numerized[col].dtype=='object'):\n",
    "        df_numerized[col] = df_numerized[col].astype('category')\n",
    "        df_numerized[col] = df_numerized[col].cat.codes\n",
    "df_numerized"
   ]
  },
  {
   "cell_type": "code",
   "execution_count": 51,
   "metadata": {},
   "outputs": [
    {
     "data": {
      "text/html": [
       "<div>\n",
       "<style scoped>\n",
       "    .dataframe tbody tr th:only-of-type {\n",
       "        vertical-align: middle;\n",
       "    }\n",
       "\n",
       "    .dataframe tbody tr th {\n",
       "        vertical-align: top;\n",
       "    }\n",
       "\n",
       "    .dataframe thead th {\n",
       "        text-align: right;\n",
       "    }\n",
       "</style>\n",
       "<table border=\"1\" class=\"dataframe\">\n",
       "  <thead>\n",
       "    <tr style=\"text-align: right;\">\n",
       "      <th></th>\n",
       "      <th>Title</th>\n",
       "      <th>Genre</th>\n",
       "      <th>Runtime</th>\n",
       "      <th>IMDB Score</th>\n",
       "      <th>Language</th>\n",
       "      <th>Premiere_year</th>\n",
       "      <th>Premiere_month</th>\n",
       "      <th>Premiere_day</th>\n",
       "    </tr>\n",
       "  </thead>\n",
       "  <tbody>\n",
       "    <tr>\n",
       "      <th>Title</th>\n",
       "      <td>1.000000</td>\n",
       "      <td>0.053652</td>\n",
       "      <td>0.096852</td>\n",
       "      <td>-0.029844</td>\n",
       "      <td>-0.022592</td>\n",
       "      <td>-0.010128</td>\n",
       "      <td>-0.091728</td>\n",
       "      <td>-0.056876</td>\n",
       "    </tr>\n",
       "    <tr>\n",
       "      <th>Genre</th>\n",
       "      <td>0.053652</td>\n",
       "      <td>1.000000</td>\n",
       "      <td>0.201278</td>\n",
       "      <td>-0.180935</td>\n",
       "      <td>0.053456</td>\n",
       "      <td>0.018715</td>\n",
       "      <td>-0.038760</td>\n",
       "      <td>0.062394</td>\n",
       "    </tr>\n",
       "    <tr>\n",
       "      <th>Runtime</th>\n",
       "      <td>0.096852</td>\n",
       "      <td>0.201278</td>\n",
       "      <td>1.000000</td>\n",
       "      <td>-0.040896</td>\n",
       "      <td>0.116494</td>\n",
       "      <td>0.069262</td>\n",
       "      <td>-0.035550</td>\n",
       "      <td>-0.024225</td>\n",
       "    </tr>\n",
       "    <tr>\n",
       "      <th>IMDB Score</th>\n",
       "      <td>-0.029844</td>\n",
       "      <td>-0.180935</td>\n",
       "      <td>-0.040896</td>\n",
       "      <td>1.000000</td>\n",
       "      <td>-0.153751</td>\n",
       "      <td>-0.141347</td>\n",
       "      <td>0.108623</td>\n",
       "      <td>0.057651</td>\n",
       "    </tr>\n",
       "    <tr>\n",
       "      <th>Language</th>\n",
       "      <td>-0.022592</td>\n",
       "      <td>0.053456</td>\n",
       "      <td>0.116494</td>\n",
       "      <td>-0.153751</td>\n",
       "      <td>1.000000</td>\n",
       "      <td>0.302149</td>\n",
       "      <td>-0.037216</td>\n",
       "      <td>-0.002101</td>\n",
       "    </tr>\n",
       "    <tr>\n",
       "      <th>Premiere_year</th>\n",
       "      <td>-0.010128</td>\n",
       "      <td>0.018715</td>\n",
       "      <td>0.069262</td>\n",
       "      <td>-0.141347</td>\n",
       "      <td>0.302149</td>\n",
       "      <td>1.000000</td>\n",
       "      <td>-0.219262</td>\n",
       "      <td>-0.052283</td>\n",
       "    </tr>\n",
       "    <tr>\n",
       "      <th>Premiere_month</th>\n",
       "      <td>-0.091728</td>\n",
       "      <td>-0.038760</td>\n",
       "      <td>-0.035550</td>\n",
       "      <td>0.108623</td>\n",
       "      <td>-0.037216</td>\n",
       "      <td>-0.219262</td>\n",
       "      <td>1.000000</td>\n",
       "      <td>-0.041895</td>\n",
       "    </tr>\n",
       "    <tr>\n",
       "      <th>Premiere_day</th>\n",
       "      <td>-0.056876</td>\n",
       "      <td>0.062394</td>\n",
       "      <td>-0.024225</td>\n",
       "      <td>0.057651</td>\n",
       "      <td>-0.002101</td>\n",
       "      <td>-0.052283</td>\n",
       "      <td>-0.041895</td>\n",
       "      <td>1.000000</td>\n",
       "    </tr>\n",
       "  </tbody>\n",
       "</table>\n",
       "</div>"
      ],
      "text/plain": [
       "                   Title     Genre   Runtime  IMDB Score  Language  \\\n",
       "Title           1.000000  0.053652  0.096852   -0.029844 -0.022592   \n",
       "Genre           0.053652  1.000000  0.201278   -0.180935  0.053456   \n",
       "Runtime         0.096852  0.201278  1.000000   -0.040896  0.116494   \n",
       "IMDB Score     -0.029844 -0.180935 -0.040896    1.000000 -0.153751   \n",
       "Language       -0.022592  0.053456  0.116494   -0.153751  1.000000   \n",
       "Premiere_year  -0.010128  0.018715  0.069262   -0.141347  0.302149   \n",
       "Premiere_month -0.091728 -0.038760 -0.035550    0.108623 -0.037216   \n",
       "Premiere_day   -0.056876  0.062394 -0.024225    0.057651 -0.002101   \n",
       "\n",
       "                Premiere_year  Premiere_month  Premiere_day  \n",
       "Title               -0.010128       -0.091728     -0.056876  \n",
       "Genre                0.018715       -0.038760      0.062394  \n",
       "Runtime              0.069262       -0.035550     -0.024225  \n",
       "IMDB Score          -0.141347        0.108623      0.057651  \n",
       "Language             0.302149       -0.037216     -0.002101  \n",
       "Premiere_year        1.000000       -0.219262     -0.052283  \n",
       "Premiere_month      -0.219262        1.000000     -0.041895  \n",
       "Premiere_day        -0.052283       -0.041895      1.000000  "
      ]
     },
     "execution_count": 51,
     "metadata": {},
     "output_type": "execute_result"
    }
   ],
   "source": [
    "corr_matrix = df_numerized.corr(method=\"pearson\")\n",
    "corr_matrix"
   ]
  },
  {
   "cell_type": "code",
   "execution_count": 52,
   "metadata": {},
   "outputs": [
    {
     "data": {
      "text/plain": [
       "<AxesSubplot:>"
      ]
     },
     "execution_count": 52,
     "metadata": {},
     "output_type": "execute_result"
    },
    {
     "data": {
      "image/png": "[encoded data removed]",
      "text/plain": [
       "<Figure size 432x288 with 2 Axes>"
      ]
     },
     "metadata": {
      "needs_background": "light"
     },
     "output_type": "display_data"
    }
   ],
   "source": [
    "sns.heatmap(corr_matrix, annot=True)"
   ]
  },
  {
   "cell_type": "markdown",
   "metadata": {},
   "source": [
    "#### --> There is not much correlation between the attributes"
   ]
  }
 ],
 "metadata": {
  "interpreter": {
   "hash": "df8d0150a8c7a50f272976b6cfce9f453e1351e8cbc5f76c00f7e852e95401b4"
  },
  "kernelspec": {
   "display_name": "Python 3.9.7 64-bit",
   "language": "python",
   "name": "python3"
  },
  "language_info": {
   "codemirror_mode": {
    "name": "ipython",
    "version": 3
   },
   "file_extension": ".py",
   "mimetype": "text/x-python",
   "name": "python",
   "nbconvert_exporter": "python",
   "pygments_lexer": "ipython3",
   "version": "3.9.7"
  },
  "orig_nbformat": 4
 },
 "nbformat": 4,
 "nbformat_minor": 2
}
